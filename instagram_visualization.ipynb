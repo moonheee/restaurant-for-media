{
 "cells": [
  {
   "cell_type": "markdown",
   "id": "fd340a38-7373-4d9d-8a45-eff9101a96fc",
   "metadata": {},
   "source": [
    "\n",
    "# **이어지는 분석**\n",
    "<br>\n",
    "\n",
    "## 파급력 분석하기\n",
    "power = power3 = (기준일 후 게시물 개수 / [(가장 마지막 게시물 날짜- 기준일) / (마지막날짜 - 오래된 날짜) * 100] - 기준일 전 게시물 개수 / [(기준일 - 게시물 중 가장 오래된 날짜) / (마지막날짜 - 오래된 날짜) * 100]\n",
    "\n",
    "reliability2 = reference_after/(reference_affter - resource_count) * 100%\n",
    "\n",
    "\n",
    "## 신뢰도 분석하기\n",
    "reliability1 = resource_count / reference_after * 100% \n",
    "***\n",
    "\n",
    "* resource_count값을 평균 사람별로(방송별) 막대그래프 (x-20개 y-(0 , 200))  \n",
    "* file : power3(사람별 - 해당 미디어의 영향력) power3값을 평균 사람별로(방송별) 막대그래프 (x-20개 y-(-?, ?))  * (사람별 - 영향력의 크기) reliability2값을 평균 사람별로(방송별) 막대그래프 (x-20개 y-(-?, ?))  \n",
    "* (사람별 - 글을 작성할 확률) reliability값을 평균 사람별로(방송별) 막대그래프 (x-20개 y-(-?, ?))     \n",
    "* ~~글씨체 정하기~~    \n",
    "* 산점도 그리기 : (resource - power3) (20 - (-? - ?))    \n",
    "* 히트맵 : 블로그 게시물 개수(200개 아님)   \n",
    "* 시계열 / 워드 클라우드(자주 사용하는 단어 찾기) 47- 하니칼국수 - 성시경 / 181-코카모메-츄릅켠 / 270-전참시-몽탄    \n",
    "* 분산분석(미디어별 - 해당 미디어의 영향력) power3값    \n",
    "* 분산분석(미디어별 - 영향력의 크기) reliability2값    \n",
    "* 분산분석(미디어별 - 글을 작성할 확률) reliability값    "
   ]
  },
  {
   "cell_type": "markdown",
   "id": "7f88d770-b97f-4b74-b39c-e73f5cdd7ffe",
   "metadata": {},
   "source": [
    "## 논점\n",
    "- 2차 생산물을 알지 못함\n",
    "- 모집단을 조사한 것이 아니라 일부 표본을 조사한 것\n",
    "- 작성자의 해시태그와 게시글을 통해 작성자의 취향을 파악하여, 마케팅에 사용할 수 있을 것"
   ]
  },
  {
   "cell_type": "code",
   "execution_count": null,
   "id": "78a0a37d-f51d-4ad8-9d64-1e16814ec475",
   "metadata": {},
   "outputs": [],
   "source": [
    "# 폰트 임시파일이 설치된 곳\n",
    "# 새로 설치한 폰트가 적용이 안된다면 이곳의 임시파일 삭제하세요\n",
    "matplotlib.get_cachedir()"
   ]
  },
  {
   "cell_type": "code",
   "execution_count": null,
   "id": "8f531604-7861-4127-a54c-8712dfcb2c50",
   "metadata": {},
   "outputs": [],
   "source": [
    "import pandas as pd\n",
    "import matplotlib.pyplot as plt\n",
    "import seaborn as sns\n",
    "\n",
    "# 폰트설정\n",
    "from matplotlib import font_manager, rc\n",
    "font_path = \"./data/font/21582067_G마켓산스Medium_OTF.otf\"   #폰트파일의 위치\n",
    "font_name = font_manager.FontProperties(fname=font_path).get_name() # rc 함수를 통해, rcParams에 사용되는 폰트의 정식명칭을 알 수 있음\n",
    "print(\"폰트설정 :\", font_name)\n",
    "rc('font', family=font_name)\n",
    "\n",
    "# 색깔 설정\n",
    "my_colors = sns.color_palette(\"RdPu\", 8) + sns.color_palette(\"Purples\", 2) + sns.color_palette(\"Blues\", 10)\n",
    "my_colors2 = sns.color_palette(\"RdPu\", 1) + sns.color_palette(\"Purples\", 1) + sns.color_palette(\"Blues\", 1)\n",
    "\n",
    "# 데이터 가져오기\n",
    "data = pd.read_csv(\"./data/instagram/instagramtotal.csv\")\n",
    "display(data)"
   ]
  },
  {
   "cell_type": "markdown",
   "id": "e3e9d64b-945a-447e-8499-6c0d0c9ff5a8",
   "metadata": {},
   "source": [
    "<br>\n",
    "\n",
    "# **시각화 하기**\n",
    "\n",
    "## 1. 산점도 그리기 : (resource - power3) (20 - (-? - ?))"
   ]
  },
  {
   "cell_type": "code",
   "execution_count": null,
   "id": "b4976672-bc94-4711-85f9-10b9ce33d0a2",
   "metadata": {
    "tags": []
   },
   "outputs": [],
   "source": [
    "# 축 폰트 사이즈 설정\n",
    "plt.rc('font', size=15)\n",
    "\n",
    "# (mediaName - power)산점도 그리기\n",
    "# 그래프 크기\n",
    "plt.figure(figsize=(16, 9))\n",
    "\n",
    "#이산형 변수의 분포 - 데이터 분산 고려 (중복 X) \n",
    "sns.swarmplot(x=\"mediaName\",      #x축 변수\n",
    "              y=\"power\",        #y축 변수\n",
    "              data=data,\n",
    "              palette=my_colors)   #데이터셋 - 데이터프레임\n",
    "\n",
    "plt.axvline(7.5, color='gray', linestyle='--', linewidth=2)\n",
    "plt.axvline(9.5, color='gray', linestyle='--', linewidth=2)\n",
    "plt.text(3.75, data[\"power\"].max() * 0.80, \"연예인\",       \n",
    "         fontsize = 15, \n",
    "         color='gray',\n",
    "         horizontalalignment='center')\n",
    "\n",
    "plt.text(8.5, data[\"power\"].max() * 0.80, \"유튜버\",       \n",
    "         fontsize = 15, \n",
    "         color='gray',\n",
    "         horizontalalignment='center')\n",
    "\n",
    "plt.text(14.75, data[\"power\"].max() * 0.80, \"방송프로그램\",       \n",
    "         fontsize = 15, \n",
    "         color='gray',\n",
    "         horizontalalignment='center')\n",
    "\n",
    "plt.xticks(rotation=45)\n",
    "plt.subplots_adjust(bottom=0.2)\n",
    "plt.ylabel(None)\n",
    "plt.xlabel(None)\n",
    "plt.savefig('./output/instagram/scatter_instagram.png', transparent = True)\n",
    "plt.show()"
   ]
  },
  {
   "cell_type": "markdown",
   "id": "23d94a4b-966d-4751-ae3d-f44a1e812f49",
   "metadata": {},
   "source": [
    "<br>\n",
    "\n",
    "## 2. 나무맵 : 인스타그램 해시태그 게시물 개수(100개)"
   ]
  },
  {
   "cell_type": "code",
   "execution_count": null,
   "id": "a4f58e75-1b83-4a08-951b-93ee613ceaa4",
   "metadata": {},
   "outputs": [],
   "source": [
    "import squarify\n",
    "\n",
    "# 나무맵 : 전수조사용\n",
    "# 그래프 크기\n",
    "plt.figure(figsize=(16,8))\n",
    "\n",
    "# 라벨 구하기\n",
    "temp = data.copy()\n",
    "#temp = temp.sort_values(by=\"postsNumber\", ascending = False)\n",
    "temp.loc[temp[\"postsNumber\"] <= 10000,\"restaurant\"] = \"\"\n",
    "squarify.plot(sizes=data[\"postsNumber\"], label = temp[\"restaurant\"], alpha=0.6)\n",
    "plt.axis('off')\n",
    "plt.savefig('./output/instagram/treemap_instagram.png')\n",
    "plt.show()"
   ]
  },
  {
   "cell_type": "markdown",
   "id": "7d9eeb04-4ee1-45e7-a8a1-f10d65ebfeee",
   "metadata": {},
   "source": [
    "<br>\n",
    "\n",
    "## 3. 막대 그래프 그리기\n",
    "* file : power3(사람별 - 해당 미디어의 영향력) power3값을 평균 사람별로(방송별) 막대그래프 (x-20개 y-(-?, ?))\n",
    "* (사람별 - 영향력의 크기) reliability2값을 평균 사람별로(방송별) 막대그래프 (x-20개 y-(-?, ?))\n",
    "* (사람별 - 글을 작성할 확률) reliability값을 평균 사람별로(방송별) 막대그래프 (x-20개 y-(-?, ?))"
   ]
  },
  {
   "cell_type": "code",
   "execution_count": null,
   "id": "69dabc92-1639-4777-970e-4f6a2ced533f",
   "metadata": {},
   "outputs": [],
   "source": [
    "# 평균 값의 데이터프레임 만들기\n",
    "df1 = data.groupby(\"mediaName\").mean()\n",
    "display(df1)\n",
    "\n",
    "# 데이터 순서 정렬하기\n",
    "연예인 = [\"이영자\", \"백종원\", \"성시경\", \"신동엽\", \"최자\", \"정지훈\", \"문세윤\", \"김준현\"]\n",
    "유튜버 = [\"더들리\", \"츄릅켠\"]\n",
    "방송프로그램 = [\"수요미식회\", \"생생정보통\", \"전참시\", \"생활의달인\", \"6시내고향\", \"골목식당\", \"생방송오늘저녁\", \"모닝와이드\", \"맛있는녀석들\", \"생방송투데이\"]\n",
    "groups = 연예인 + 유튜버 + 방송프로그램\n",
    "temp = pd.DataFrame()\n",
    "for i, media in enumerate(groups):\n",
    "    temp = temp.append(df1.loc[df1.index == media])\n",
    "df1 = temp.copy()"
   ]
  },
  {
   "cell_type": "code",
   "execution_count": null,
   "id": "ea6dfb9c-540d-44df-a083-75e48d4fe2a4",
   "metadata": {},
   "outputs": [],
   "source": [
    "# matplotlib\n",
    "\n",
    "plt.figure(figsize=(30,10))\n",
    "df1.countName.plot(kind='bar', color=my_colors)\n",
    "# 기준선\n",
    "plt.axvline(7.5, color='gray', linestyle='--', linewidth=2)\n",
    "plt.axvline(9.5, color='gray', linestyle='--', linewidth=2)\n",
    "# 구분 텍스트\n",
    "plt.text(3.75, df1[\"countName\"].max() * 0.80, \"연예인\",       \n",
    "         fontsize = 20, \n",
    "         color='gray',\n",
    "         horizontalalignment='center')\n",
    "plt.text(8.5, df1[\"countName\"].max() * 0.80, \"유튜버\",       \n",
    "         fontsize = 20, \n",
    "         color='gray',\n",
    "         horizontalalignment='center')\n",
    "plt.text(14.75, df1[\"countName\"].max() * 0.80, \"방송프로그램\",       \n",
    "         fontsize = 20, \n",
    "         color='gray',\n",
    "         horizontalalignment='center')\n",
    "plt.xticks(rotation=20)\n",
    "plt.xlabel(None)\n",
    "plt.ylabel(None)\n",
    "plt.subplots_adjust(bottom=0.2)\n",
    "plt.show()"
   ]
  },
  {
   "cell_type": "code",
   "execution_count": null,
   "id": "792e57a0-96b8-46fa-b44a-d36bc5a74955",
   "metadata": {},
   "outputs": [],
   "source": [
    "plt.rc('font', size=25)\n",
    "\n",
    "# seaborn\n",
    "plt.figure(figsize=(30,10))\n",
    "sns.barplot(df1.index, df1.countName, palette=my_colors, alpha  = 0.8)\n",
    "# 기준선\n",
    "plt.axvline(7.5, color='gray', linestyle='--', linewidth=2)\n",
    "plt.axvline(9.5, color='gray', linestyle='--', linewidth=2)\n",
    "# 구분 텍스트\n",
    "plt.text(3.75, df1[\"countName\"].max() * 0.80, \"연예인\",       \n",
    "         fontsize = 25, \n",
    "         color='gray',\n",
    "         horizontalalignment='center')\n",
    "plt.text(8.5, df1[\"countName\"].max() * 0.80, \"유튜버\",       \n",
    "         fontsize = 25, \n",
    "         color='gray',\n",
    "         horizontalalignment='center')\n",
    "plt.text(14.75, df1[\"countName\"].max() * 0.80, \"방송프로그램\",       \n",
    "         fontsize = 25, \n",
    "         color='gray',\n",
    "         horizontalalignment='center')\n",
    "plt.xticks(rotation=45)\n",
    "plt.xlabel(None)\n",
    "plt.ylabel(None)\n",
    "plt.subplots_adjust(bottom=0.2)\n",
    "plt.savefig('./output/instagram/countmeanbyperson_instagram.png', transparent = True)\n",
    "plt.show()"
   ]
  },
  {
   "cell_type": "code",
   "execution_count": null,
   "id": "737f2327-f47f-4e02-8b34-613cfd8620e6",
   "metadata": {},
   "outputs": [],
   "source": [
    "import numpy as np\n",
    "\n",
    "plt.figure(figsize=(30,10))\n",
    "\n",
    "x = df1.index\n",
    "y = df1.power\n",
    "my_color = np.where(y>=0, 'skyblue', 'orange')\n",
    "plt.bar(x, y, color=my_color)\n",
    "\n",
    "for i, v in enumerate(x):\n",
    "    if df1.power[i] > 0:\n",
    "        plt.text(v, y[i], round(df1.reliability[i], 2),       \n",
    "                 fontsize = 20, \n",
    "                 color='black',\n",
    "                 horizontalalignment='center',  \n",
    "                 verticalalignment='bottom') \n",
    "    else :\n",
    "        plt.text(v, y[i], round(df1.reliability[i], 2),       \n",
    "                 fontsize = 20, \n",
    "                 color='black',\n",
    "                 horizontalalignment='center',  \n",
    "                 verticalalignment='top')\n",
    "# 구분선\n",
    "plt.axvline(7.5, color='gray', linestyle='--', linewidth=2)\n",
    "plt.axvline(9.5, color='gray', linestyle='--', linewidth=2)\n",
    "# 구분 텍스트\n",
    "plt.text(2, 19 * 0.80, \"연예인\",       \n",
    "         fontsize = 25, \n",
    "         color='gray',\n",
    "         horizontalalignment='center')\n",
    "plt.text(8.5, 19 * 0.80, \"유튜버\",       \n",
    "         fontsize = 25, \n",
    "         color='gray',\n",
    "         horizontalalignment='center')\n",
    "plt.text(14.75, 19 * 0.80, \"방송프로그램\",       \n",
    "         fontsize = 25, \n",
    "         color='gray',\n",
    "         horizontalalignment='center')\n",
    "plt.ylim(-2,19)\n",
    "plt.xticks(rotation=45)\n",
    "plt.subplots_adjust(bottom=0.2)\n",
    "plt.savefig('./output/instagram/powerBar_instagram1.png', transparent = True)\n",
    "plt.show()\n",
    "plt.rc('font', size=15)"
   ]
  },
  {
   "cell_type": "markdown",
   "id": "12e63e62-ba07-4d1f-808b-bb27fcd123c8",
   "metadata": {},
   "source": [
    "<br>\n",
    "\n",
    "## 4. 분산분석을 통하여 3개 이상의 집단 간에 차이가 존재하는지 분석\n",
    "\n",
    "가설1 : 미디어에 따라 파급력의 차이가 있는가?  \n",
    "가설2 : 미디어에 따라 파급력을 미치는 크기에 차이가 있는가?  \n",
    "가설3 : 미디어에 따라 글을 작성할 확률에 차이가 있는가?  \n",
    "\n",
    "<hr>\n",
    "\n",
    "분산분석(미디어별 - 해당 미디어의 영향력) power값 \n",
    "\n",
    "분산분석(미디어별 - 영향력의 크기) reliability2값 \n",
    "\n",
    "분산분석(미디어별 - 글을 작성할 확률) reliability값  "
   ]
  },
  {
   "cell_type": "code",
   "execution_count": null,
   "id": "56c6b295-d468-412b-858e-b219fb1e926a",
   "metadata": {},
   "outputs": [],
   "source": [
    "from scipy import stats\n",
    "from statsmodels.formula.api import ols\n",
    "from statsmodels.stats.anova import anova_lm\n",
    "\n",
    "x1 = data.groupby(\"group\").get_group('방송프로그램')\n",
    "x1 = x1.power\n",
    "x2 = data.groupby(\"group\").get_group('유튜버')\n",
    "x2 = x2.power\n",
    "x3 = data.groupby(\"group\").get_group('연예인')\n",
    "x3 = x3.power"
   ]
  },
  {
   "cell_type": "code",
   "execution_count": null,
   "id": "11641e5a-95b1-4f81-a963-4a3198c77ced",
   "metadata": {},
   "outputs": [],
   "source": [
    "# 등분산 검증\n",
    "print(stats.bartlett(x1,x2,x3),stats.levene(x1, x2, x3), sep=\"\\n\")\n",
    "\n",
    "# 정규성 검증\n",
    "print(stats.ks_2samp(x1, x2), stats.ks_2samp(x1, x3), stats.ks_2samp(x3, x2),  sep=\"\\n\")"
   ]
  },
  {
   "cell_type": "markdown",
   "id": "e6de3af3-5009-4f56-bcb2-d261fd55752f",
   "metadata": {},
   "source": [
    "### 가설1 : 미디어에 따라 파급력의 차이가 있는가?"
   ]
  },
  {
   "cell_type": "markdown",
   "id": "6749bac1-db34-4d23-a6ad-81f59f1e9488",
   "metadata": {},
   "source": [
    "#### 등분산 검증 결과\n",
    ": .05보다 크면 등분산을 이룬다고 볼 수 있고, 정규성을 이룬다고 볼 수 있음.\n",
    "\n",
    "<hr>\n",
    "bartlett의 검정 결과 p-value가 .05보다 커서, 등분산을 이룸\n",
    "하지만, x1과 x3의 pvalue 값이 .05보다 작아 정규성을 이루지 않음"
   ]
  },
  {
   "cell_type": "code",
   "execution_count": null,
   "id": "41f715e4-2799-4aa7-a92b-2cb7ade4e5d7",
   "metadata": {},
   "outputs": [],
   "source": [
    "# 분산 분석\n",
    "\n",
    "model = ols(\"data['power'] ~ data['group']\", data).fit()\n",
    "anova_lm(model)"
   ]
  },
  {
   "cell_type": "code",
   "execution_count": null,
   "id": "86517108-a9a1-4113-b755-9b20bb99fb52",
   "metadata": {},
   "outputs": [],
   "source": [
    "# 집단 간의 차이가 유의할 경우, 어느 집단 간에 차이가 나타나는지 보다 구체적으로 보기 위하여 '사후 분석'을 실시\n",
    "# 여기서는 봉페르니 방식의 교정과 Tukey HSD의 방법으로 사후분석\n",
    "from statsmodels.sandbox.stats.multicomp import MultiComparison\n",
    "import scipy.stats\n",
    "\n",
    "comp = MultiComparison(data['power'], data['group'])\n",
    "result = comp.allpairtest(scipy.stats.ttest_ind, method='bonf') # 봉페르니\n",
    "print(result[0])\n",
    "\n",
    "#투키의 HSD - Tuckey's Honestly Significant Difference = \"진정으로 유의미한 차이\"\n",
    "from statsmodels.stats.multicomp import pairwise_tukeyhsd\n",
    "hsd = pairwise_tukeyhsd(data['power'], data['group'], alpha=0.05)\n",
    "hsd.summary()"
   ]
  },
  {
   "cell_type": "code",
   "execution_count": null,
   "id": "507f4e51-fdd3-4d6b-bc58-8c5b2d286451",
   "metadata": {},
   "outputs": [],
   "source": [
    "# 집단에 따른 분산\n",
    "\n",
    "# df.boxplot(column = 'CNT', by = 'Ta_gubun', grid = False) : 간단히\n",
    "plot_sp= [x1,x2, x3]\n",
    "\n",
    "ax = plt.boxplot(plot_sp)\n",
    "plt.show()"
   ]
  },
  {
   "cell_type": "code",
   "execution_count": null,
   "id": "580c853f-bd9b-4cd0-a4c7-b513fa43f778",
   "metadata": {},
   "outputs": [],
   "source": [
    "x1 = data.groupby(\"group\").get_group('방송프로그램')\n",
    "x1 = x1.reliability\n",
    "x2 = data.groupby(\"group\").get_group('유튜버')\n",
    "x2 = x2.reliability\n",
    "x3 = data.groupby(\"group\").get_group('연예인')\n",
    "x3 = x3.reliability"
   ]
  },
  {
   "cell_type": "code",
   "execution_count": null,
   "id": "a93304f0-073e-4083-be00-f4a11b210ed4",
   "metadata": {},
   "outputs": [],
   "source": [
    "# 등분산 검증\n",
    "print(stats.bartlett(x1,x2,x3),stats.levene(x1, x2, x3), sep=\"\\n\")\n",
    "\n",
    "# 정규성 검증\n",
    "print(stats.ks_2samp(x1, x2), stats.ks_2samp(x1, x3), stats.ks_2samp(x3, x2),  sep=\"\\n\")"
   ]
  },
  {
   "cell_type": "markdown",
   "id": "7f039d76-ee0b-41ea-ad95-3c9169a795c3",
   "metadata": {},
   "source": [
    "### 가설2 : 미디어에 따라 파급력을 미치는 크기에 차이가 있는가?"
   ]
  },
  {
   "cell_type": "markdown",
   "id": "91ca6961-e2f8-4ea0-9886-c0cc36dbcdc1",
   "metadata": {},
   "source": [
    "#### 등분산 검증 결과\n",
    ": .05보다 크면 등분산을 이룬다고 볼 수 있고, 정규성을 이룬다고 볼 수 있음.\n",
    "\n",
    "<hr>\n",
    "bartlett의 검정 결과 p-value가 .05보다 커서, 등분산을 이룸\n",
    "하지만, x1과 x3의 pvalue 값이 .05보다 작아 정규성을 이루지 않음"
   ]
  },
  {
   "cell_type": "code",
   "execution_count": null,
   "id": "71f847a1-31b3-4e30-bb5b-a2246626130c",
   "metadata": {},
   "outputs": [],
   "source": [
    "model = ols(\"data['reliability'] ~ data['group']\", data).fit()\n",
    "anova_lm(model)"
   ]
  },
  {
   "cell_type": "code",
   "execution_count": null,
   "id": "0e4c2347-6379-4eb2-838d-f583ba1e0682",
   "metadata": {
    "tags": []
   },
   "outputs": [],
   "source": [
    "# 집단 간의 차이가 유의할 경우, 어느 집단 간에 차이가 나타나는지 보다 구체적으로 보기 위하여 '사후 분석'을 실시\n",
    "# 여기서는 봉페르니 방식의 교정과 Tukey HSD의 방법으로 사후분석\n",
    "from statsmodels.sandbox.stats.multicomp import MultiComparison\n",
    "import scipy.stats\n",
    "\n",
    "comp = MultiComparison(data['reliability'], data['group'])\n",
    "result = comp.allpairtest(scipy.stats.ttest_ind, method='bonf') # 봉페르니\n",
    "print(result[0])\n",
    "\n",
    "#투키의 HSD - Tuckey's Honestly Significant Difference = \"진정으로 유의미한 차이\"\n",
    "from statsmodels.stats.multicomp import pairwise_tukeyhsd\n",
    "hsd = pairwise_tukeyhsd(data['reliability'], data['group'], alpha=0.05)\n",
    "hsd.summary()"
   ]
  },
  {
   "cell_type": "code",
   "execution_count": null,
   "id": "914fa977-04a6-4e02-a9a1-75e50cd11535",
   "metadata": {},
   "outputs": [],
   "source": [
    "# 집단에 따른 분산\n",
    "\n",
    "# df.boxplot(column = 'CNT', by = 'Ta_gubun', grid = False) : 간단히\n",
    "plot_sp= [x1,x2, x3]\n",
    "\n",
    "ax = plt.boxplot(plot_sp)\n",
    "plt.show()"
   ]
  },
  {
   "cell_type": "code",
   "execution_count": null,
   "id": "6b8bd49d-96ac-4839-baa8-5177a386d7e1",
   "metadata": {},
   "outputs": [],
   "source": [
    "x1 = data.groupby(\"group\").get_group('방송프로그램')\n",
    "x1 = x1.reliability2\n",
    "x2 = data.groupby(\"group\").get_group('유튜버')\n",
    "x2 = x2.reliability2\n",
    "x3 = data.groupby(\"group\").get_group('연예인')\n",
    "x3 = x3.reliability2"
   ]
  },
  {
   "cell_type": "code",
   "execution_count": null,
   "id": "f5ec1b26-769f-46d4-a771-8f608081acaa",
   "metadata": {},
   "outputs": [],
   "source": [
    "# 등분산 검증\n",
    "print(stats.bartlett(x1,x2,x3),stats.levene(x1, x2, x3), sep=\"\\n\")\n",
    "\n",
    "# 정규성 검증\n",
    "print(stats.ks_2samp(x1, x2), stats.ks_2samp(x1, x3), stats.ks_2samp(x3, x2),  sep=\"\\n\")"
   ]
  },
  {
   "cell_type": "markdown",
   "id": "cc8b2219-e49d-4791-9489-f93212d54f6f",
   "metadata": {},
   "source": [
    "### 가설3 : 미디어에 따라 글을 작성할 확률에 차이가 있는가?"
   ]
  },
  {
   "cell_type": "markdown",
   "id": "2702ecc0-1776-484e-b9b9-9be560e5505d",
   "metadata": {},
   "source": [
    "#### 등분산 검증 결과\n",
    ": .05보다 크면 등분산을 이룬다고 볼 수 있고, 정규성을 이룬다고 볼 수 있음.\n",
    "\n",
    "<hr>\n",
    "bartlett의 검정 결과 p-value가 .05보다 커서, 등분산을 이룸\n",
    "하지만, x3의 pvalue 값이 .05보다 작아 정규성을 이루지 않음"
   ]
  },
  {
   "cell_type": "code",
   "execution_count": null,
   "id": "349a6c4f-8bae-4bcc-b25c-330c27e849af",
   "metadata": {},
   "outputs": [],
   "source": [
    "model = ols(\"data['reliability2'] ~ data['group']\", data).fit()\n",
    "anova_lm(model)"
   ]
  },
  {
   "cell_type": "code",
   "execution_count": null,
   "id": "f8922835-a8e6-4d54-b49e-231bed90d002",
   "metadata": {},
   "outputs": [],
   "source": [
    "# 집단 간의 차이가 유의할 경우, 어느 집단 간에 차이가 나타나는지 보다 구체적으로 보기 위하여 '사후 분석'을 실시\n",
    "# 여기서는 봉페르니 방식의 교정과 Tukey HSD의 방법으로 사후분석\n",
    "from statsmodels.sandbox.stats.multicomp import MultiComparison\n",
    "import scipy.stats\n",
    "\n",
    "comp = MultiComparison(data['reliability2'], data['group'])\n",
    "result = comp.allpairtest(scipy.stats.ttest_ind, method='bonf') # 봉페르니\n",
    "print(result[0])\n",
    "\n",
    "#투키의 HSD - Tuckey's Honestly Significant Difference = \"진정으로 유의미한 차이\"\n",
    "from statsmodels.stats.multicomp import pairwise_tukeyhsd\n",
    "hsd = pairwise_tukeyhsd(data['reliability2'], data['group'], alpha=0.05)\n",
    "hsd.summary()"
   ]
  },
  {
   "cell_type": "code",
   "execution_count": null,
   "id": "b3839cb8-d7a4-4fd6-8ac7-7d7df86fbb15",
   "metadata": {},
   "outputs": [],
   "source": [
    "# 집단에 따른 분산\n",
    "\n",
    "# df.boxplot(column = 'CNT', by = 'Ta_gubun', grid = False) : 간단히\n",
    "plot_sp= [x1,x2, x3]\n",
    "\n",
    "ax = plt.boxplot(plot_sp)\n",
    "plt.show()"
   ]
  },
  {
   "cell_type": "markdown",
   "id": "2995957f-cf69-456e-935c-5196cf8d088a",
   "metadata": {},
   "source": [
    "### 분석 결과 해석\n",
    ": Pr(>F)== p-value. \n",
    "<hr>\n",
    "모든 집단들이 등분산이 었으나, 일부 정규성을 갖지 않는 집단들이 있어, 이에 따라 결과가 오염되었을 가능성이 있음\n",
    "\n",
    "#### 가설1 : 미디어에 따라 파급력의 차이가 있는가?  \n",
    "분산분석: p-value가 0.05보다 작으므로, 집단 간에 통계적으로 유의한 차이가 나타남\n",
    "사후분석: pval의 값이 0.05보다 낮으므로, 방송프로그램과 유튜버 간의 차이가 유의하여 주효과가 나타난다.\n",
    "\n",
    "#### 가설2 : 미디어에 따라 파급력을 미치는 크기에 차이가 있는가?  \n",
    "분산분석: p-value가 부동소수로 표현 될만큼 낮은 숫자이고, 0.05보다 작으므로 집단 간에 통계적으로 유의한 차이가 나타남\n",
    "사후분석: pval의 값이 0.05보다 낮으므로, 방송프로그램과 연예인 간의 차이가 유의하여 주효과가 나타난다.\n",
    "\n",
    "#### 가설3 : 미디어에 따라 글을 작성할 확률에 차이가 있는가?  \n",
    "분산분석: p-value가 부동소수로 표현 될만큼 낮은 숫자이고, 0.05보다 작으므로 집단 간에 통계적으로 유의한 차이가 나타남\n",
    "사후분석: pval의 값이 0.05보다 낮으므로, 방송프로그램과 연예인 간의 차이가 유의하여 주효과가 나타난다.\n",
    "\n",
    "\n",
    "-> 그러나 이 모든 주효과는 일부 집단의 데이터가 정규성을 띄지 않아서 나타났을 가능성이 높다."
   ]
  },
  {
   "cell_type": "markdown",
   "id": "30ffec30-26d5-4391-af17-519189b9f25c",
   "metadata": {},
   "source": [
    "<br>   \n",
    "\n",
    "## 5. 시계열 분석\n",
    "\n",
    "#### - 연예인: 하니칼국수 - 성시경  \n",
    "#### - 유튜버: 코카모메-츄릅켠  \n",
    "#### - 방송: 전참시-몽탄  \n",
    "<hr>\n",
    ": 월별 게시물 개수를 그래프로 그리고, 해당 게시물들의 누적 그래프"
   ]
  },
  {
   "cell_type": "code",
   "execution_count": null,
   "id": "b59637a1-65a4-403b-b45e-025fd1fe2c3a",
   "metadata": {},
   "outputs": [],
   "source": [
    "import pandas as pd\n",
    "import matplotlib.pyplot as plt"
   ]
  },
  {
   "cell_type": "code",
   "execution_count": null,
   "id": "3e706ac2-db69-4c1f-ab50-8670a61c8eed",
   "metadata": {},
   "outputs": [],
   "source": [
    "lists = [\"오죽이네_최자\", \"가쯔렛_츄릅켠\", \"다연닭갈비_생활의달인\"]\n",
    "for item in lists:\n",
    "    file = \"./data/instagram/rowdata/\" + item + \".csv\"\n",
    "    temp = pd.read_csv(file)\n",
    "    temp.sort_values(by = \"date\", ascending=True, inplace=True)\n",
    "    temp.date = pd.to_datetime(temp['date'])\n",
    "    # 기간 나누기\n",
    "    # temp['period'] = temp['postdate'].dt.to_period(freq='M')  # 년-월\n",
    "    # 그래프 그리기\n",
    "    plt.figure(figsize=(10,6))\n",
    "    temp[\"test\"] = 1\n",
    "    plt.hist(temp[\"date\"], weights=temp[\"test\"], bins=10, cumulative = True, color=\"orange\")\n",
    "    plt.hist(temp[\"date\"], weights=temp[\"test\"], bins=10, cumulative = False, color=\"skyblue\")\n",
    "    plt.title(item + \" 시계열 그래프\")\n",
    "    plt.show()"
   ]
  },
  {
   "cell_type": "code",
   "execution_count": null,
   "id": "6a2bbc7f-3db0-4353-85b1-548ddc5cd2ce",
   "metadata": {},
   "outputs": [],
   "source": [
    "import numpy as np\n",
    "\n",
    "plt.rc('font', size=15)\n",
    "filelist = [\"오죽이네_최자\", \"가쯔렛_츄릅켠\", \"다연닭갈비_생활의달인\"]\n",
    "referenceDate = ['2021-07', '2020-02', \"2021-01\"]\n",
    "my_colors3 = [\"RdPu\", \"Greens\", \"Blues\"]\n",
    "my_colors4 = [\"purple\", \"green\", \"royalblue\"]\n",
    "for i in range(len(filelist)):\n",
    "    file = \"./data/instagram/rowdata/\" + filelist[i] + \".csv\"\n",
    "    temp = pd.read_csv(file)\n",
    "    temp.sort_values(by = \"date\", ascending=True, inplace=True)\n",
    "    temp.date = pd.to_datetime(temp['date'])\n",
    "    # 기간 나누기\n",
    "    temp['period'] = temp['date'].dt.to_period(freq='M')  # 년-월\n",
    "    # 기간별로 포스트 개수 세기\n",
    "    period_count = temp.groupby(\"period\").count()[[\"date\"]]\n",
    "    period_count.rename(columns = {\"date\": \"count\"}, inplace=True)\n",
    "    # 누적합 열 추가하기\n",
    "    period_count[\"cum\"] = period_count[[\"count\"]].cumsum()\n",
    "    # 그래프 그리기\n",
    "    plt.figure(figsize=(16,8))\n",
    "    # 그래프를 그리기 위한 형변환\n",
    "    period_count.index=period_count.index.to_series().astype(str)\n",
    "    # 기준일 색깔 넣기\n",
    "    my_color = np.where(period_count.index == referenceDate[0], 'skyblue', 'orange')\n",
    "    # 라인그래프 그리기\n",
    "    plt.plot(period_count.index, period_count[\"cum\"], marker='o', color=my_colors4[i])\n",
    "    # 기준일 그리기\n",
    "    if referenceDate[i] == \"2099-12\":\n",
    "            plt.text(len(period_count) / 2, period_count[\"cum\"].max() * 0.95, \"게시물 없음\",       \n",
    "             fontsize = 15, \n",
    "             color='gray',\n",
    "             horizontalalignment='center') \n",
    "    else:\n",
    "        plt.axvline(referenceDate[i], color='gray', linestyle='--', linewidth=2)\n",
    "        plt.text(referenceDate[i], period_count[\"cum\"].max() * 0.95, \"기준선\",       \n",
    "                 fontsize = 15, \n",
    "                 color='gray',\n",
    "                 horizontalalignment='center') \n",
    "     # 바그래프 그리기\n",
    "    plt.bar(period_count.index, period_count[\"count\"], align='center', \n",
    "            color=sns.color_palette(my_colors3[i], len(period_count)))\n",
    "    plt.xticks(rotation=45)\n",
    "    plt.xlabel(None)\n",
    "    plt.ylabel(None)\n",
    "    if len(period_count) > 30 :\n",
    "        plt.xticks(period_count.index, [period_count.index[j] if (j % (len(period_count)//20)) == 1 else \"\" for j in range(len(period_count))])\n",
    "    plt.savefig('./output/instagram/' + filelist[i] + ' 시계열 그래프_instagram.png', transparent = True)\n",
    "    plt.show()"
   ]
  },
  {
   "cell_type": "code",
   "execution_count": null,
   "id": "4a74914b-d099-4ec4-bf11-11929593d51d",
   "metadata": {},
   "outputs": [],
   "source": []
  }
 ],
 "metadata": {
  "kernelspec": {
   "display_name": "pydatavenv",
   "language": "python",
   "name": "pydatavenv"
  },
  "language_info": {
   "codemirror_mode": {
    "name": "ipython",
    "version": 3
   },
   "file_extension": ".py",
   "mimetype": "text/x-python",
   "name": "python",
   "nbconvert_exporter": "python",
   "pygments_lexer": "ipython3",
   "version": "3.8.11"
  }
 },
 "nbformat": 4,
 "nbformat_minor": 5
}
