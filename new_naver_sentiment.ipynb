{
 "cells": [
  {
   "cell_type": "markdown",
   "id": "e9255c15-e0cd-4a2c-b32e-9f172cccbebf",
   "metadata": {},
   "source": [
    "# 긍정적인 글 분류하기"
   ]
  },
  {
   "cell_type": "code",
   "execution_count": null,
   "id": "f38bcf61-1cd2-4e18-ba12-85b2739182c9",
   "metadata": {},
   "outputs": [],
   "source": [
    "import pandas as pd\n",
    "import numpy as np"
   ]
  },
  {
   "cell_type": "markdown",
   "id": "7ce8acd8-d245-4384-ba84-067eb47d468e",
   "metadata": {},
   "source": [
    "## 긍정사전과 부정사전 가져오기"
   ]
  },
  {
   "cell_type": "code",
   "execution_count": null,
   "id": "c5c142f3-c51e-47ab-b32c-9068c625ef27",
   "metadata": {},
   "outputs": [],
   "source": [
    "# 긍정사전과 부정사전 가져오기\n",
    "pos_df = pd.read_csv(\"./data/pos_df_test.csv\")\n",
    "neg_df = pd.read_csv(\"./data/neg_df_test.csv\")\n",
    "# 긍정, 부정 사전  리스트로 변환 \n",
    "pos_word = pos_df['word'].values.tolist()\n",
    "neg_word = neg_df['word'].values.tolist()"
   ]
  },
  {
   "cell_type": "markdown",
   "id": "071bd3c9-9bde-4855-bcef-0904687961e1",
   "metadata": {},
   "source": [
    "## \"sentiment1\"열 추가하기\n",
    "sentiment1 = 식당-미디어 모든 글의 긍정적인 단어 수 - 부정적인 수"
   ]
  },
  {
   "cell_type": "code",
   "execution_count": null,
   "id": "f2262242-911d-4e47-8ca4-d6ce040c987a",
   "metadata": {},
   "outputs": [],
   "source": [
    "naver_total = pd.read_csv(\"./data/naver_blog/total_power.csv\")\n",
    "for row in range(len(naver_total)):\n",
    "    file = \"./data/naver_blog/rowdata_resource/\" + naver_total.iloc[row][\"restaurant\"] + \"_\" + naver_total.iloc[row][\"resource\"] + \".csv\"\n",
    "    data = pd.read_csv(file)\n",
    "    # 해당 파일의 하나의 행에 대한 감정분석\n",
    "    pos = 0\n",
    "    neg = 0\n",
    "    for i in range(len(data)):\n",
    "        for words in pos_word:\n",
    "            if words in data.iloc[i][\"description\"]:\n",
    "                pos += 1\n",
    "        for words in neg_word:\n",
    "            if words in data.iloc[i][\"description\"]:\n",
    "                neg += 1\n",
    "    # 해당 파일의 감정분석 결과 저장\n",
    "    naver_total.loc[row, \"sentiment1\"] = pos - neg\n",
    "# 파일로 저장\n",
    "naver_total.to_csv(\"./data/naver_blog/total_power.csv\", index=False)"
   ]
  },
  {
   "cell_type": "markdown",
   "id": "328309d1-283d-43b9-af10-5ef63baa3157",
   "metadata": {},
   "source": [
    "## \"sentiment2\"열 추가하기\n",
    "sentiment2 = 식당-미디어 모든 글의 리뷰별 positive 갯수 "
   ]
  },
  {
   "cell_type": "code",
   "execution_count": null,
   "id": "3d9f2bfd-6dac-4cb4-9cf6-2026c39caea7",
   "metadata": {},
   "outputs": [],
   "source": [
    "# 감정사전이 완료 되지 않았을 때\n",
    "# 종합 데이터 가져오기\n",
    "naver_total = pd.read_csv(\"./data/naver_blog/total_power.csv\")\n",
    "naver_total[\"sentiment2\"] = None\n",
    "for row in range(len(naver_total)):\n",
    "    file = \"./data/naver_blog/rowdata_resource/\" + naver_total.iloc[row][\"restaurant\"] + \"_\" + naver_total.iloc[row][\"resource\"] + \".csv\"\n",
    "    data = pd.read_csv(file)\n",
    "    # 해당 파일의 하나의 행에 대한 감정분석\n",
    "    data[\"senti\"] = None\n",
    "    for i in range(len(data)):\n",
    "        pos = 0\n",
    "        for words in pos_word:\n",
    "            if words in data.iloc[i][\"description\"]:\n",
    "                pos += 1\n",
    "        # 각 글의 긍정적인 단어가 1개만 있어도 긍정적인 글입니다.\n",
    "        if pos > 0:\n",
    "            data.loc[i,\"senti\"] = \"positive\"\n",
    "        else:\n",
    "            data.loc[i,\"senti\"] = \"negative\"\n",
    "    # 해당 파일의 감정분석 결과 저장\n",
    "    # positive가 반이상면 positive\n",
    "    sentiment2 = len(data.loc[data[\"senti\"] == \"positive\"]) \n",
    "    naver_total.loc[row, \"sentiment2\"] = sentiment2\n",
    "# 파일로 저장\n",
    "naver_total.to_csv(\"./data/naver_blog/total_power.csv\", index=False)"
   ]
  },
  {
   "cell_type": "markdown",
   "id": "9a59465b-5572-4203-8343-fe1374bbdb96",
   "metadata": {},
   "source": [
    "## \"sentiment3\"열 추가하기\n",
    "sentiment3 = 식당-미디어 모든 글의 리뷰별 positive - negative 갯수"
   ]
  },
  {
   "cell_type": "code",
   "execution_count": null,
   "id": "13e346ee-8dd5-49bf-92d1-3d306d759492",
   "metadata": {},
   "outputs": [],
   "source": [
    "# 감정사전이 완료 되지 않았을 때\n",
    "# 종합 데이터 가져오기\n",
    "naver_total = pd.read_csv(\"./data/naver_blog/total_power.csv\")\n",
    "naver_total[\"sentiment3\"] = None\n",
    "for row in range(len(naver_total)):\n",
    "    file = \"./data/naver_blog/rowdata_resource/\" + naver_total.iloc[row][\"restaurant\"] + \"_\" + naver_total.iloc[row][\"resource\"] + \".csv\"\n",
    "    data = pd.read_csv(file)\n",
    "    # 해당 파일의 하나의 행에 대한 감정분석\n",
    "    data[\"senti\"] = None\n",
    "    for i in range(len(data)):\n",
    "        pos = 0\n",
    "        neg = 0 \n",
    "        for words in pos_word:\n",
    "            if words in data.iloc[i][\"description\"]:\n",
    "                pos += 1\n",
    "                \n",
    "        for words in neg_word:\n",
    "            if words in data.iloc[i][\"description\"]:\n",
    "                neg += 1\n",
    "\n",
    "        # 각 글의 긍정적인 단어가 1개만 있어도 긍정적인 글입니다.\n",
    "        senti = pos - neg \n",
    "        \n",
    "        if senti >= 0:\n",
    "            data.loc[i,\"senti\"] = \"positive\"\n",
    "        else:\n",
    "            data.loc[i,\"senti\"] = \"negative\"\n",
    "    # 해당 파일의 감정분석 결과 저장\n",
    "    # positive가 반이상면 positive\n",
    "    sentiment3 = len(data.loc[data[\"senti\"] == \"positive\"]) - len(data.loc[data[\"senti\"] == \"negative\"])\n",
    "    naver_total.loc[row, \"sentiment3\"] = sentiment3\n",
    "# 파일로 저장\n",
    "naver_total.to_csv(\"./data/naver_blog/total_power.csv\", index=False)"
   ]
  },
  {
   "cell_type": "markdown",
   "id": "c6d036b7-02ac-40bd-95cc-f6ade2992947",
   "metadata": {},
   "source": [
    "* sentiment1 : 해당 식당 전체 리뷰 긍정단어 - 부정단어\n",
    "* sentiment2 : 해당 식당 리뷰별 positive 갯수    \n",
    "* sentiment2 : 해당 식당 리뷰별 positive - negative 갯수 "
   ]
  },
  {
   "cell_type": "code",
   "execution_count": null,
   "id": "49c7fe4d-f8a4-4f7a-9674-67cb4a0c57d6",
   "metadata": {},
   "outputs": [],
   "source": [
    "# pd.set_option(\"display.max_rows\", None, \"display.max_columns\", None)      #생략된 내용없이 전체 다 보여주게 하는 세팅 "
   ]
  },
  {
   "cell_type": "code",
   "execution_count": null,
   "id": "27692e9d-9376-4311-b0ec-2c5339ca343c",
   "metadata": {
    "tags": []
   },
   "outputs": [],
   "source": [
    "#display(naver_total.loc[naver_total.sentiment2 == 0])"
   ]
  },
  {
   "cell_type": "markdown",
   "id": "4d6cfda0-e404-4f44-9eae-be968903f6b3",
   "metadata": {},
   "source": [
    "## 데이터프레임으로 변환\n",
    "#### resorce 별로 데이터프레임"
   ]
  },
  {
   "cell_type": "code",
   "execution_count": null,
   "id": "247e02ca-101f-497a-85af-1dd4e9710634",
   "metadata": {},
   "outputs": [],
   "source": [
    "naver_total = pd.read_csv(\"./data/naver_blog/total_power.csv\")"
   ]
  },
  {
   "cell_type": "code",
   "execution_count": null,
   "id": "2756e5ae-963b-4295-9bdf-a83f4174dd00",
   "metadata": {},
   "outputs": [],
   "source": [
    "df_res_pos = pd.DataFrame(naver_total.groupby(['resource'])['sentiment3'].mean())    # resource 별로 평균 positive 평균갯수로 그룹화 \n",
    "df_res_pos = df_res_pos.reset_index()     # 새로운 인덱스 생성 \n",
    "df_res_pos.columns = ['resource', 'positive_avg'] #  새 column 명 생성 "
   ]
  },
  {
   "cell_type": "code",
   "execution_count": null,
   "id": "a64ed085-3798-430a-a333-cb4ca2a528cf",
   "metadata": {
    "tags": []
   },
   "outputs": [],
   "source": [
    "#display(df_res_pos)"
   ]
  },
  {
   "cell_type": "markdown",
   "id": "16e47065-b779-4ada-8cec-f7ce8df7d3ad",
   "metadata": {},
   "source": [
    "#### group별로 데이터프레임"
   ]
  },
  {
   "cell_type": "code",
   "execution_count": null,
   "id": "a7fecef6-a425-4cc9-908b-783f5ff4ebf2",
   "metadata": {},
   "outputs": [],
   "source": [
    "total_group = naver_total"
   ]
  },
  {
   "cell_type": "code",
   "execution_count": null,
   "id": "ae5ffdaa-40a4-42fa-8290-14e77763c903",
   "metadata": {},
   "outputs": [],
   "source": [
    "# 리뷰가 없는곳이 포함되면 결과값이 부정확해지므로 해당 resource 삭제 \n",
    "\n",
    "d = total_group[(total_group['sentiment1'] == 0) & (total_group['sentiment2'] == 0) & (total_group['sentiment3'] == 0)].index\n",
    "\n",
    "total_group.drop(d, inplace = True)         "
   ]
  },
  {
   "cell_type": "markdown",
   "id": "afc6e0a5-3a50-45ad-9f6b-89d259310044",
   "metadata": {},
   "source": [
    "# 긍정 단어 평균 그래프 그리기"
   ]
  },
  {
   "cell_type": "code",
   "execution_count": null,
   "id": "2eeb2ea5-e028-4a65-8f60-25fc56de2e8f",
   "metadata": {},
   "outputs": [],
   "source": [
    "df_group_pos = pd.DataFrame(total_group.groupby(['group'])['sentiment2'].mean())\n",
    "df_group_pos = df_group_pos.reset_index()\n",
    "df_group_pos.columns = ['group', 'positive_avg']"
   ]
  },
  {
   "cell_type": "code",
   "execution_count": null,
   "id": "8a2cfd7f-cb05-4161-b2e9-8fc176e43d32",
   "metadata": {},
   "outputs": [],
   "source": [
    "display(df_group_pos)"
   ]
  },
  {
   "cell_type": "markdown",
   "id": "0ebf8a55-ce36-42b1-952c-b51c41409701",
   "metadata": {},
   "source": [
    "# 부정 단어 평균 그래프 그리기"
   ]
  },
  {
   "cell_type": "code",
   "execution_count": null,
   "id": "13c6b39e-c0eb-4948-a664-9bfdbb2040e1",
   "metadata": {},
   "outputs": [],
   "source": [
    "total_group[\"neg\"] = (total_group['sentiment3'] - total_group['sentiment2']) * -1"
   ]
  },
  {
   "cell_type": "code",
   "execution_count": null,
   "id": "2f25b8e9-f016-48c5-b541-1874219778ff",
   "metadata": {},
   "outputs": [],
   "source": [
    "# -((긍정 - 부정) - 긍정) = 부정개수\n",
    "# (sentiment3 - sentiment2) * -1 = 부정 갯수\n",
    "# df_group_neg = pd.DataFrame(total_group.groupby(['group'])['sentiment2'].mean())\n",
    "df_group_neg = pd.DataFrame(total_group.groupby(['group'])['neg'].mean())\n",
    "df_group_neg = df_group_neg.reset_index()\n",
    "df_group_neg = df_group_neg[['group', 'neg']]\n",
    "df_group_neg.columns = ['group', 'negative_avg']"
   ]
  },
  {
   "cell_type": "code",
   "execution_count": null,
   "id": "b45e6778-e9f8-4cfd-b55f-e72ccc337aea",
   "metadata": {},
   "outputs": [],
   "source": [
    "display(df_group_neg)"
   ]
  },
  {
   "cell_type": "markdown",
   "id": "cbc41a11-b998-4125-a3da-225a5e20e7c2",
   "metadata": {},
   "source": [
    "# 시각화"
   ]
  },
  {
   "cell_type": "code",
   "execution_count": null,
   "id": "71cceaf4-a6f0-4d75-a0eb-3ecf972b411b",
   "metadata": {},
   "outputs": [],
   "source": [
    "import pandas as pd\n",
    "import matplotlib.pyplot as plt\n",
    "import seaborn as sns\n",
    "\n",
    "# 폰트설정\n",
    "from matplotlib import font_manager, rc\n",
    "font_path = \"./data/font/21582067_G마켓산스Medium_OTF.otf\"   #폰트파일의 위치\n",
    "font_name = font_manager.FontProperties(fname=font_path).get_name() # rc 함수를 통해, rcParams에 사용되는 폰트의 정식명칭을 알 수 있음\n",
    "print(\"폰트설정 :\", font_name)\n",
    "rc('font', family=font_name)\n",
    "\n",
    "# 색깔 설정\n",
    "my_colors = sns.color_palette(\"RdPu\", 8) + sns.color_palette(\"Purples\", 2) + sns.color_palette(\"Blues\", 10)\n",
    "my_colors2 = sns.color_palette(\"RdPu\", 1) + sns.color_palette(\"Purples\", 1) + sns.color_palette(\"Blues\", 1)\n"
   ]
  },
  {
   "cell_type": "code",
   "execution_count": null,
   "id": "7e45aa52-13c8-449c-ae27-b54266090fec",
   "metadata": {},
   "outputs": [],
   "source": [
    "import matplotlib \n",
    "matplotlib.font_manager._rebuild()"
   ]
  },
  {
   "cell_type": "code",
   "execution_count": null,
   "id": "567f1474-1a88-4c93-a6ed-e2a9dc01a722",
   "metadata": {},
   "outputs": [],
   "source": [
    "groups = ['연예인', '유튜버', '방송프로그램']\n",
    "\n",
    "temp = pd.DataFrame()\n",
    "for i, media in enumerate(groups):\n",
    "    temp = temp.append(df_group_pos.loc[df_group_pos.group == media])\n",
    "df_group_pos = temp.copy()\n",
    "display(df_group_pos)"
   ]
  },
  {
   "cell_type": "code",
   "execution_count": null,
   "id": "72f3a0ed-3a07-46ff-a023-31a1b64f3844",
   "metadata": {},
   "outputs": [],
   "source": [
    "# 긍정 그래프 그리기\n",
    "plt.figure(figsize=(7, 7))\n",
    "plt.rc('font', size=15)\n",
    "x_values = ['연예인', \"유튜버\", \"방송프로그램\"]\n",
    "xi = list(range(len(x_values)))\n",
    "\n",
    "sns.barplot(df_group_pos.group, df_group_pos.positive_avg, palette=my_colors2, alpha  = 0.8)\n",
    "plt.xticks(xi, x_values)\n",
    "plt.xlabel(None)\n",
    "plt.ylabel(None)\n",
    "plt.subplots_adjust(bottom=0.2)\n",
    "plt.legend('',frameon=False)\n",
    "plt.savefig('./output/senti/pos_gavg_naver.png', transparent = True)\n",
    "plt.show()"
   ]
  },
  {
   "cell_type": "code",
   "execution_count": null,
   "id": "731d184d-022e-4aa9-a366-f5ffd66d4cea",
   "metadata": {},
   "outputs": [],
   "source": [
    "# 부정 그래프 그리기\n",
    "plt.figure(figsize=(7, 7))\n",
    "plt.rc('font', size=15)\n",
    "x_values = ['연예인', \"유튜버\", \"방송프로그램\"]\n",
    "xi = list(range(len(x_values)))\n",
    "\n",
    "sns.barplot(df_group_neg.group, df_group_neg.negative_avg, palette=my_colors2, alpha  = 0.8)\n",
    "plt.xticks(xi, x_values)\n",
    "plt.xlabel(None)\n",
    "plt.ylabel(None)\n",
    "plt.subplots_adjust(bottom=0.2)\n",
    "plt.legend('',frameon=False)\n",
    "plt.savefig('./output/senti/neg_gavg_naver.png', transparent = True)\n",
    "plt.show()"
   ]
  },
  {
   "cell_type": "code",
   "execution_count": null,
   "id": "ef0a3dd7-18a5-4321-8c80-b088b7dea849",
   "metadata": {},
   "outputs": [],
   "source": [
    "# 데이터 순서 정렬하기\n",
    "연예인 = [\"이영자\", \"백종원\", \"성시경\", \"신동엽\", \"최자\", \"비(정지훈)\", \"문세윤\", \"김준현\"]\n",
    "유튜버 = [\"더들리\", \"츄릅켠\"]\n",
    "방송프로그램 = [\"수요미식회\", \"생생정보통\", \"전참시\", \"생활의 달인\", \"6시 내 고향\", \"골목식당\", \"생방송 오늘 저녁\", \"모닝 와이드\", \"맛있는 녀석들\", \"생방송 투데이\"]\n",
    "groups = 연예인 + 유튜버 + 방송프로그램\n",
    "temp = pd.DataFrame()\n",
    "for i, media in enumerate(groups):\n",
    "    temp = temp.append(df_res_pos.loc[df_res_pos.resource == media])\n",
    "df_res_pos = temp.copy()\n",
    "#display(df_res_pos)"
   ]
  },
  {
   "cell_type": "code",
   "execution_count": null,
   "id": "7d4a28f1-c12f-42a9-b0d4-ef5d80e84209",
   "metadata": {},
   "outputs": [],
   "source": [
    "# seaborn\n",
    "plt.rc('font', size=25)\n",
    "plt.figure(figsize=(30,10))\n",
    "sns.barplot(df_res_pos.resource, df_res_pos.positive_avg, palette=my_colors, alpha  = 0.8)\n",
    "# 기준선\n",
    "plt.axvline(7.5, color='gray', linestyle='--', linewidth=2)\n",
    "plt.axvline(9.5, color='gray', linestyle='--', linewidth=2)\n",
    "# 구분 텍스트\n",
    "plt.text(3.75, df_res_pos[\"positive_avg\"].max() * 0.80, \"연예인\",       \n",
    "         fontsize = 25, \n",
    "         color='gray',\n",
    "         horizontalalignment='center')\n",
    "plt.text(8.5, df_res_pos[\"positive_avg\"].max() * 0.80, \"유튜버\",       \n",
    "         fontsize = 25, \n",
    "         color='gray',\n",
    "         horizontalalignment='center')\n",
    "plt.text(14.75, df_res_pos[\"positive_avg\"].max() * 0.80, \"방송프로그램\",       \n",
    "         fontsize = 25, \n",
    "         color='gray',\n",
    "         horizontalalignment='center')\n",
    "plt.xticks(rotation=45)\n",
    "plt.xlabel(None)\n",
    "plt.ylabel(None)\n",
    "plt.subplots_adjust(bottom=0.2)\n",
    "plt.savefig('./output/senti/pos_avg_naver.png', transparent = True)\n",
    "plt.show()"
   ]
  },
  {
   "cell_type": "code",
   "execution_count": null,
   "id": "8c37a306-c86a-4dcb-bd10-ffddfe5e2b9d",
   "metadata": {},
   "outputs": [],
   "source": [
    "plt.figure(figsize=(30,10))\n",
    "\n",
    "x = df_res_pos.resource\n",
    "y = df_res_pos.positive_avg\n",
    "my_color = np.where(y>=0, 'skyblue', 'orange')\n",
    "plt.bar(x, y, color=my_color)\n",
    "\n",
    "# for i, v in enumerate(x):\n",
    "#     if y[i] > 0:\n",
    "#         plt.text(v, y[i], round(y[i], 2),       \n",
    "#                  fontsize = 20, \n",
    "#                  color='black',\n",
    "#                  horizontalalignment='center',  \n",
    "#                  verticalalignment='bottom') \n",
    "#     else :\n",
    "#         plt.text(v, y[i], round(y[i], 2),       \n",
    "#                  fontsize = 20, \n",
    "#                  color='black',\n",
    "#                  horizontalalignment='center',  \n",
    "#                  verticalalignment='top')\n",
    "\n",
    "# 구분선\n",
    "plt.axvline(7.5, color='gray', linestyle='--', linewidth=2)\n",
    "plt.axvline(9.5, color='gray', linestyle='--', linewidth=2)\n",
    "plt.axhline(0, color='gray', linestyle='-', linewidth=2)\n",
    "# 구분 텍스트\n",
    "plt.text(3.75, 6.5 * 0.80, \"연예인\",       \n",
    "         fontsize = 25, \n",
    "         color='lightgray',\n",
    "         horizontalalignment='center')\n",
    "plt.text(8.5, 6.5 * 0.80, \"유튜버\",       \n",
    "         fontsize = 25, \n",
    "         color='lightgray',\n",
    "         horizontalalignment='center')\n",
    "plt.text(14.75, 6.5 * 0.80, \"방송프로그램\",       \n",
    "         fontsize = 25, \n",
    "         color='lightgray',\n",
    "         horizontalalignment='center')\n",
    "plt.ylim(-6, 7)\n",
    "plt.xticks(rotation=45)\n",
    "plt.subplots_adjust(bottom=0.2)\n",
    "plt.savefig('./output/senti/pos_avg_naver', transparent = True)\n",
    "plt.show()"
   ]
  }
 ],
 "metadata": {
  "kernelspec": {
   "display_name": "Python 3 (ipykernel)",
   "language": "python",
   "name": "python3"
  },
  "language_info": {
   "codemirror_mode": {
    "name": "ipython",
    "version": 3
   },
   "file_extension": ".py",
   "mimetype": "text/x-python",
   "name": "python",
   "nbconvert_exporter": "python",
   "pygments_lexer": "ipython3",
   "version": "3.8.11"
  }
 },
 "nbformat": 4,
 "nbformat_minor": 5
}
