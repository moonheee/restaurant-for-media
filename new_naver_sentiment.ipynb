{
 "cells": [
  {
   "cell_type": "markdown",
   "id": "e9255c15-e0cd-4a2c-b32e-9f172cccbebf",
   "metadata": {},
   "source": [
    "# 긍정적인 글 분류하기"
   ]
  },
  {
   "cell_type": "code",
   "execution_count": 1,
   "id": "f38bcf61-1cd2-4e18-ba12-85b2739182c9",
   "metadata": {},
   "outputs": [],
   "source": [
    "import pandas as pd"
   ]
  },
  {
   "cell_type": "markdown",
   "id": "7ce8acd8-d245-4384-ba84-067eb47d468e",
   "metadata": {},
   "source": [
    "## 긍정사전과 부정사전 가져오기"
   ]
  },
  {
   "cell_type": "code",
   "execution_count": 2,
   "id": "c5c142f3-c51e-47ab-b32c-9068c625ef27",
   "metadata": {},
   "outputs": [],
   "source": [
    "# 긍정사전과 부정사전 가져오기\n",
    "pos_df = pd.read_csv(\"./data/pos_df_test.csv\")\n",
    "neg_df = pd.read_csv(\"./data/neg_df_test.csv\")\n",
    "# 긍정, 부정 사전  리스트로 변환 \n",
    "pos_word = pos_df['word'].values.tolist()\n",
    "neg_word = neg_df['word'].values.tolist()"
   ]
  },
  {
   "cell_type": "markdown",
   "id": "071bd3c9-9bde-4855-bcef-0904687961e1",
   "metadata": {},
   "source": [
    "## \"sentiment1\"열 추가하기\n",
    "sentiment1 = 식당-미디어 모든 글의 긍정적인 단어 수 - 부정적인 수"
   ]
  },
  {
   "cell_type": "code",
   "execution_count": 3,
   "id": "f2262242-911d-4e47-8ca4-d6ce040c987a",
   "metadata": {},
   "outputs": [],
   "source": [
    "naver_total = pd.read_csv(\"./data/naver_blog/total_power.csv\")\n",
    "for row in range(len(naver_total)):\n",
    "    file = \"./data/naver_blog/rowdata_resource/\" + naver_total.iloc[row][\"restaurant\"] + \"_\" + naver_total.iloc[row][\"resource\"] + \".csv\"\n",
    "    data = pd.read_csv(file)\n",
    "    # 해당 파일의 하나의 행에 대한 감정분석\n",
    "    pos = 0\n",
    "    neg = 0\n",
    "    for i in range(len(data)):\n",
    "        for words in pos_word:\n",
    "            if words in data.iloc[i][\"description\"]:\n",
    "                pos += 1\n",
    "        for words in neg_word:\n",
    "            if words in data.iloc[i][\"description\"]:\n",
    "                neg += 1\n",
    "    # 해당 파일의 감정분석 결과 저장\n",
    "    naver_total.loc[row, \"sentiment1\"] = pos - neg\n",
    "# 파일로 저장\n",
    "naver_total.to_csv(\"./data/naver_blog/total_power.csv\", index=False)"
   ]
  },
  {
   "cell_type": "markdown",
   "id": "328309d1-283d-43b9-af10-5ef63baa3157",
   "metadata": {},
   "source": [
    "## \"sentiment2\"열 추가하기\n",
    "sentiment2 = 식당-미디어 모든 글의 리뷰별 positive 갯수 "
   ]
  },
  {
   "cell_type": "code",
   "execution_count": 4,
   "id": "3d9f2bfd-6dac-4cb4-9cf6-2026c39caea7",
   "metadata": {},
   "outputs": [],
   "source": [
    "# 감정사전이 완료 되지 않았을 때\n",
    "# 종합 데이터 가져오기\n",
    "naver_total = pd.read_csv(\"./data/naver_blog/total_power.csv\")\n",
    "naver_total[\"sentiment2\"] = None\n",
    "for row in range(len(naver_total)):\n",
    "    file = \"./data/naver_blog/rowdata_resource/\" + naver_total.iloc[row][\"restaurant\"] + \"_\" + naver_total.iloc[row][\"resource\"] + \".csv\"\n",
    "    data = pd.read_csv(file)\n",
    "    # 해당 파일의 하나의 행에 대한 감정분석\n",
    "    data[\"senti\"] = None\n",
    "    for i in range(len(data)):\n",
    "        pos = 0\n",
    "        for words in pos_word:\n",
    "            if words in data.iloc[i][\"description\"]:\n",
    "                pos += 1\n",
    "        # 각 글의 긍정적인 단어가 1개만 있어도 긍정적인 글입니다.\n",
    "        if pos > 0:\n",
    "            data.loc[i,\"senti\"] = \"positive\"\n",
    "        else:\n",
    "            data.loc[i,\"senti\"] = \"negative\"\n",
    "    # 해당 파일의 감정분석 결과 저장\n",
    "    # positive가 반이상면 positive\n",
    "    sentiment2 = len(data.loc[data[\"senti\"] == \"positive\"]) \n",
    "    naver_total.loc[row, \"sentiment2\"] = sentiment2\n",
    "# 파일로 저장\n",
    "naver_total.to_csv(\"./data/naver_blog/total_power.csv\", index=False)"
   ]
  },
  {
   "cell_type": "markdown",
   "id": "9a59465b-5572-4203-8343-fe1374bbdb96",
   "metadata": {},
   "source": [
    "## \"sentiment3\"열 추가하기\n",
    "sentiment3 = 식당-미디어 모든 글의 리뷰별 positive - negative 갯수"
   ]
  },
  {
   "cell_type": "code",
   "execution_count": 5,
   "id": "13e346ee-8dd5-49bf-92d1-3d306d759492",
   "metadata": {},
   "outputs": [],
   "source": [
    "# 감정사전이 완료 되지 않았을 때\n",
    "# 종합 데이터 가져오기\n",
    "naver_total = pd.read_csv(\"./data/naver_blog/total_power.csv\")\n",
    "naver_total[\"sentiment3\"] = None\n",
    "for row in range(len(naver_total)):\n",
    "    file = \"./data/naver_blog/rowdata_resource/\" + naver_total.iloc[row][\"restaurant\"] + \"_\" + naver_total.iloc[row][\"resource\"] + \".csv\"\n",
    "    data = pd.read_csv(file)\n",
    "    # 해당 파일의 하나의 행에 대한 감정분석\n",
    "    data[\"senti\"] = None\n",
    "    for i in range(len(data)):\n",
    "        pos = 0\n",
    "        neg = 0 \n",
    "        for words in pos_word:\n",
    "            if words in data.iloc[i][\"description\"]:\n",
    "                pos += 1\n",
    "                \n",
    "        for words in neg_word:\n",
    "            if words in data.iloc[i][\"description\"]:\n",
    "                neg += 1\n",
    "\n",
    "        # 각 글의 긍정적인 단어가 1개만 있어도 긍정적인 글입니다.\n",
    "        senti = pos - neg \n",
    "        \n",
    "        if senti >= 0:\n",
    "            data.loc[i,\"senti\"] = \"positive\"\n",
    "        else:\n",
    "            data.loc[i,\"senti\"] = \"negative\"\n",
    "    # 해당 파일의 감정분석 결과 저장\n",
    "    # positive가 반이상면 positive\n",
    "    sentiment3 = len(data.loc[data[\"senti\"] == \"positive\"]) - len(data.loc[data[\"senti\"] == \"negative\"])\n",
    "    naver_total.loc[row, \"sentiment3\"] = sentiment3\n",
    "# 파일로 저장\n",
    "naver_total.to_csv(\"./data/naver_blog/total_power.csv\", index=False)"
   ]
  },
  {
   "cell_type": "markdown",
   "id": "c6d036b7-02ac-40bd-95cc-f6ade2992947",
   "metadata": {},
   "source": [
    "* sentiment1 : 해당 식당 전체 리뷰 긍정단어 - 부정단어\n",
    "* sentiment2 : 해당 식당 리뷰별 positive 갯수    \n",
    "* sentiment2 : 해당 식당 리뷰별 positive - negative 갯수 "
   ]
  },
  {
   "cell_type": "code",
   "execution_count": 66,
   "id": "49c7fe4d-f8a4-4f7a-9674-67cb4a0c57d6",
   "metadata": {},
   "outputs": [],
   "source": [
    "# pd.set_option(\"display.max_rows\", None, \"display.max_columns\", None)  "
   ]
  },
  {
   "cell_type": "code",
   "execution_count": 42,
   "id": "27692e9d-9376-4311-b0ec-2c5339ca343c",
   "metadata": {
    "tags": []
   },
   "outputs": [],
   "source": [
    "#display(naver_total.loc[naver_total.sentiment2 == 0])"
   ]
  },
  {
   "cell_type": "code",
   "execution_count": 6,
   "id": "247e02ca-101f-497a-85af-1dd4e9710634",
   "metadata": {},
   "outputs": [],
   "source": [
    "naver_total = pd.read_csv(\"./data/naver_blog/total_power.csv\")"
   ]
  },
  {
   "cell_type": "code",
   "execution_count": 123,
   "id": "2756e5ae-963b-4295-9bdf-a83f4174dd00",
   "metadata": {},
   "outputs": [],
   "source": [
    "df_res_pos = pd.DataFrame(naver_total.groupby(['resource'])['sentiment2'].mean())\n",
    "df_res_pos = df_res_pos.reset_index()\n",
    "df_res_pos.columns = ['resource', 'positive_avg']"
   ]
  },
  {
   "cell_type": "code",
   "execution_count": 124,
   "id": "a64ed085-3798-430a-a333-cb4ca2a528cf",
   "metadata": {
    "tags": []
   },
   "outputs": [
    {
     "data": {
      "text/html": [
       "<div>\n",
       "<style scoped>\n",
       "    .dataframe tbody tr th:only-of-type {\n",
       "        vertical-align: middle;\n",
       "    }\n",
       "\n",
       "    .dataframe tbody tr th {\n",
       "        vertical-align: top;\n",
       "    }\n",
       "\n",
       "    .dataframe thead th {\n",
       "        text-align: right;\n",
       "    }\n",
       "</style>\n",
       "<table border=\"1\" class=\"dataframe\">\n",
       "  <thead>\n",
       "    <tr style=\"text-align: right;\">\n",
       "      <th></th>\n",
       "      <th>resource</th>\n",
       "      <th>positive_avg</th>\n",
       "    </tr>\n",
       "  </thead>\n",
       "  <tbody>\n",
       "    <tr>\n",
       "      <th>0</th>\n",
       "      <td>6시 내 고향</td>\n",
       "      <td>0.000000</td>\n",
       "    </tr>\n",
       "    <tr>\n",
       "      <th>1</th>\n",
       "      <td>골목식당</td>\n",
       "      <td>0.000000</td>\n",
       "    </tr>\n",
       "    <tr>\n",
       "      <th>2</th>\n",
       "      <td>김준현</td>\n",
       "      <td>0.000000</td>\n",
       "    </tr>\n",
       "    <tr>\n",
       "      <th>3</th>\n",
       "      <td>더들리</td>\n",
       "      <td>0.000000</td>\n",
       "    </tr>\n",
       "    <tr>\n",
       "      <th>4</th>\n",
       "      <td>맛있는 녀석들</td>\n",
       "      <td>0.000000</td>\n",
       "    </tr>\n",
       "    <tr>\n",
       "      <th>5</th>\n",
       "      <td>모닝 와이드</td>\n",
       "      <td>0.000000</td>\n",
       "    </tr>\n",
       "    <tr>\n",
       "      <th>6</th>\n",
       "      <td>문세윤</td>\n",
       "      <td>17.250000</td>\n",
       "    </tr>\n",
       "    <tr>\n",
       "      <th>7</th>\n",
       "      <td>백종원</td>\n",
       "      <td>23.111111</td>\n",
       "    </tr>\n",
       "    <tr>\n",
       "      <th>8</th>\n",
       "      <td>비(정지훈)</td>\n",
       "      <td>0.000000</td>\n",
       "    </tr>\n",
       "    <tr>\n",
       "      <th>9</th>\n",
       "      <td>생방송 오늘 저녁</td>\n",
       "      <td>0.000000</td>\n",
       "    </tr>\n",
       "    <tr>\n",
       "      <th>10</th>\n",
       "      <td>생방송 투데이</td>\n",
       "      <td>0.000000</td>\n",
       "    </tr>\n",
       "    <tr>\n",
       "      <th>11</th>\n",
       "      <td>생생정보통</td>\n",
       "      <td>0.000000</td>\n",
       "    </tr>\n",
       "    <tr>\n",
       "      <th>12</th>\n",
       "      <td>생활의 달인</td>\n",
       "      <td>0.000000</td>\n",
       "    </tr>\n",
       "    <tr>\n",
       "      <th>13</th>\n",
       "      <td>성시경</td>\n",
       "      <td>4.933333</td>\n",
       "    </tr>\n",
       "    <tr>\n",
       "      <th>14</th>\n",
       "      <td>수요미식회</td>\n",
       "      <td>23.833333</td>\n",
       "    </tr>\n",
       "    <tr>\n",
       "      <th>15</th>\n",
       "      <td>신동엽</td>\n",
       "      <td>13.473684</td>\n",
       "    </tr>\n",
       "    <tr>\n",
       "      <th>16</th>\n",
       "      <td>이영자</td>\n",
       "      <td>18.607143</td>\n",
       "    </tr>\n",
       "    <tr>\n",
       "      <th>17</th>\n",
       "      <td>전참시</td>\n",
       "      <td>7.600000</td>\n",
       "    </tr>\n",
       "    <tr>\n",
       "      <th>18</th>\n",
       "      <td>최자</td>\n",
       "      <td>14.678571</td>\n",
       "    </tr>\n",
       "    <tr>\n",
       "      <th>19</th>\n",
       "      <td>츄릅켠</td>\n",
       "      <td>0.200000</td>\n",
       "    </tr>\n",
       "  </tbody>\n",
       "</table>\n",
       "</div>"
      ],
      "text/plain": [
       "     resource  positive_avg\n",
       "0     6시 내 고향      0.000000\n",
       "1        골목식당      0.000000\n",
       "2         김준현      0.000000\n",
       "3         더들리      0.000000\n",
       "4     맛있는 녀석들      0.000000\n",
       "5      모닝 와이드      0.000000\n",
       "6         문세윤     17.250000\n",
       "7         백종원     23.111111\n",
       "8      비(정지훈)      0.000000\n",
       "9   생방송 오늘 저녁      0.000000\n",
       "10    생방송 투데이      0.000000\n",
       "11      생생정보통      0.000000\n",
       "12     생활의 달인      0.000000\n",
       "13        성시경      4.933333\n",
       "14      수요미식회     23.833333\n",
       "15        신동엽     13.473684\n",
       "16        이영자     18.607143\n",
       "17        전참시      7.600000\n",
       "18         최자     14.678571\n",
       "19        츄릅켠      0.200000"
      ]
     },
     "metadata": {},
     "output_type": "display_data"
    }
   ],
   "source": [
    "display(df_res_pos)"
   ]
  },
  {
   "cell_type": "code",
   "execution_count": 6,
   "id": "a7fecef6-a425-4cc9-908b-783f5ff4ebf2",
   "metadata": {},
   "outputs": [],
   "source": [
    "total_group = naver_total"
   ]
  },
  {
   "cell_type": "code",
   "execution_count": 7,
   "id": "ae5ffdaa-40a4-42fa-8290-14e77763c903",
   "metadata": {},
   "outputs": [],
   "source": [
    "d = total_group[(total_group['sentiment1'] == 0) & (total_group['sentiment2'] == 0) & (total_group['sentiment3'] == 0)].index\n",
    "\n",
    "total_group.drop(d, inplace = True)"
   ]
  },
  {
   "cell_type": "code",
   "execution_count": 8,
   "id": "2eeb2ea5-e028-4a65-8f60-25fc56de2e8f",
   "metadata": {},
   "outputs": [],
   "source": [
    "df_group_pos = pd.DataFrame(total_group.groupby(['group'])['sentiment2'].mean())\n",
    "df_group_pos = df_group_pos.reset_index()\n",
    "df_group_pos.columns = ['group', 'positive_avg']\n"
   ]
  },
  {
   "cell_type": "code",
   "execution_count": 9,
   "id": "5c6bfd72-b19b-4afa-8768-33aae551afef",
   "metadata": {},
   "outputs": [
    {
     "data": {
      "text/html": [
       "<div>\n",
       "<style scoped>\n",
       "    .dataframe tbody tr th:only-of-type {\n",
       "        vertical-align: middle;\n",
       "    }\n",
       "\n",
       "    .dataframe tbody tr th {\n",
       "        vertical-align: top;\n",
       "    }\n",
       "\n",
       "    .dataframe thead th {\n",
       "        text-align: right;\n",
       "    }\n",
       "</style>\n",
       "<table border=\"1\" class=\"dataframe\">\n",
       "  <thead>\n",
       "    <tr style=\"text-align: right;\">\n",
       "      <th></th>\n",
       "      <th>group</th>\n",
       "      <th>positive_avg</th>\n",
       "    </tr>\n",
       "  </thead>\n",
       "  <tbody>\n",
       "    <tr>\n",
       "      <th>0</th>\n",
       "      <td>방송프로그램</td>\n",
       "      <td>17.462963</td>\n",
       "    </tr>\n",
       "    <tr>\n",
       "      <th>1</th>\n",
       "      <td>연예인</td>\n",
       "      <td>16.961165</td>\n",
       "    </tr>\n",
       "    <tr>\n",
       "      <th>2</th>\n",
       "      <td>유튜버</td>\n",
       "      <td>1.000000</td>\n",
       "    </tr>\n",
       "  </tbody>\n",
       "</table>\n",
       "</div>"
      ],
      "text/plain": [
       "    group  positive_avg\n",
       "0  방송프로그램     17.462963\n",
       "1     연예인     16.961165\n",
       "2     유튜버      1.000000"
      ]
     },
     "metadata": {},
     "output_type": "display_data"
    }
   ],
   "source": [
    "display(df_group_pos)"
   ]
  },
  {
   "cell_type": "markdown",
   "id": "cbc41a11-b998-4125-a3da-225a5e20e7c2",
   "metadata": {},
   "source": [
    "# 여기 아래로 시각화 작업중 "
   ]
  },
  {
   "cell_type": "code",
   "execution_count": 15,
   "id": "81104d5c-17b3-490d-ad41-04f2fcfbe7ab",
   "metadata": {},
   "outputs": [
    {
     "data": {
      "text/plain": [
       "'C:\\\\Users\\\\jh367\\\\.matplotlib'"
      ]
     },
     "execution_count": 15,
     "metadata": {},
     "output_type": "execute_result"
    }
   ],
   "source": [
    "matplotlib.get_cachedir()"
   ]
  },
  {
   "cell_type": "code",
   "execution_count": 10,
   "id": "71cceaf4-a6f0-4d75-a0eb-3ecf972b411b",
   "metadata": {},
   "outputs": [
    {
     "name": "stdout",
     "output_type": "stream",
     "text": [
      "폰트설정 : Gmarket Sans\n"
     ]
    }
   ],
   "source": [
    "import pandas as pd\n",
    "import matplotlib.pyplot as plt\n",
    "import seaborn as sns\n",
    "\n",
    "# 폰트설정\n",
    "from matplotlib import font_manager, rc\n",
    "font_path = \"./data/font/21582067_G마켓산스Medium_OTF.otf\"   #폰트파일의 위치\n",
    "font_name = font_manager.FontProperties(fname=font_path).get_name() # rc 함수를 통해, rcParams에 사용되는 폰트의 정식명칭을 알 수 있음\n",
    "print(\"폰트설정 :\", font_name)\n",
    "rc('font', family=font_name)\n",
    "\n",
    "# 색깔 설정\n",
    "my_colors = sns.color_palette(\"RdPu\", 8) + sns.color_palette(\"Purples\", 2) + sns.color_palette(\"Blues\", 10)\n",
    "my_colors2 = sns.color_palette(\"RdPu\", 1) + sns.color_palette(\"Purples\", 1) + sns.color_palette(\"Blues\", 1)\n"
   ]
  },
  {
   "cell_type": "code",
   "execution_count": 18,
   "id": "7e45aa52-13c8-449c-ae27-b54266090fec",
   "metadata": {},
   "outputs": [],
   "source": [
    "import matplotlib \n",
    "matplotlib.font_manager._rebuild()"
   ]
  },
  {
   "cell_type": "code",
   "execution_count": 36,
   "id": "c1ce7c1b-b266-45dc-8dfd-6c30bd49f4f7",
   "metadata": {},
   "outputs": [
    {
     "name": "stdout",
     "output_type": "stream",
     "text": [
      "Index(['positive_avg'], dtype='object')\n"
     ]
    }
   ],
   "source": []
  },
  {
   "cell_type": "code",
   "execution_count": 41,
   "id": "72f3a0ed-3a07-46ff-a023-31a1b64f3844",
   "metadata": {},
   "outputs": [
    {
     "ename": "TypeError",
     "evalue": "xticks() takes from 0 to 2 positional arguments but 3 were given",
     "output_type": "error",
     "traceback": [
      "\u001b[1;31m---------------------------------------------------------------------------\u001b[0m",
      "\u001b[1;31mTypeError\u001b[0m                                 Traceback (most recent call last)",
      "\u001b[1;32m<ipython-input-41-a0638d01ff85>\u001b[0m in \u001b[0;36m<module>\u001b[1;34m\u001b[0m\n\u001b[0;32m      3\u001b[0m \u001b[0mplt\u001b[0m\u001b[1;33m.\u001b[0m\u001b[0mfigure\u001b[0m\u001b[1;33m(\u001b[0m\u001b[0mfigsize\u001b[0m\u001b[1;33m=\u001b[0m\u001b[1;33m(\u001b[0m\u001b[1;36m16\u001b[0m\u001b[1;33m,\u001b[0m\u001b[1;36m9\u001b[0m\u001b[1;33m)\u001b[0m\u001b[1;33m)\u001b[0m\u001b[1;33m\u001b[0m\u001b[1;33m\u001b[0m\u001b[0m\n\u001b[0;32m      4\u001b[0m \u001b[0mdf_group_pos\u001b[0m\u001b[1;33m.\u001b[0m\u001b[0mplot\u001b[0m\u001b[1;33m(\u001b[0m\u001b[0mkind\u001b[0m\u001b[1;33m=\u001b[0m\u001b[1;34m'bar'\u001b[0m\u001b[1;33m,\u001b[0m \u001b[0mcolor\u001b[0m\u001b[1;33m=\u001b[0m\u001b[0mmy_colors\u001b[0m\u001b[1;33m)\u001b[0m\u001b[1;33m\u001b[0m\u001b[1;33m\u001b[0m\u001b[0m\n\u001b[1;32m----> 5\u001b[1;33m \u001b[0mplt\u001b[0m\u001b[1;33m.\u001b[0m\u001b[0mxticks\u001b[0m\u001b[1;33m(\u001b[0m\u001b[1;34m'방송프로그램'\u001b[0m\u001b[1;33m,\u001b[0m \u001b[1;34m'연예인'\u001b[0m\u001b[1;33m,\u001b[0m \u001b[1;34m'유튜버'\u001b[0m\u001b[1;33m)\u001b[0m\u001b[1;33m\u001b[0m\u001b[1;33m\u001b[0m\u001b[0m\n\u001b[0m\u001b[0;32m      6\u001b[0m \u001b[0mplt\u001b[0m\u001b[1;33m.\u001b[0m\u001b[0mxlabel\u001b[0m\u001b[1;33m(\u001b[0m\u001b[1;32mNone\u001b[0m\u001b[1;33m)\u001b[0m\u001b[1;33m\u001b[0m\u001b[1;33m\u001b[0m\u001b[0m\n\u001b[0;32m      7\u001b[0m \u001b[0mplt\u001b[0m\u001b[1;33m.\u001b[0m\u001b[0mylabel\u001b[0m\u001b[1;33m(\u001b[0m\u001b[1;32mNone\u001b[0m\u001b[1;33m)\u001b[0m\u001b[1;33m\u001b[0m\u001b[1;33m\u001b[0m\u001b[0m\n",
      "\u001b[1;31mTypeError\u001b[0m: xticks() takes from 0 to 2 positional arguments but 3 were given"
     ]
    },
    {
     "data": {
      "text/plain": [
       "<Figure size 1152x648 with 0 Axes>"
      ]
     },
     "metadata": {},
     "output_type": "display_data"
    },
    {
     "data": {
      "image/png": "[encoded data removed]",
      "text/plain": [
       "<Figure size 432x288 with 1 Axes>"
      ]
     },
     "metadata": {
      "needs_background": "light"
     },
     "output_type": "display_data"
    }
   ],
   "source": [
    "# matplotlib\n",
    "\n",
    "plt.figure(figsize=(16,9))\n",
    "df_group_pos.plot(kind='bar', color=my_colors)\n",
    "plt.xticks('방송프로그램', '연예인', '유튜버')\n",
    "plt.xlabel(None)\n",
    "plt.ylabel(None)\n",
    "plt.subplots_adjust(bottom=0.2)\n",
    "plt.show()"
   ]
  },
  {
   "cell_type": "code",
   "execution_count": null,
   "id": "33204e9a-4667-48f1-9667-f5bd18d95706",
   "metadata": {},
   "outputs": [],
   "source": []
  }
 ],
 "metadata": {
  "kernelspec": {
   "display_name": "Python 3 (ipykernel)",
   "language": "python",
   "name": "python3"
  },
  "language_info": {
   "codemirror_mode": {
    "name": "ipython",
    "version": 3
   },
   "file_extension": ".py",
   "mimetype": "text/x-python",
   "name": "python",
   "nbconvert_exporter": "python",
   "pygments_lexer": "ipython3",
   "version": "3.8.11"
  }
 },
 "nbformat": 4,
 "nbformat_minor": 5
}
