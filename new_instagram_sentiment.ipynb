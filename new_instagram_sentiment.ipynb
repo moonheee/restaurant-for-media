{
 "cells": [
  {
   "cell_type": "markdown",
   "id": "e9255c15-e0cd-4a2c-b32e-9f172cccbebf",
   "metadata": {},
   "source": [
    "# 긍정적인 글 분류하기"
   ]
  },
  {
   "cell_type": "code",
   "execution_count": null,
   "id": "f38bcf61-1cd2-4e18-ba12-85b2739182c9",
   "metadata": {},
   "outputs": [],
   "source": [
    "import pandas as pd"
   ]
  },
  {
   "cell_type": "markdown",
   "id": "7ce8acd8-d245-4384-ba84-067eb47d468e",
   "metadata": {},
   "source": [
    "## 긍정사전과 부정사전 가져오기"
   ]
  },
  {
   "cell_type": "code",
   "execution_count": null,
   "id": "c5c142f3-c51e-47ab-b32c-9068c625ef27",
   "metadata": {},
   "outputs": [],
   "source": [
    "# 긍정사전과 부정사전 가져오기\n",
    "pos_df = pd.read_csv(\"./data/pos_df_test.csv\")\n",
    "neg_df = pd.read_csv(\"./data/neg_df_test.csv\")\n",
    "# 긍정, 부정 사전  리스트로 변환 \n",
    "pos_word = pos_df['word'].values.tolist()\n",
    "neg_word = neg_df['word'].values.tolist()"
   ]
  },
  {
   "cell_type": "markdown",
   "id": "071bd3c9-9bde-4855-bcef-0904687961e1",
   "metadata": {},
   "source": [
    "## \"sentiment1\"열 추가하기\n",
    "sentiment1 = 식당-미디어 모든 글의 긍정적인 단어 수 - 부정적인 수"
   ]
  },
  {
   "cell_type": "code",
   "execution_count": null,
   "id": "f2262242-911d-4e47-8ca4-d6ce040c987a",
   "metadata": {},
   "outputs": [],
   "source": [
    "instagram_total = pd.read_csv(\"./data/instagram/instagramtotal.csv\")\n",
    "for row in range(len(instagram_total)):\n",
    "    file = \"./data/instagram/referenceONLY/\" + instagram_total.iloc[row][\"restaurant\"] + \"_\" + instagram_total.iloc[row][\"mediaName\"] + \".csv\"\n",
    "    data = pd.read_csv(file)\n",
    "    # 해당 파일의 하나의 행에 대한 감정분석\n",
    "    pos = 0\n",
    "    neg = 0\n",
    "    for i in range(len(data)):\n",
    "        for words in pos_word:\n",
    "            if words in data.iloc[i][\"content\"]:\n",
    "                pos += 1\n",
    "        for words in neg_word:\n",
    "            if words in data.iloc[i][\"content\"]:\n",
    "                neg += 1\n",
    "    # 해당 파일의 감정분석 결과 저장\n",
    "    instagram_total.loc[row, \"sentiment1\"] = pos - neg\n",
    "# 파일로 저장\n",
    "instagram_total.to_csv(\"./data/instagram/instagramtotal.csv\", index=False)"
   ]
  },
  {
   "cell_type": "markdown",
   "id": "328309d1-283d-43b9-af10-5ef63baa3157",
   "metadata": {},
   "source": [
    "## \"sentiment2\"열 추가하기\n",
    "sentiment2 = 식당-미디어 모든 글의 리뷰별 positive 갯수 "
   ]
  },
  {
   "cell_type": "code",
   "execution_count": null,
   "id": "3d9f2bfd-6dac-4cb4-9cf6-2026c39caea7",
   "metadata": {},
   "outputs": [],
   "source": [
    "# 감정사전이 완료 되지 않았을 때\n",
    "# 종합 데이터 가져오기\n",
    "instagram_total = pd.read_csv(\"./data/instagram/instagramtotal.csv\")\n",
    "instagram_total[\"sentiment2\"] = None\n",
    "for row in range(len(instagram_total)):\n",
    "    file = \"./data/instagram/referenceONLY/\" + instagram_total.iloc[row][\"restaurant\"] + \"_\" + instagram_total.iloc[row][\"mediaName\"] + \".csv\"\n",
    "    data = pd.read_csv(file)\n",
    "    # 해당 파일의 하나의 행에 대한 감정분석\n",
    "    data[\"senti\"] = None\n",
    "    for i in range(len(data)):\n",
    "        pos = 0\n",
    "        for words in pos_word:\n",
    "            if words in data.iloc[i][\"content\"]:\n",
    "                pos += 1\n",
    "        # 각 글의 긍정적인 단어가 1개만 있어도 긍정적인 글입니다.\n",
    "        if pos > 0:\n",
    "            data.loc[i,\"senti\"] = \"positive\"\n",
    "        else:\n",
    "            data.loc[i,\"senti\"] = \"negative\"\n",
    "    # 해당 파일의 감정분석 결과 저장\n",
    "    # positive가 반이상면 positive\n",
    "    sentiment2 = len(data.loc[data[\"senti\"] == \"positive\"]) \n",
    "    instagram_total.loc[row, \"sentiment2\"] = sentiment2\n",
    "# 파일로 저장\n",
    "instagram_total.to_csv(\"./data/instagram/instagramtotal.csv\", index=False)"
   ]
  },
  {
   "cell_type": "markdown",
   "id": "9a59465b-5572-4203-8343-fe1374bbdb96",
   "metadata": {},
   "source": [
    "## \"sentiment3\"열 추가하기\n",
    "sentiment3 = 식당-미디어 모든 글의 리뷰별 positive - negative 갯수"
   ]
  },
  {
   "cell_type": "code",
   "execution_count": null,
   "id": "13e346ee-8dd5-49bf-92d1-3d306d759492",
   "metadata": {},
   "outputs": [],
   "source": [
    "# 감정사전이 완료 되지 않았을 때\n",
    "# 종합 데이터 가져오기\n",
    "instagram_total = pd.read_csv(\"./data/instagram/instagramtotal.csv\")\n",
    "instagram_total[\"sentiment3\"] = None\n",
    "for row in range(len(instagram_total)):\n",
    "    file = \"./data/instagram/referenceONLY/\" + instagram_total.iloc[row][\"restaurant\"] + \"_\" + instagram_total.iloc[row][\"mediaName\"] + \".csv\"\n",
    "    data = pd.read_csv(file)\n",
    "    # 해당 파일의 하나의 행에 대한 감정분석\n",
    "    data[\"senti\"] = None\n",
    "    for i in range(len(data)):\n",
    "        pos = 0\n",
    "        neg = 0 \n",
    "        for words in pos_word:\n",
    "            if words in data.iloc[i][\"content\"]:\n",
    "                pos += 1\n",
    "                \n",
    "        for words in neg_word:\n",
    "            if words in data.iloc[i][\"content\"]:\n",
    "                neg += 1\n",
    "\n",
    "        # 각 글의 긍정적인 단어가 1개만 있어도 긍정적인 글입니다.\n",
    "        senti = pos - neg \n",
    "        \n",
    "        if senti >= 0:\n",
    "            data.loc[i,\"senti\"] = \"positive\"\n",
    "        else:\n",
    "            data.loc[i,\"senti\"] = \"negative\"\n",
    "    # 해당 파일의 감정분석 결과 저장\n",
    "    # positive가 반이상면 positive\n",
    "    sentiment3 = len(data.loc[data[\"senti\"] == \"positive\"]) - len(data.loc[data[\"senti\"] == \"negative\"])\n",
    "    instagram_total.loc[row, \"sentiment3\"] = sentiment3\n",
    "# 파일로 저장\n",
    "instagram_total.to_csv(\"./data/instagram/instagramtotal.csv\", index=False)"
   ]
  },
  {
   "cell_type": "code",
   "execution_count": null,
   "id": "41c5a70e-dd59-4285-838a-a1ad23ec2af2",
   "metadata": {},
   "outputs": [],
   "source": [
    "display(instagram_total)"
   ]
  },
  {
   "cell_type": "markdown",
   "id": "c6d036b7-02ac-40bd-95cc-f6ade2992947",
   "metadata": {},
   "source": [
    "* sentiment1 : 해당 식당 전체 리뷰 긍정단어 - 부정단어\n",
    "* sentiment2 : 해당 식당 리뷰별 positive 갯수    \n",
    "* sentiment2 : 해당 식당 리뷰별 positive - negative 갯수 "
   ]
  },
  {
   "cell_type": "code",
   "execution_count": null,
   "id": "49c7fe4d-f8a4-4f7a-9674-67cb4a0c57d6",
   "metadata": {},
   "outputs": [],
   "source": [
    "# pd.set_option(\"display.max_rows\", None, \"display.max_columns\", None)  "
   ]
  },
  {
   "cell_type": "code",
   "execution_count": null,
   "id": "ea416b4f-a6f8-4400-a3f2-67ac64015839",
   "metadata": {},
   "outputs": [],
   "source": [
    "instagram_total = pd.read_csv(\"./data/instagram/instagramtotal.csv\")"
   ]
  },
  {
   "cell_type": "code",
   "execution_count": null,
   "id": "797738ef-831d-4297-bb7f-8beffdb4dd3e",
   "metadata": {},
   "outputs": [],
   "source": [
    "df_res_pos = pd.DataFrame(instagram_total.groupby(['mediaName'])['sentiment2'].mean())\n",
    "df_res_pos = df_res_pos.reset_index()\n",
    "df_res_pos.columns = ['mediaName', 'positive_avg']\n",
    "\n",
    "display(df_res_pos)"
   ]
  },
  {
   "cell_type": "code",
   "execution_count": null,
   "id": "a7fecef6-a425-4cc9-908b-783f5ff4ebf2",
   "metadata": {},
   "outputs": [],
   "source": [
    "total_group = instagram_total.copy()"
   ]
  },
  {
   "cell_type": "code",
   "execution_count": null,
   "id": "ae5ffdaa-40a4-42fa-8290-14e77763c903",
   "metadata": {},
   "outputs": [],
   "source": [
    "d = total_group[(total_group['sentiment1'] == 0) & (total_group['sentiment2'] == 0) & (total_group['sentiment3'] == 0)].index\n",
    "\n",
    "total_group.drop(d, inplace = True)"
   ]
  },
  {
   "cell_type": "code",
   "execution_count": null,
   "id": "2eeb2ea5-e028-4a65-8f60-25fc56de2e8f",
   "metadata": {},
   "outputs": [],
   "source": [
    "df_group_pos = pd.DataFrame(total_group.groupby(['group'])['sentiment2'].mean())\n",
    "df_group_pos = df_group_pos.reset_index()\n",
    "df_group_pos.columns = ['group', 'positive_avg']"
   ]
  },
  {
   "cell_type": "code",
   "execution_count": null,
   "id": "5c6bfd72-b19b-4afa-8768-33aae551afef",
   "metadata": {},
   "outputs": [],
   "source": [
    "display(df_group_pos)"
   ]
  },
  {
   "cell_type": "markdown",
   "id": "cbc41a11-b998-4125-a3da-225a5e20e7c2",
   "metadata": {},
   "source": [
    "# 여기 아래로 시각화 작업중 "
   ]
  },
  {
   "cell_type": "code",
   "execution_count": null,
   "id": "81104d5c-17b3-490d-ad41-04f2fcfbe7ab",
   "metadata": {},
   "outputs": [],
   "source": [
    "matplotlib.get_cachedir()"
   ]
  },
  {
   "cell_type": "code",
   "execution_count": null,
   "id": "71cceaf4-a6f0-4d75-a0eb-3ecf972b411b",
   "metadata": {},
   "outputs": [],
   "source": [
    "import pandas as pd\n",
    "import matplotlib.pyplot as plt\n",
    "import seaborn as sns\n",
    "\n",
    "# 폰트설정\n",
    "from matplotlib import font_manager, rc\n",
    "font_path = \"./data/font/21582067_G마켓산스Medium_OTF.otf\"   #폰트파일의 위치\n",
    "font_name = font_manager.FontProperties(fname=font_path).get_name() # rc 함수를 통해, rcParams에 사용되는 폰트의 정식명칭을 알 수 있음\n",
    "print(\"폰트설정 :\", font_name)\n",
    "rc('font', family=font_name)\n",
    "\n",
    "# 색깔 설정\n",
    "my_colors = sns.color_palette(\"RdPu\", 8) + sns.color_palette(\"Purples\", 2) + sns.color_palette(\"Blues\", 10)\n",
    "my_colors2 = sns.color_palette(\"RdPu\", 1) + sns.color_palette(\"Purples\", 1) + sns.color_palette(\"Blues\", 1)\n"
   ]
  },
  {
   "cell_type": "code",
   "execution_count": null,
   "id": "7e45aa52-13c8-449c-ae27-b54266090fec",
   "metadata": {},
   "outputs": [],
   "source": [
    "# import matplotlib \n",
    "# matplotlib.font_manager._rebuild()"
   ]
  },
  {
   "cell_type": "code",
   "execution_count": null,
   "id": "d6c75ad7-0a37-4f6d-8b44-e06cb5691d33",
   "metadata": {},
   "outputs": [],
   "source": [
    "groups = ['연예인', '유튜버', '방송프로그램']\n",
    "\n",
    "temp = pd.DataFrame()\n",
    "for i, media in enumerate(groups):\n",
    "    temp = temp.append(df_group_pos.loc[df_group_pos.group == media])\n",
    "df_group_pos = temp.copy()\n",
    "display(df_group_pos)"
   ]
  },
  {
   "cell_type": "code",
   "execution_count": null,
   "id": "ef7b677b-00c7-4669-8621-a82e0d1f685f",
   "metadata": {},
   "outputs": [],
   "source": [
    "plt.figure(figsize=(7, 7))\n",
    "plt.rc('font', size=15)\n",
    "x_values = ['연예인', \"유튜버\", \"방송프로그램\"]\n",
    "xi = list(range(len(x_values)))\n",
    "\n",
    "sns.barplot(df_group_pos.group, df_group_pos.positive_avg, palette=my_colors2, alpha  = 0.8)\n",
    "plt.xticks(xi, x_values, rotation=45)\n",
    "plt.xlabel(None)\n",
    "plt.ylabel(None)\n",
    "plt.subplots_adjust(bottom=0.2)\n",
    "plt.legend('',frameon=False)\n",
    "plt.savefig('./output/senti/pos_gavg_instagram.png', transparent = True)\n",
    "plt.show()"
   ]
  },
  {
   "cell_type": "code",
   "execution_count": null,
   "id": "72f3a0ed-3a07-46ff-a023-31a1b64f3844",
   "metadata": {},
   "outputs": [],
   "source": [
    "# 데이터 순서 정렬하기\n",
    "연예인 = [\"이영자\", \"백종원\", \"성시경\", \"신동엽\", \"최자\", \"정지훈\", \"문세윤\", \"김준현\"]\n",
    "유튜버 = [\"더들리\", \"츄릅켠\"]\n",
    "방송프로그램 = [\"수요미식회\", \"생생정보통\", \"전참시\", \"생활의달인\", \"6시내고향\", \"골목식당\", \"생방송오늘저녁\", \"모닝와이드\", \"맛있는녀석들\", \"생방송투데이\"]\n",
    "groups = 연예인 + 유튜버 + 방송프로그램\n",
    "temp = pd.DataFrame()\n",
    "for i, media in enumerate(groups):\n",
    "    temp = temp.append(df_res_pos.loc[df_res_pos.mediaName == media])\n",
    "df_res_pos = temp.copy()\n",
    "#display(df_res_pos)"
   ]
  },
  {
   "cell_type": "code",
   "execution_count": null,
   "id": "33204e9a-4667-48f1-9667-f5bd18d95706",
   "metadata": {},
   "outputs": [],
   "source": [
    "# seaborn\n",
    "plt.rc('font', size=25)\n",
    "plt.figure(figsize=(30,10))\n",
    "sns.barplot(df_res_pos.mediaName, df_res_pos.positive_avg, palette=my_colors, alpha  = 0.8)\n",
    "# 기준선\n",
    "plt.axvline(7.5, color='gray', linestyle='--', linewidth=2)\n",
    "plt.axvline(9.5, color='gray', linestyle='--', linewidth=2)\n",
    "# 구분 텍스트\n",
    "plt.text(3.75, df_res_pos[\"positive_avg\"].max() * 0.80, \"연예인\",       \n",
    "         fontsize = 25, \n",
    "         color='gray',\n",
    "         horizontalalignment='center')\n",
    "plt.text(8.5, df_res_pos[\"positive_avg\"].max() * 0.80, \"유튜버\",       \n",
    "         fontsize = 25, \n",
    "         color='gray',\n",
    "         horizontalalignment='center')\n",
    "plt.text(14.75, df_res_pos[\"positive_avg\"].max() * 0.80, \"방송프로그램\",       \n",
    "         fontsize = 25, \n",
    "         color='gray',\n",
    "         horizontalalignment='center')\n",
    "plt.xticks(rotation=45)\n",
    "plt.xlabel(None)\n",
    "plt.ylabel(None)\n",
    "plt.subplots_adjust(bottom=0.2)\n",
    "plt.savefig('./output/senti/pos_avg_instagram', transparent = True)\n",
    "plt.show()"
   ]
  }
 ],
 "metadata": {
  "kernelspec": {
   "display_name": "Python 3 (ipykernel)",
   "language": "python",
   "name": "python3"
  },
  "language_info": {
   "codemirror_mode": {
    "name": "ipython",
    "version": 3
   },
   "file_extension": ".py",
   "mimetype": "text/x-python",
   "name": "python",
   "nbconvert_exporter": "python",
   "pygments_lexer": "ipython3",
   "version": "3.8.11"
  }
 },
 "nbformat": 4,
 "nbformat_minor": 5
}
