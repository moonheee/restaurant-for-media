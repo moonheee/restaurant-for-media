{
 "cells": [
  {
   "cell_type": "markdown",
   "id": "37fa5607-1897-439f-bd16-c5673e15863e",
   "metadata": {},
   "source": [
    "# 식신데이터 #"
   ]
  },
  {
   "cell_type": "code",
   "execution_count": null,
   "id": "227c84d1-a263-4f53-a44f-d191801c7ffb",
   "metadata": {},
   "outputs": [],
   "source": [
    "import pandas as pd\n",
    "\n",
    "df = pd.read_excel(\"./data/음식점 모음.xlsx\")\n",
    "\n",
    "# df.head()"
   ]
  },
  {
   "cell_type": "code",
   "execution_count": null,
   "id": "d6340539-9d75-40d2-946e-041596ed6e12",
   "metadata": {},
   "outputs": [],
   "source": [
    "display(df.columns)"
   ]
  },
  {
   "cell_type": "code",
   "execution_count": null,
   "id": "9bda4b01-b5ae-418e-b669-43619dc200ea",
   "metadata": {},
   "outputs": [],
   "source": [
    "# 해당데이터는 비공개 데이터 입니다.\n",
    "df_ss = pd.read_csv(\"./data/식신.csv\")\n",
    "\n",
    "# df_ss.head()"
   ]
  },
  {
   "cell_type": "markdown",
   "id": "34749383-ed80-44c4-b18c-fbfaecccace1",
   "metadata": {},
   "source": [
    "### 베로키오 커피 리뷰 살펴보기 ###\n",
    "#### 대부분 업체가 작성한 리뷰 ####"
   ]
  },
  {
   "cell_type": "code",
   "execution_count": null,
   "id": "5bfa764a-3551-4b23-b3bb-8d14c073bbb4",
   "metadata": {},
   "outputs": [],
   "source": [
    "# display(df_ss.loc[df_ss.PLC_NM == '베로키오 커피'])"
   ]
  },
  {
   "cell_type": "markdown",
   "id": "fd31993c-38fd-43a6-a5ee-563535ad7a66",
   "metadata": {},
   "source": [
    "### 해당 업체 데이터프레임에서 제거 ###"
   ]
  },
  {
   "cell_type": "code",
   "execution_count": null,
   "id": "7f1deec6-815c-4fb8-9323-6e5ff9d5b3d3",
   "metadata": {},
   "outputs": [],
   "source": [
    "# indexNames = df_ss[df_ss['PLC_NM'] == \"베로키오 커피\"].index\n",
    "# df_ss.drop(indexNames, inplace =True)"
   ]
  },
  {
   "cell_type": "code",
   "execution_count": null,
   "id": "f7226eb7-61f1-4b98-9d82-e83d6c8e31b5",
   "metadata": {},
   "outputs": [],
   "source": [
    "# display(df_ss)\n",
    "\n",
    "# df_ss.to_csv(\"./project_output/newdfss.csv\")"
   ]
  },
  {
   "cell_type": "code",
   "execution_count": null,
   "id": "ca2c5b79-c732-4ff5-91fe-15a4b1b14c7f",
   "metadata": {},
   "outputs": [],
   "source": [
    "# 베로키오 커피 df_ss에서 제거됬는지 확인 \n",
    "# display(df_ss.loc[df_ss.PLC_NM == '베로키오 커피'])"
   ]
  },
  {
   "cell_type": "code",
   "execution_count": null,
   "id": "9323872f-11ea-4ed5-9330-0576d4a648ee",
   "metadata": {},
   "outputs": [],
   "source": [
    "# 셀럽, 유투버, 방송 리스트 만들기 \n",
    "\n",
    "celeb_list = []\n",
    "youtuber_list = []\n",
    "broad_list = []\n",
    "\n",
    "celebs = df.columns\n",
    "\n",
    "for i in range (0,8):\n",
    "     celeb_list.append(celebs[i])\n",
    "\n",
    "print(celeb_list)\n",
    "\n",
    "for i in range (8,10):\n",
    "    youtuber_list.append(celebs[i])\n",
    "\n",
    "print(youtuber_list)\n",
    "\n",
    "for i in range (10,20):\n",
    "    broad_list.append(celebs[i])\n",
    "\n",
    "print(broad_list)\n"
   ]
  },
  {
   "cell_type": "markdown",
   "id": "c5d06976-7683-48e4-b5db-b67f2de3000e",
   "metadata": {},
   "source": [
    "### ~~정지훈이 언급된 리뷰가 없고 '비'는 연예인 비가 아닌 다른단어에 포함된 비로 보여짐~~ ###"
   ]
  },
  {
   "cell_type": "code",
   "execution_count": null,
   "id": "054b0b97-8167-4719-953d-8c0af34cf84a",
   "metadata": {},
   "outputs": [],
   "source": [
    "\"\"\"\n",
    "\n",
    "정지훈, 비  = 0, 0 \n",
    "\n",
    "\n",
    "for i in range (0,10756):\n",
    "    if \"정지훈\" in (df_ss.iloc[i][5]):\n",
    "        정지훈 += 1\n",
    "        \n",
    "\n",
    "print(정지훈) \n",
    "\n",
    "\n",
    "\n",
    "for i in range (0,10756):\n",
    "    if celeb_list[5] in (df_ss.iloc[i][5]):\n",
    "        비 += 1\n",
    "        \n",
    "\n",
    "print(비)\n",
    "\"\"\""
   ]
  },
  {
   "cell_type": "code",
   "execution_count": null,
   "id": "262566a0-100d-4c43-802f-9cd1ecd8371b",
   "metadata": {},
   "outputs": [],
   "source": [
    "'''\n",
    "celeb_list.remove('비')\n",
    "print(celeb_list)\n",
    "'''"
   ]
  },
  {
   "cell_type": "markdown",
   "id": "98927d59-7b8e-4c0c-8d5d-f150e8e2c048",
   "metadata": {},
   "source": [
    "## 식신.csv 리뷰에  셀럽, 유투버, TV방송들이 얼마나 언급됬는지 확인 ##"
   ]
  },
  {
   "cell_type": "code",
   "execution_count": null,
   "id": "23df05ad-84d7-40da-8566-c925fd5e811c",
   "metadata": {},
   "outputs": [],
   "source": [
    "# 셀럽 카운트 \n",
    "\n",
    "이영자, 백종원, 성시경, 신동엽, 최자, 비, 문세윤, 김준현 = 0, 0, 0, 0, 0, 0, 0, 0\n",
    "\n",
    "for i in range (0,10553):\n",
    "        if celeb_list[0] in (df_ss.iloc[i][5]):\n",
    "            이영자 += 1\n",
    "        elif celeb_list[1] in (df_ss.iloc[i][5]):\n",
    "            백종원 += 1\n",
    "        elif celeb_list[2] in (df_ss.iloc[i][5]):\n",
    "            성시경 += 1\n",
    "        elif celeb_list[3] in (df_ss.iloc[i][5]):\n",
    "            신동엽 += 1 \n",
    "        elif celeb_list[4] in (df_ss.iloc[i][5]):  \n",
    "            최자 += 1\n",
    "        elif celeb_list[5] in (df_ss.iloc[i][5]) or \"정지훈\" in (df_ss.iloc[i][5]):  \n",
    "            비 += 1\n",
    "        elif celeb_list[6] in (df_ss.iloc[i][5]):\n",
    "            문세윤 += 1\n",
    "        elif celeb_list[7] in (df_ss.iloc[i][5]):\n",
    "            김준현 += 1"
   ]
  },
  {
   "cell_type": "code",
   "execution_count": null,
   "id": "7ae76a35-3d61-4aec-9d83-ee80b87275fa",
   "metadata": {},
   "outputs": [],
   "source": [
    "# 유투버 카운트 \n",
    "더들리, 츄릅켠 = 0, 0\n",
    "\n",
    "for i in range (0,10553):\n",
    "        if youtuber_list[0] in (df_ss.iloc[i][5]):\n",
    "            더들리 += 1\n",
    "        elif youtuber_list[1] in (df_ss.iloc[i][5]):\n",
    "            츄릅켠 += 1"
   ]
  },
  {
   "cell_type": "code",
   "execution_count": null,
   "id": "8c084912-c3f5-4559-adc0-2f706cb76316",
   "metadata": {},
   "outputs": [],
   "source": [
    "# 방송 카운트 \n",
    "\n",
    "수요미식회, 생생정보, 전참시, 생활의달인, 내고향, 골목식당, 오늘저녁, 모닝와이드, 맛있는녀석들, 투데이 = 0, 0, 0, 0, 0, 0, 0, 0, 0, 0\n",
    "\n",
    "for i in range (0,10553):\n",
    "        if broad_list[0] in (df_ss.iloc[i][5]) or \"수요 미식회\" in (df_ss.iloc[i][5]):\n",
    "            수요미식회 += 1\n",
    "        elif broad_list[1] in (df_ss.iloc[i][5]) or \"생생정보\" in (df_ss.iloc[i][5]):\n",
    "            생생정보 += 1\n",
    "        elif broad_list[2] in (df_ss.iloc[i][5]) or \"전참시\" in (df_ss.iloc[i][5]):\n",
    "            전참시 += 1\n",
    "        elif broad_list[3] in (df_ss.iloc[i][5]) or \"생활의달인\" in (df_ss.iloc[i][5]):\n",
    "            생활의달인 += 1 \n",
    "        elif broad_list[4] in (df_ss.iloc[i][5]) or \"6시내고향\" in (df_ss.iloc[i][5]) or \"6시 내고향\" in (df_ss.iloc[i][5]):  \n",
    "            내고향 += 1\n",
    "        elif broad_list[5] in (df_ss.iloc[i][5]):\n",
    "            골목식당 += 1\n",
    "        elif broad_list[6] in (df_ss.iloc[i][5]) or \"생방송 오늘저녁\" in (df_ss.iloc[i][5]):\n",
    "            오늘저녁 += 1\n",
    "        elif broad_list[7] in (df_ss.iloc[i][5]) or \"모닝와이드\" in (df_ss.iloc[i][5]):\n",
    "            모닝와이드 += 1\n",
    "        elif broad_list[8] in (df_ss.iloc[i][5]) or \"맛있는녀석들\" in (df_ss.iloc[i][5]):\n",
    "            맛있는녀석들 += 1\n",
    "        elif broad_list[9] in (df_ss.iloc[i][5]) or \"생방송투데이\" in (df_ss.iloc[i][5]):\n",
    "            투데이 += 1        "
   ]
  },
  {
   "cell_type": "code",
   "execution_count": null,
   "id": "5bc6f5c2-fc26-470a-a63b-31090d8faaab",
   "metadata": {},
   "outputs": [],
   "source": [
    "dict_celeb = {'출현횟수' : [이영자, 백종원, 성시경, 신동엽, 최자, 비, 문세윤, 김준현]}\n",
    "\n",
    "df_celeb = pd.DataFrame(dict_celeb, index = [celeb_list[0:8]])\n",
    "\n",
    "# display(df_celeb)\n",
    "\n",
    "celeb_mean = df_celeb['출현횟수'].mean()\n",
    "\n",
    "print(\"평균출현횟수: \", celeb_mean)  "
   ]
  },
  {
   "cell_type": "code",
   "execution_count": null,
   "id": "0c9e2429-aa07-410d-8163-ee4839ef1eb2",
   "metadata": {},
   "outputs": [],
   "source": [
    "dict_youtuber = {'출현횟수': [더들리, 츄릅켠]}\n",
    "\n",
    "df_youtuber = pd.DataFrame(dict_youtuber, index = [youtuber_list[0:2]])\n",
    "\n",
    "# display(df_youtuber)\n",
    "\n",
    "youtuber_mean = df_youtuber['출현횟수'].mean()\n",
    "\n",
    "print(\"평균출현횟수: \", youtuber_mean)"
   ]
  },
  {
   "cell_type": "code",
   "execution_count": null,
   "id": "d587a2b3-3ca7-446b-acc5-a19b6069d690",
   "metadata": {},
   "outputs": [],
   "source": [
    "dict_tv = {'출현횟수': [수요미식회, 생생정보, 전참시, 생활의달인, 내고향, 골목식당, 오늘저녁, 모닝와이드, 맛있는녀석들, 투데이]}\n",
    "\n",
    "df_tv = pd.DataFrame(dict_tv, index = broad_list[0:10])\n",
    "\n",
    "# display(df_tv)\n",
    "\n",
    "tv_mean = df_tv['출현횟수'].mean()\n",
    "\n",
    "print(\"평균출현횟수: \", tv_mean)"
   ]
  },
  {
   "cell_type": "code",
   "execution_count": null,
   "id": "5899759f-55ce-48aa-ab10-85cc0e71dadc",
   "metadata": {},
   "outputs": [],
   "source": [
    "df_total = pd.concat([df_celeb, df_youtuber])\n",
    "df_total = pd.concat([df_total, df_tv])\n",
    "df_total.reset_index(inplace=True)\n",
    "df_total.rename(columns = {\"index\" : \"media\"}, inplace=True)\n",
    "df_total.loc[0:9, \"media\"] = df_total.loc[0:9, \"media\"].apply(lambda x: x[0])\n",
    "# display(df_total)"
   ]
  },
  {
   "cell_type": "code",
   "execution_count": null,
   "id": "e5884cdb-b0c8-42af-a5e5-67ad6644efd6",
   "metadata": {},
   "outputs": [],
   "source": [
    "# 각 매체별 평균출현 횟수\n",
    "\n",
    "dict_mean = {'평균출현횟수': [celeb_mean, youtuber_mean, tv_mean]}\n",
    "\n",
    "df_mean = pd.DataFrame(dict_mean, index = ['셀럽', '유튜버', '방송'])\n",
    "\n",
    "display(df_mean)"
   ]
  },
  {
   "cell_type": "markdown",
   "id": "314cb76c-921f-4b02-af3d-e67c3560ea17",
   "metadata": {},
   "source": [
    "### 리뷰에 어떤 대중매체들이 언급되었는지 확인해보기 ###"
   ]
  },
  {
   "cell_type": "code",
   "execution_count": null,
   "id": "d9c8d727-96df-487a-b5e0-a83d023bbe92",
   "metadata": {},
   "outputs": [],
   "source": [
    "# 대중매체 별로 카운트 \n",
    "\n",
    "연예인, 유튜버, 방송, 인스타 = 0, 0, 0, 0\n",
    "\n",
    "for i in range (0,10553):\n",
    "        if \"연예인\" in (df_ss.iloc[i][5]):\n",
    "            연예인 += 1\n",
    "        elif \"유튜버\" in (df_ss.iloc[i][5]) or \"유투브\" in (df_ss.iloc[i][5]) or \"유튜브\" in (df_ss.iloc[i][5]):\n",
    "            유튜버 += 1\n",
    "        elif \"티비\" in (df_ss.iloc[i][5]) or \"방송\" in (df_ss.iloc[i][5]):\n",
    "            방송 += 1\n",
    "        elif \"인스타\" in (df_ss.iloc[i][5]):\n",
    "            인스타 += 1         "
   ]
  },
  {
   "cell_type": "code",
   "execution_count": null,
   "id": "732b4af4-eb06-4278-bc90-d9e23ff053a0",
   "metadata": {},
   "outputs": [],
   "source": [
    "# 대중매체별 출현횟수 \n",
    "\n",
    "dict_media = {'출현횟수': [연예인, 유튜버, 방송, 인스타]}\n",
    "\n",
    "df_media = pd.DataFrame(dict_media, index = ['연예인', '유튜버', '방송', '인스타'])\n",
    "\n",
    "display(df_media)"
   ]
  },
  {
   "cell_type": "markdown",
   "id": "b6ae79a8-8b93-45ef-8487-94da4e3462c5",
   "metadata": {},
   "source": [
    "## 시각화 해보기 ###"
   ]
  },
  {
   "cell_type": "code",
   "execution_count": null,
   "id": "b0828810-6727-4fcf-87f2-8e93717442ea",
   "metadata": {},
   "outputs": [],
   "source": [
    "# 파이그래프\n",
    "import matplotlib.pyplot as plt\n",
    "from matplotlib import font_manager, rc\n",
    "import seaborn as sns\n",
    "\n",
    "# 폰트설정\n",
    "font_path = \"./data/font/21582067_G마켓산스Medium_OTF.otf\"   #폰트파일의 위치\n",
    "font_name = font_manager.FontProperties(fname=font_path).get_name() # rc 함수를 통해, rcParams에 사용되는 폰트의 정식명칭을 알 수 있음\n",
    "print(\"폰트설정 :\", font_name)\n",
    "rc('font', family=font_name)\n",
    "# 축 폰트 사이즈 설정\n",
    "plt.rc('font', size=15)\n",
    "# 색깔 설정\n",
    "my_colors = sns.color_palette(\"RdPu\", 8) + sns.color_palette(\"Purples\", 2) + sns.color_palette(\"Blues\", 10)\n",
    "# 그리드 설정\n",
    "# plt.style.use(\"default\")"
   ]
  },
  {
   "cell_type": "code",
   "execution_count": null,
   "id": "4ed9085a-0164-4861-95bc-0c141ba9a6c7",
   "metadata": {},
   "outputs": [],
   "source": [
    "# 식신데이터에서 해당 단어가 언급된 횟수\n",
    "df_media.plot(kind = 'bar', color = 'red')"
   ]
  },
  {
   "cell_type": "code",
   "execution_count": null,
   "id": "29c0d076-59dc-4f88-89ab-84963e8c3a46",
   "metadata": {},
   "outputs": [],
   "source": [
    "# 전제데이터중 단어(연예인 유튜버, 방송, 인스타) 언급 횟수\n",
    "plt.figure(figsize=(14, 7))\n",
    "explode = [0.04, 0.04, 0.04, 0.04]\n",
    "colors = ['#ff9999','#8fd9b6','#d395d0' ,'#ffc000']\n",
    "#wedgeprops={'width': 0.7, 'edgecolor': 'w', 'linewidth': 5}\n",
    "\n",
    "#plt.pie(df_media['출현횟수'], labels=df_media.index, autopct='%.1f%%', startangle=260,colors=colors)\n",
    "plt.pie(df_media['출현횟수'], labels=df_media.index, autopct='%.1f%%', startangle=260, \n",
    "        counterclock=False, explode=explode, colors=colors)\n",
    "plt.savefig('./output/sicksin/countoftotal_sicksin.png', transparent = True)\n",
    "plt.show()"
   ]
  },
  {
   "cell_type": "code",
   "execution_count": null,
   "id": "a5846d27-8be6-417d-a77c-2600b9830e1e",
   "metadata": {},
   "outputs": [],
   "source": [
    "# 전체 데이터 중 단어(맛집) 언급 횟수\n",
    "df1 = df_total.copy()\n",
    "plt.rc('font', size=25)\n",
    "plt.figure(figsize=(30,10))\n",
    "sns.barplot(df1.media, df1.출현횟수, palette=my_colors, alpha  = 0.8)\n",
    "# 기준선\n",
    "plt.axvline(7.5, color='gray', linestyle='--', linewidth=2)\n",
    "plt.axvline(9.5, color='gray', linestyle='--', linewidth=2)\n",
    "# 구분 텍스트\n",
    "plt.text(3.75, df1[\"출현횟수\"].max() * 0.80, \"연예인\",       \n",
    "         fontsize = 25, \n",
    "         color='gray',\n",
    "         horizontalalignment='center')\n",
    "plt.text(8.5, df1[\"출현횟수\"].max() * 0.80, \"유튜버\",       \n",
    "         fontsize = 25, \n",
    "         color='gray',\n",
    "         horizontalalignment='center')\n",
    "plt.text(14.75, df1[\"출현횟수\"].max() * 0.80, \"방송프로그램\",       \n",
    "         fontsize = 25, \n",
    "         color='gray',\n",
    "         horizontalalignment='center')\n",
    "plt.xticks(rotation=45)\n",
    "plt.xlabel(None)\n",
    "plt.ylabel(None)\n",
    "plt.subplots_adjust(bottom=0.2)\n",
    "plt.savefig('./output/sicksin/count_sicksin.png', transparent = True)\n",
    "plt.show()"
   ]
  },
  {
   "cell_type": "markdown",
   "id": "f8028339-c069-4ecf-accf-c2eb9fddc13d",
   "metadata": {},
   "source": [
    "# 식당당 리뷰개수 구하기"
   ]
  },
  {
   "cell_type": "code",
   "execution_count": null,
   "id": "bd13f3ed-f74d-4d86-ba73-c156e72faf3e",
   "metadata": {},
   "outputs": [],
   "source": [
    "# 열 이름 한글화\n",
    "df_ss.columns = [\"댓글일련번호\", \"장소ID\", \"장소명\", \"전화번호\", \"주소\", \"댓글내용\", \"댓글작성일시\"]\n",
    "# 데이터 정보 확인\n",
    "# df_ss.info()\n",
    "print(df_ss.shape)\n",
    "# 식당별로 댓글 갯수 구하기\n",
    "식당count = df_ss.groupby(\"장소ID\").count()[['댓글내용']]\n",
    "식당count.rename(columns = {'댓글내용' : 'count'}, inplace=True)\n",
    "식당count.reset_index(inplace=True)\n",
    "# 식당이름 열 추가하기\n",
    "# 캡쳐\n",
    "식당count = pd.merge(left = 식당count , right = df_ss[[\"장소ID\", \"장소명\"]], how = \"inner\", on = \"장소ID\")\n",
    "식당count.drop_duplicates(inplace=True)\n",
    "식당count = 식당count[[\"장소ID\", \"장소명\", \"count\"]]\n",
    "식당count.sort_values(by = \"count\")"
   ]
  },
  {
   "cell_type": "code",
   "execution_count": null,
   "id": "367f62be-a69f-4ab5-b8da-c356dcdeb71b",
   "metadata": {},
   "outputs": [],
   "source": [
    "# ㅎㅎ\n",
    "import numpy as np\n",
    "\n",
    "# initialize the figure\n",
    "plt.figure(figsize=(20,10))\n",
    "ax = plt.subplot(111, polar=True)\n",
    "# remove grid\n",
    "plt.axis('off')\n",
    "\n",
    "# Set the coordinates limits\n",
    "upperLimit = 100\n",
    "lowerLimit = 30\n",
    "\n",
    "# Compute max and min in the dataset\n",
    "max = 식당count['count'].max()\n",
    "\n",
    "# Let's compute heights: they are a conversion of each item value in those new coordinates\n",
    "# In our example, 0 in the dataset will be converted to the lowerLimit (10)\n",
    "# The maximum will be converted to the upperLimit (100)\n",
    "slope = (max - lowerLimit) / max\n",
    "heights = slope * 식당count['count'] + lowerLimit\n",
    "\n",
    "# Compute the width of each bar. In total we have 2*Pi = 360°\n",
    "width = 2*np.pi / len(식당count['장소명'])\n",
    "\n",
    "# Compute the angle each bar is centered on:\n",
    "indexes = list(range(1, len(식당count['장소명'])+1))\n",
    "angles = [element * width for element in indexes]\n",
    "\n",
    "# Draw bars\n",
    "bars = ax.bar(\n",
    "    x=angles, \n",
    "    height=heights, \n",
    "    width=width, \n",
    "    bottom=lowerLimit,\n",
    "    linewidth=2, \n",
    "    edgecolor=\"white\",\n",
    "    color=\"#61a4b2\",\n",
    ")\n",
    "\n",
    "# little space between the bar and the label\n",
    "labelPadding = 4\n",
    "\n",
    "# Add labels\n",
    "for bar, angle, height, label in zip(bars,angles, heights, 식당count['장소명']):\n",
    "\n",
    "    # Labels are rotated. Rotation must be specified in degrees :(\n",
    "    rotation = np.rad2deg(angle)\n",
    "\n",
    "    # Flip some labels upside down\n",
    "    alignment = \"\"\n",
    "    if angle >= np.pi/2 and angle < 3*np.pi/2:\n",
    "        alignment = \"right\"\n",
    "        rotation = rotation + 180\n",
    "    else: \n",
    "        alignment = \"left\"\n",
    "\n",
    "    # Finally add the labels\n",
    "    ax.text(\n",
    "        x=angle, \n",
    "        y=lowerLimit + bar.get_height() + labelPadding, \n",
    "        s=label, \n",
    "        ha=alignment, \n",
    "        va='center', \n",
    "        rotation=rotation, \n",
    "        rotation_mode=\"anchor\") "
   ]
  },
  {
   "cell_type": "code",
   "execution_count": null,
   "id": "fdb1ad4c-07ac-4000-808d-96e1af19cac4",
   "metadata": {},
   "outputs": [],
   "source": [
    "# Category values for the colors\n",
    "CATEGORY_CODES = pd.Categorical(df_pw[\"category\"]).codes\n",
    "\n",
    "# Colormap taken from https://carto.com/carto-colors/\n",
    "COLORMAP = [\"#5F4690\", \"#1D6996\", \"#38A6A5\", \"#0F8554\", \"#73AF48\", \n",
    "            \"#EDAD08\", \"#E17C05\", \"#CC503E\", \"#94346E\", \"#666666\"]\n",
    "\n",
    "# Select colors for each password according to its category.\n",
    "COLORS = np.array(COLORMAP)[CATEGORY_CODES]"
   ]
  }
 ],
 "metadata": {
  "kernelspec": {
   "display_name": "Python 3 (ipykernel)",
   "language": "python",
   "name": "python3"
  },
  "language_info": {
   "codemirror_mode": {
    "name": "ipython",
    "version": 3
   },
   "file_extension": ".py",
   "mimetype": "text/x-python",
   "name": "python",
   "nbconvert_exporter": "python",
   "pygments_lexer": "ipython3",
   "version": "3.8.11"
  }
 },
 "nbformat": 4,
 "nbformat_minor": 5
}
