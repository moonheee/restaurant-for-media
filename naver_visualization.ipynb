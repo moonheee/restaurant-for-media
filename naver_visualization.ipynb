{
 "cells": [
  {
   "cell_type": "markdown",
   "id": "e9c58792-2b2c-4f0d-b50b-4a3652307a49",
   "metadata": {},
   "source": [
    "# 네이버 블로그 데이터로 시각화합니다."
   ]
  },
  {
   "cell_type": "markdown",
   "id": "d79bbf53-bdd2-449d-8645-163f422aee89",
   "metadata": {},
   "source": [
    "## 시각화 공통사항\n",
    "font : _G마켓산스Medium_OTF  \n",
    "그래프 비율 : plt.figure(figsize=(10,6))  \n",
    "그래프 비율(x축이 기울면) : plt.figure(figsize=(15, 10)) + plt.subplots_adjust(bottom=0.2)  \n",
    "그래프 제목 : 삭제  \n",
    "그래프 축 라벨 : 삭제  \n",
    "그래프 색깔 : sns.color_palette(\"RdPu\", 8) + sns.color_palette(\"Purples\", 2) + sns.color_palette(\"Blues\", 10) + 기준선  \n",
    "x 축 기울기 : plt.xticks(rotation=45)  \n",
    "배경색 투명하게 하기 : plt.savefig('./output/naver/scatter_naver.png', transparent = True)  \n",
    "### 색 (cmap, color, hue, palette)\n",
    "Seaborn 팔레트 https://hleecaster.com/python-seaborn-color/  "
   ]
  },
  {
   "cell_type": "markdown",
   "id": "1a43bd02-94e4-4f18-b8ea-3a0070c42a27",
   "metadata": {},
   "source": [
    "# 라이브러리"
   ]
  },
  {
   "cell_type": "code",
   "execution_count": null,
   "id": "51a5d96f-b72a-4c52-b196-84dbb6fa99bc",
   "metadata": {},
   "outputs": [],
   "source": [
    "import urllib.request\n",
    "import json\n",
    "import pandas as pd\n",
    "import re\n",
    "# 글에서 해당 키워드 찾기\n",
    "from konlpy.tag import Kkma\n",
    "# 시각화\n",
    "import matplotlib\n",
    "import matplotlib.pyplot as plt\n",
    "import seaborn as sns\n",
    "import numpy as np\n",
    "# 트리맵\n",
    "import squarify"
   ]
  },
  {
   "cell_type": "markdown",
   "id": "f1ab14d1-d4d6-4767-b0bf-3f3ebfd66f27",
   "metadata": {},
   "source": [
    "# 폰트, 색 설정과 데이터 가져오기"
   ]
  },
  {
   "cell_type": "code",
   "execution_count": null,
   "id": "fcf818bc-ac8d-4a11-bed3-bd42d81baff8",
   "metadata": {},
   "outputs": [],
   "source": [
    "# 폰트 임시파일이 설치된 곳\n",
    "# 새로 설치한 폰트가 적용이 안된다면 이곳의 임시파일 삭제하세요\n",
    "matplotlib.get_cachedir()"
   ]
  },
  {
   "cell_type": "code",
   "execution_count": null,
   "id": "62a5d4db-da5c-45ad-8980-7a945912ac07",
   "metadata": {},
   "outputs": [],
   "source": [
    "# 폰트설정\n",
    "from matplotlib import font_manager, rc\n",
    "font_path = \"./data/font/21582067_G마켓산스Medium_OTF.otf\"   #폰트파일의 위치\n",
    "font_name = font_manager.FontProperties(fname=font_path).get_name() # rc 함수를 통해, rcParams에 사용되는 폰트의 정식명칭을 알 수 있음\n",
    "print(\"폰트설정 :\", font_name)\n",
    "rc('font', family=font_name)\n",
    "# 색깔 설정\n",
    "my_colors = sns.color_palette(\"RdPu\", 8) + sns.color_palette(\"Purples\", 2) + sns.color_palette(\"Blues\", 10)\n",
    "my_colors2 = sns.color_palette(\"RdPu\", 1) + sns.color_palette(\"Purples\", 1) + sns.color_palette(\"Blues\", 1)\n",
    "# 데이터 가져오기\n",
    "data = pd.read_csv(\"./data/naver_blog/total_power.csv\")\n",
    "display(data)"
   ]
  },
  {
   "cell_type": "markdown",
   "id": "237644f5-113f-4c19-a180-11419d7a3194",
   "metadata": {},
   "source": [
    "## 1. 산점도 그리기 : (resource - power3) (20 - (-? - ?))"
   ]
  },
  {
   "cell_type": "code",
   "execution_count": null,
   "id": "7a00ea01-fa84-4a39-8483-251022ecd4b1",
   "metadata": {},
   "outputs": [],
   "source": [
    "# 축 폰트 사이즈 설정\n",
    "plt.rc('font', size=15)\n",
    "# (resource - power3)산점도 그리기\n",
    "plt.figure(figsize=(16, 9))\n",
    "# seaborn\n",
    "#이산형 변수의 분포 - 데이터 분산 고려 (중복 X) \n",
    "sns.swarmplot(x=\"resource\",      #x축 변수\n",
    "              y=\"power3\",        #y축 변수\n",
    "              data=data,\n",
    "              palette=my_colors,\n",
    "             size=6)   #데이터셋 - 데이터프레임\n",
    "\n",
    "# matplotlib\n",
    "# data.plot(kind='scatter', x='resource', y='power3', marker='+',\n",
    "#         cmap='viridis', s=50, alpha=0.3, figsize=(20, 5))\n",
    "\n",
    "plt.axvline(7.5, color='gray', linestyle='--', linewidth=2)\n",
    "plt.axvline(9.5, color='gray', linestyle='--', linewidth=2)\n",
    "plt.text(3.75, data[\"power3\"].max() * 0.80, \"연예인\",       \n",
    "         fontsize = 15, \n",
    "         color='gray',\n",
    "         horizontalalignment='center')\n",
    "plt.text(8.5, data[\"power3\"].max() * 0.80, \"유튜버\",       \n",
    "         fontsize = 15, \n",
    "         color='gray',\n",
    "         horizontalalignment='center')\n",
    "plt.text(14.75, data[\"power3\"].max() * 0.80, \"방송프로그램\",       \n",
    "         fontsize = 15, \n",
    "         color='gray',\n",
    "         horizontalalignment='center')\n",
    "plt.xticks(rotation=45)\n",
    "plt.subplots_adjust(bottom=0.2)\n",
    "plt.ylabel(None)\n",
    "plt.xlabel(None)\n",
    "plt.savefig('./output/naver/scatter_naver.png', transparent = True)\n",
    "plt.show()"
   ]
  },
  {
   "cell_type": "markdown",
   "id": "ce5b0e18-bc4c-4657-abf8-dd4e9cad08ef",
   "metadata": {},
   "source": [
    "## 2. 나무맵 : 블로그 게시물 개수(200개 아님)"
   ]
  },
  {
   "cell_type": "code",
   "execution_count": null,
   "id": "0978afd7-ab57-48b2-8d9d-986d9309d1c0",
   "metadata": {},
   "outputs": [],
   "source": [
    "# 라이브러리 설치\n",
    "# !pip install squarify"
   ]
  },
  {
   "cell_type": "code",
   "execution_count": null,
   "id": "c6635e1b-79b3-48cf-b9c3-208a4748bbce",
   "metadata": {},
   "outputs": [],
   "source": [
    "# 나무맵 : 전수조사용\n",
    "plt.figure(figsize=(16,8))\n",
    "# 라벨 구하기\n",
    "temp = data.copy()\n",
    "#temp = temp.sort_values(by=\"blogTotal\", ascending = False)\n",
    "temp.loc[temp[\"blogTotal\"] <= 250000,\"restaurant\"] = \"\"\n",
    "squarify.plot(sizes=data[\"blogTotal\"], label = temp[\"restaurant\"], alpha=0.6)\n",
    "plt.axis('off')\n",
    "# plt.savefig('./output/naver/treemap_naver.png')\n",
    "# plt.show()"
   ]
  },
  {
   "cell_type": "code",
   "execution_count": null,
   "id": "4faaabcd-cd05-43a0-a47d-1798f4e4f40b",
   "metadata": {},
   "outputs": [],
   "source": [
    "# 나무맵 : 항목별 5개씩\n",
    "rastaurant = pd.read_excel(\"./data/음식점 모음.xlsx\", sheet_name=\"Sheet1\")\n",
    "rastaurant = rastaurant.head(5)\n",
    "temp = pd.DataFrame()\n",
    "연예인 = [\"이영자\", \"백종원\", \"성시경\", \"신동엽\", \"최자\", \"비(정지훈)\", \"문세윤\", \"김준현\"]\n",
    "유튜버 = [\"더들리\", \"츄릅켠\"]\n",
    "방송프로그램 = [\"수요미식회\", \"생생정보통\", \"전참시\", \"생활의 달인\", \"6시 내 고향\", \"골목식당\", \"생방송 오늘 저녁\", \"모닝 와이드\", \"맛있는 녀석들\", \"생방송 투데이\"]\n",
    "names = 연예인 + 유튜버 + 방송프로그램\n",
    "for name in names:\n",
    "    for i in range(len(rastaurant[name])):\n",
    "        mask = (data[\"resource\"] == name) & (data[\"restaurant\"] == rastaurant[name][i])\n",
    "        temp = temp.append(data.loc[mask].head(1))\n",
    "# 라벨 구하기\n",
    "temp.loc[temp[\"blogTotal\"] <= 20000,\"restaurant\"] = \"\"\n",
    "# 그래프 그리기\n",
    "plt.figure(figsize=(16,8))\n",
    "# # 색 지정하기\n",
    "# # Create a dataset:\n",
    "# my_values=[i**3 for i in range(1,100)]\n",
    "#  # create a color palette, mapped to these values\n",
    "# cmap = matplotlib.cm.Blues\n",
    "# mini=min(my_values)\n",
    "# maxi=max(my_values)\n",
    "# norm = matplotlib.colors.Normalize(vmin=mini, vmax=maxi)\n",
    "# colors = [cmap(norm(value)) for value in my_values]\n",
    "# squarify.plot(sizes=temp[\"blogTotal\"], label = temp[\"restaurant\"], alpha=0.6, color=colors)\n",
    "# 그래프 그리기\n",
    "squarify.plot(sizes=temp[\"blogTotal\"], label = temp[\"restaurant\"], alpha=0.6)\n",
    "plt.axis('off')\n",
    "plt.savefig('./output/naver/treemap_naver.png', transparent = True)\n",
    "plt.show()"
   ]
  },
  {
   "cell_type": "markdown",
   "id": "7a2e6cb9-a35e-493d-8b4d-a54039f1fbbc",
   "metadata": {},
   "source": [
    "## 3. 막대 그래프 그리기\n",
    "* file : power3(사람별 - 해당 미디어의 영향력) power3값을 평균 사람별로(방송별) 막대그래프 (x-20개 y-(-?, ?))\n",
    "* (사람별 - 영향력의 크기) reliability2값을 평균 사람별로(방송별) 막대그래프 (x-20개 y-(-?, ?))\n",
    "* (사람별 - 글을 작성할 확률) reliability값을 평균 사람별로(방송별) 막대그래프 (x-20개 y-(-?, ?))"
   ]
  },
  {
   "cell_type": "code",
   "execution_count": null,
   "id": "b738fe3b-0273-473e-a2fe-ea4011156729",
   "metadata": {},
   "outputs": [],
   "source": [
    "# 데이터 가져오기\n",
    "df1 = data.groupby(\"resource\").mean()\n",
    "# 자료 순서 맞추기\n",
    "연예인 = [\"이영자\", \"백종원\", \"성시경\", \"신동엽\", \"최자\", \"비(정지훈)\", \"문세윤\", \"김준현\"]\n",
    "유튜버 = [\"더들리\", \"츄릅켠\"]\n",
    "방송프로그램 = [\"수요미식회\", \"생생정보통\", \"전참시\", \"생활의 달인\", \"6시 내 고향\", \"골목식당\", \"생방송 오늘 저녁\", \"모닝 와이드\", \"맛있는 녀석들\", \"생방송 투데이\"]\n",
    "groups = 연예인 + 유튜버 + 방송프로그램\n",
    "temp = pd.DataFrame()\n",
    "for i, media in enumerate(groups):\n",
    "    temp = temp.append(df1.loc[df1.index == media])\n",
    "df1 = temp.copy()\n",
    "# display(df1)"
   ]
  },
  {
   "cell_type": "code",
   "execution_count": null,
   "id": "1bf75d24-29de-49e8-843f-0f55da958855",
   "metadata": {},
   "outputs": [],
   "source": [
    "# matplotlib\n",
    "plt.figure(figsize=(16,9))\n",
    "df1.resource_count.plot(kind='bar', color=my_colors)\n",
    "# 기준선\n",
    "plt.axvline(7.5, color='lightgray', linestyle='--', linewidth=2)\n",
    "plt.axvline(9.5, color='lightgray', linestyle='--', linewidth=2)\n",
    "# 구분 텍스트\n",
    "plt.text(3.75, df1[\"resource_count\"].max() * 0.80, \"연예인\",       \n",
    "         fontsize = 15, \n",
    "         color='lightgray',\n",
    "         horizontalalignment='center')\n",
    "plt.text(8.5, df1[\"resource_count\"].max() * 0.80, \"유튜버\",       \n",
    "         fontsize = 15, \n",
    "         color='lightgray',\n",
    "         horizontalalignment='center')\n",
    "plt.text(14.75, df1[\"resource_count\"].max() * 0.80, \"방송프로그램\",       \n",
    "         fontsize = 15, \n",
    "         color='lightgray',\n",
    "         horizontalalignment='center')\n",
    "plt.xticks(rotation=45)\n",
    "plt.xlabel(None)\n",
    "plt.ylabel(None)\n",
    "plt.subplots_adjust(bottom=0.2)\n",
    "plt.show()"
   ]
  },
  {
   "cell_type": "code",
   "execution_count": null,
   "id": "c74ec1f7-a210-405d-acb8-19d74dc0d5c9",
   "metadata": {},
   "outputs": [],
   "source": [
    "# seaborn\n",
    "plt.rc('font', size=25)\n",
    "plt.figure(figsize=(30,10))\n",
    "sns.barplot(df1.index, df1.resource_count, palette=my_colors, alpha  = 0.8)\n",
    "# 기준선\n",
    "plt.axvline(7.5, color='gray', linestyle='--', linewidth=2)\n",
    "plt.axvline(9.5, color='gray', linestyle='--', linewidth=2)\n",
    "# 구분 텍스트\n",
    "plt.text(3.75, df1[\"resource_count\"].max() * 0.80, \"연예인\",       \n",
    "         fontsize = 25, \n",
    "         color='gray',\n",
    "         horizontalalignment='center')\n",
    "plt.text(8.5, df1[\"resource_count\"].max() * 0.80, \"유튜버\",       \n",
    "         fontsize = 25, \n",
    "         color='gray',\n",
    "         horizontalalignment='center')\n",
    "plt.text(14.75, df1[\"resource_count\"].max() * 0.80, \"방송프로그램\",       \n",
    "         fontsize = 25, \n",
    "         color='gray',\n",
    "         horizontalalignment='center')\n",
    "plt.xticks(rotation=45)\n",
    "plt.xlabel(None)\n",
    "plt.ylabel(None)\n",
    "plt.subplots_adjust(bottom=0.2)\n",
    "plt.savefig('./output/naver/countmeanbyperson_naver.png', transparent = True)\n",
    "plt.show()"
   ]
  },
  {
   "cell_type": "code",
   "execution_count": null,
   "id": "4f6e7a81-c49f-4172-b7e1-c8353732ad0b",
   "metadata": {},
   "outputs": [],
   "source": [
    "plt.figure(figsize=(30,10))\n",
    "\n",
    "x = df1.index\n",
    "y = df1.power3\n",
    "my_color = np.where(y>=0, 'skyblue', 'orange')\n",
    "plt.bar(x, y, color=my_color)\n",
    "\n",
    "for i, v in enumerate(x):\n",
    "    if df1.power3[i] > 0:\n",
    "        plt.text(v, y[i], round(df1.reliability[i], 2),       \n",
    "                 fontsize = 20, \n",
    "                 color='black',\n",
    "                 horizontalalignment='center',  \n",
    "                 verticalalignment='bottom') \n",
    "    else :\n",
    "        plt.text(v, y[i], round(df1.reliability[i], 2),       \n",
    "                 fontsize = 20, \n",
    "                 color='black',\n",
    "                 horizontalalignment='center',  \n",
    "                 verticalalignment='top')\n",
    "# 구분선\n",
    "plt.axvline(7.5, color='gray', linestyle='--', linewidth=2)\n",
    "plt.axvline(9.5, color='gray', linestyle='--', linewidth=2)\n",
    "# 구분 텍스트\n",
    "plt.text(3.75, 19 * 0.80, \"연예인\",       \n",
    "         fontsize = 25, \n",
    "         color='lightgray',\n",
    "         horizontalalignment='center')\n",
    "plt.text(8.5, 19 * 0.80, \"유튜버\",       \n",
    "         fontsize = 25, \n",
    "         color='lightgray',\n",
    "         horizontalalignment='center')\n",
    "plt.text(14.75, 19 * 0.80, \"방송프로그램\",       \n",
    "         fontsize = 25, \n",
    "         color='lightgray',\n",
    "         horizontalalignment='center')\n",
    "plt.ylim(-2,19)\n",
    "plt.xticks(rotation=45)\n",
    "plt.subplots_adjust(bottom=0.2)\n",
    "plt.savefig('./output/naver/powerBar_naver1.png', transparent = True)\n",
    "plt.show()"
   ]
  },
  {
   "cell_type": "markdown",
   "id": "6a23cfbe-6298-4d4f-ab35-bd313dd4734a",
   "metadata": {},
   "source": [
    "<br>\n",
    "\n",
    "## 4. 분산분석을 통하여 3개 이상의 집단 간에 차이가 존재하는지 분석하고자 함\n",
    "\n",
    "가설1 : 미디어에 따라 파급력의 차이가 있는가?  \n",
    "가설2 : 미디어에 따라 파급력을 미치는 크기에 차이가 있는가?  \n",
    "가설3 : 미디어에 따라 글을 작성할 확률에 차이가 있는가?\n",
    "\n",
    "<hr>\n",
    "\n",
    "분산분석(미디어별 - 해당 미디어의 영향력) power값  \n",
    "<p>분산분석(미디어별 - 영향력의 크기) reliability2값</p>\n",
    "<p>분산분석(미디어별 - 글을 작성할 확률) reliability값</p>"
   ]
  },
  {
   "cell_type": "code",
   "execution_count": null,
   "id": "67390ffe-2a77-4384-bd73-9b1caeb7fe81",
   "metadata": {},
   "outputs": [],
   "source": [
    "from scipy import stats\n",
    "from statsmodels.formula.api import ols\n",
    "from statsmodels.stats.anova import anova_lm\n",
    "\n",
    "x1 = data.groupby(\"group\").get_group('방송프로그램')\n",
    "x1 = x1.power3\n",
    "x2 = data.groupby(\"group\").get_group('유튜버')\n",
    "x2 = x2.power3\n",
    "x3 = data.groupby(\"group\").get_group('연예인')\n",
    "x3 = x3.power3"
   ]
  },
  {
   "cell_type": "code",
   "execution_count": null,
   "id": "f32a05f1-e38b-420b-8463-d1ece2dd301f",
   "metadata": {},
   "outputs": [],
   "source": [
    "# 등분산 검증\n",
    "print(stats.bartlett(x1,x2,x3),stats.levene(x1, x2, x3), sep=\"\\n\")\n",
    "\n",
    "# 정규성 검증\n",
    "print(stats.ks_2samp(x1, x2), stats.ks_2samp(x1, x3), stats.ks_2samp(x3, x2),  sep=\"\\n\")"
   ]
  },
  {
   "cell_type": "markdown",
   "id": "638efc27-aca8-465c-8128-b8d93a3ed656",
   "metadata": {},
   "source": [
    "#### 가설1 : 미디어에 따라 파급력의 차이가 있는가?"
   ]
  },
  {
   "cell_type": "code",
   "execution_count": null,
   "id": "fdc4b27d-42bf-4a30-9928-549fc8741c1d",
   "metadata": {},
   "outputs": [],
   "source": [
    "from statsmodels.formula.api import ols\n",
    "from statsmodels.stats.anova import anova_lm\n",
    "\n",
    "# 분산 분석\n",
    "\n",
    "model = ols(\"data['power3'] ~ data['group']\", data).fit()\n",
    "display(anova_lm(model))"
   ]
  },
  {
   "cell_type": "code",
   "execution_count": null,
   "id": "1a4de010-ef55-4150-a8bc-7b84ca54ad0d",
   "metadata": {},
   "outputs": [],
   "source": [
    "# 집단 간의 차이가 유의할 경우, 어느 집단 간에 차이가 나타나는지 보다 구체적으로 보기 위하여 '사후 분석'을 실시\n",
    "# 여기서는 봉페르니 방식의 교정과 Tukey HSD의 방법으로 사후분석\n",
    "from statsmodels.sandbox.stats.multicomp import MultiComparison\n",
    "import scipy.stats\n",
    "\n",
    "comp = MultiComparison(data['power3'], data['group'])\n",
    "result = comp.allpairtest(scipy.stats.ttest_ind, method='bonf') # 봉페르니\n",
    "print(result[0])\n",
    "\n",
    "#투키의 HSD - Tuckey's Honestly Significant Difference = \"진정으로 유의미한 차이\"\n",
    "from statsmodels.stats.multicomp import pairwise_tukeyhsd\n",
    "hsd = pairwise_tukeyhsd(data['power3'], data['group'], alpha=0.05)\n",
    "hsd.summary()"
   ]
  },
  {
   "cell_type": "code",
   "execution_count": null,
   "id": "9c7ba439-4d50-4739-acfa-8b730c016c5a",
   "metadata": {},
   "outputs": [],
   "source": [
    "# 집단에 따른 분산\n",
    "# df.boxplot(column = 'CNT', by = 'Ta_gubun', grid = False) : 간단히\n",
    "plot_sp= [x1, x2, x3]\n",
    "ax = plt.boxplot(plot_sp)\n",
    "plt.show()"
   ]
  },
  {
   "cell_type": "code",
   "execution_count": null,
   "id": "f9b34dcb-f827-4fc0-a731-2d2b6e43b804",
   "metadata": {},
   "outputs": [],
   "source": [
    "# 집단에 따른 분산\n",
    "# df.boxplot(column = 'CNT', by = 'Ta_gubun', grid = False) : 간단히\n",
    "fig = plt.figure(figsize=(14, 7))\n",
    "plt.subplot(1,2,1)\n",
    "sns.boxplot(x=data[\"group\"], y=data[\"power3\"], palette=my_colors2)\n",
    "plt.xlabel(None)\n",
    "plt.ylabel(None)\n",
    "plt.subplot(1,2,2)\n",
    "sns.swarmplot(x=\"group\",      #x축 변수\n",
    "              y=\"power3\",        #y축 변수\n",
    "              data=data,\n",
    "              palette=my_colors2)   #데이터셋 - 데이터프레임\n",
    "plt.xlabel(None)\n",
    "plt.ylabel(None)\n",
    "plt.savefig('./output/naver/ANOVA_naver1-2.png', transparent = True)\n",
    "plt.show()"
   ]
  },
  {
   "cell_type": "code",
   "execution_count": null,
   "id": "22f399f1-37b4-4930-a547-3892fe62ee0f",
   "metadata": {},
   "outputs": [],
   "source": [
    "x1 = data.groupby(\"group\").get_group('방송프로그램')\n",
    "x1 = x1.reliability\n",
    "x2 = data.groupby(\"group\").get_group('유튜버')\n",
    "x2 = x2.reliability\n",
    "x3 = data.groupby(\"group\").get_group('연예인')\n",
    "x3 = x3.reliability"
   ]
  },
  {
   "cell_type": "code",
   "execution_count": null,
   "id": "691de160-af02-4a3f-9914-47673cd8f5c8",
   "metadata": {},
   "outputs": [],
   "source": [
    "# 등분산 검증\n",
    "print(stats.bartlett(x1,x2,x3),stats.levene(x1, x2, x3), sep=\"\\n\")\n",
    "\n",
    "# 정규성 검증\n",
    "print(stats.ks_2samp(x1, x2), stats.ks_2samp(x1, x3), stats.ks_2samp(x3, x2),  sep=\"\\n\")"
   ]
  },
  {
   "cell_type": "markdown",
   "id": "be2025b9-93da-49cd-8360-3e9067ed198f",
   "metadata": {},
   "source": [
    "#### 가설2 : 미디어에 따라 파급력을 미치는 크기에 차이가 있는가?"
   ]
  },
  {
   "cell_type": "code",
   "execution_count": null,
   "id": "bffebfe5-6d01-4ab2-9a85-24819f263f7c",
   "metadata": {},
   "outputs": [],
   "source": [
    "model = ols(\"data['reliability'] ~ data['group']\", data).fit()\n",
    "anova_lm(model)"
   ]
  },
  {
   "cell_type": "code",
   "execution_count": null,
   "id": "166e9f22-1d49-48da-bebe-16af6fbb9099",
   "metadata": {},
   "outputs": [],
   "source": [
    "# 집단 간의 차이가 유의할 경우, 어느 집단 간에 차이가 나타나는지 보다 구체적으로 보기 위하여 '사후 분석'을 실시\n",
    "# 여기서는 봉페르니 방식의 교정과 Tukey HSD의 방법으로 사후분석\n",
    "from statsmodels.sandbox.stats.multicomp import MultiComparison\n",
    "import scipy.stats\n",
    "\n",
    "comp = MultiComparison(data['reliability'], data['group'])\n",
    "result = comp.allpairtest(scipy.stats.ttest_ind, method='bonf') # 봉페르니\n",
    "print(result[0])\n",
    "\n",
    "#투키의 HSD - Tuckey's Honestly Significant Difference = \"진정으로 유의미한 차이\"\n",
    "from statsmodels.stats.multicomp import pairwise_tukeyhsd\n",
    "hsd = pairwise_tukeyhsd(data['reliability'], data['group'], alpha=0.05)\n",
    "hsd.summary()"
   ]
  },
  {
   "cell_type": "code",
   "execution_count": null,
   "id": "1115be7b-e54e-4b8c-ade9-6e486a24d68d",
   "metadata": {},
   "outputs": [],
   "source": [
    "# 집단에 따른 분산\n",
    "\n",
    "# df.boxplot(column = 'CNT', by = 'Ta_gubun', grid = False) : 간단히\n",
    "plot_sp= [x1,x2, x3]\n",
    "\n",
    "ax = plt.boxplot(plot_sp)\n",
    "plt.savefig('./output/naver/ANOVA_naver2-1.png', transparent = True)\n",
    "plt.show()"
   ]
  },
  {
   "cell_type": "code",
   "execution_count": null,
   "id": "69626bb4-d077-46db-9473-5e9c9979ae47",
   "metadata": {
    "tags": []
   },
   "outputs": [],
   "source": [
    "# 집단에 따른 분산\n",
    "# df.boxplot(column = 'CNT', by = 'Ta_gubun', grid = False) : 간단히\n",
    "fig = plt.figure(figsize=(14, 7))\n",
    "plt.subplot(1,2,1)\n",
    "sns.boxplot(x=data[\"group\"], y=data[\"reliability\"], palette=my_colors2)\n",
    "plt.xlabel(None)\n",
    "plt.ylabel(None)\n",
    "plt.subplot(1,2,2)\n",
    "sns.swarmplot(x=\"group\",      #x축 변수\n",
    "              y=\"reliability\",        #y축 변수\n",
    "              data=data,\n",
    "              palette=my_colors2)   #데이터셋 - 데이터프레임\n",
    "plt.xlabel(None)\n",
    "plt.ylabel(None)\n",
    "plt.savefig('./output/naver/ANOVA_naver2-2.png', transparent = True)\n",
    "plt.show()"
   ]
  },
  {
   "cell_type": "code",
   "execution_count": null,
   "id": "25b11738-4fe7-41a1-b346-be7600511d80",
   "metadata": {},
   "outputs": [],
   "source": [
    "x1 = data.groupby(\"group\").get_group('방송프로그램')\n",
    "x1 = x1.reliability2\n",
    "x2 = data.groupby(\"group\").get_group('유튜버')\n",
    "x2 = x2.reliability2\n",
    "x3 = data.groupby(\"group\").get_group('연예인')\n",
    "x3 = x3.reliability2"
   ]
  },
  {
   "cell_type": "code",
   "execution_count": null,
   "id": "b6fd804e-7cf5-4f12-811c-d10dd005633b",
   "metadata": {},
   "outputs": [],
   "source": [
    "# 등분산 검증\n",
    "print(stats.bartlett(x1,x2,x3),stats.levene(x1, x2, x3), sep=\"\\n\")\n",
    "\n",
    "# 정규성 검증\n",
    "print(stats.ks_2samp(x1, x2), stats.ks_2samp(x1, x3), stats.ks_2samp(x3, x2),  sep=\"\\n\")"
   ]
  },
  {
   "cell_type": "markdown",
   "id": "3aa15f4b-b7e8-405d-b348-4d42a236c5c5",
   "metadata": {},
   "source": [
    "#### 가설3 : 미디어에 따라 글을 작성할 확률에 차이가 있는가?\n",
    "등분산 검증 결과\n",
    ": .05보다 크면 등분산을 이룬다고 볼 수 있고, 정규성을 이룬다고 볼 수 있음.\n",
    "\n",
    "<hr>\n",
    "bartlett의 검정 결과 p-value가 .05보다 커서, 등분산을 이룸\n",
    "하지만, x3의 pvalue 값이 .05보다 작아 정규성을 이루지 않음"
   ]
  },
  {
   "cell_type": "code",
   "execution_count": null,
   "id": "428ec022-b0e3-4199-ba24-ea3983f2341d",
   "metadata": {},
   "outputs": [],
   "source": [
    "model = ols(\"data['reliability2'] ~ data['group']\", data).fit()\n",
    "anova_lm(model)"
   ]
  },
  {
   "cell_type": "code",
   "execution_count": null,
   "id": "fc427a5a-5f21-4c91-961f-916c5a666f8a",
   "metadata": {},
   "outputs": [],
   "source": [
    "# 집단 간의 차이가 유의할 경우, 어느 집단 간에 차이가 나타나는지 보다 구체적으로 보기 위하여 '사후 분석'을 실시\n",
    "# 여기서는 봉페르니 방식의 교정과 Tukey HSD의 방법으로 사후분석\n",
    "from statsmodels.sandbox.stats.multicomp import MultiComparison\n",
    "import scipy.stats\n",
    "\n",
    "comp = MultiComparison(data['reliability2'], data['group'])\n",
    "result = comp.allpairtest(scipy.stats.ttest_ind, method='bonf') # 봉페르니\n",
    "print(result[0])\n",
    "\n",
    "#투키의 HSD - Tuckey's Honestly Significant Difference = \"진정으로 유의미한 차이\"\n",
    "from statsmodels.stats.multicomp import pairwise_tukeyhsd\n",
    "hsd = pairwise_tukeyhsd(data['reliability2'], data['group'], alpha=0.05)\n",
    "hsd.summary()"
   ]
  },
  {
   "cell_type": "code",
   "execution_count": null,
   "id": "a6902b25-8b2c-4a43-b33a-4e4057cf477e",
   "metadata": {},
   "outputs": [],
   "source": [
    "# 집단에 따른 분산\n",
    "\n",
    "# df.boxplot(column = 'CNT', by = 'Ta_gubun', grid = False) : 간단히\n",
    "plot_sp= [x1,x2, x3]\n",
    "\n",
    "ax = plt.boxplot(plot_sp)\n",
    "plt.savefig('./output/naver/ANOVA_naver3-1.png', transparent = True)\n",
    "plt.show()"
   ]
  },
  {
   "cell_type": "code",
   "execution_count": null,
   "id": "b509bb05-1800-433a-a9f0-0d9bdc4aa60f",
   "metadata": {},
   "outputs": [],
   "source": [
    "# 집단에 따른 분산\n",
    "# df.boxplot(column = 'CNT', by = 'Ta_gubun', grid = False) : 간단히\n",
    "fig = plt.figure(figsize=(14, 7))\n",
    "plt.subplot(1,2,1)\n",
    "sns.boxplot(x=data[\"group\"], y=data[\"reliability2\"], palette=my_colors2)\n",
    "plt.xlabel(None)\n",
    "plt.ylabel(None)\n",
    "plt.subplot(1,2,2)\n",
    "sns.swarmplot(x=\"group\",      #x축 변수\n",
    "              y=\"reliability2\",        #y축 변수\n",
    "              data=data,\n",
    "              palette=my_colors2)   #데이터셋 - 데이터프레임\n",
    "plt.xlabel(None)\n",
    "plt.ylabel(None)\n",
    "plt.savefig('./output/naver/ANOVA_naver3-2.png', transparent = True)\n",
    "plt.show()"
   ]
  },
  {
   "cell_type": "markdown",
   "id": "9db5a362-bc5c-4a98-8b6d-8becfaba00dd",
   "metadata": {},
   "source": [
    "#### 분석 결과 해석\n",
    ": Pr(>F)== p-value. \n",
    "<hr>  \n",
    "\n",
    "##### 가설1 : 미디어에 따라 파급력의 차이가 있는가?\n",
    "\n",
    "분산분석: p-value가 0.05보다 작으므로, 집단 간에 통계적으로 유의한 차이가 나타남\n",
    "사후분석: pval의 값이 0.05보다 낮으므로, 방송프로그램과 유튜버 간의 차이가 유의하여 주효과가 나타난다.\n",
    "\n",
    "##### 가설2 : 미디어에 따라 파급력을 미치는 크기에 차이가 있는가?\n",
    "\n",
    "분산분석: p-value가 부동소수로 표현 될만큼 낮은 숫자이고, 0.05보다 작으므로 집단 간에 통계적으로 유의한 차이가 나타남\n",
    "사후분석: pval의 값이 0.05보다 낮으므로, 방송프로그램과 연예인 간의 차이가 유의하여 주효과가 나타난다.\n",
    "##### 가설3 : 미디어에 따라 글을 작성할 확률에 차이가 있는가?\n",
    "\n",
    "분산분석: p-value가 부동소수로 표현 될만큼 낮은 숫자이고, 0.05보다 작으므로 집단 간에 통계적으로 유의한 차이가 나타남\n",
    "사후분석: pval의 값이 0.05보다 낮으므로, 방송프로그램과 연예인 간의 차이가 유의하여 주효과가 나타난다."
   ]
  },
  {
   "cell_type": "markdown",
   "id": "db9b9b69-da8d-4a80-baa3-36376583f017",
   "metadata": {},
   "source": [
    "### 5. 시계열 / 워드 클라우드(자주 사용하는 단어 찾기) 47- 하니칼국수 - 성시경 / 181-코카모메-츄릅켠 / 270-전참시-몽탄"
   ]
  },
  {
   "cell_type": "code",
   "execution_count": null,
   "id": "8222a118-e120-4955-b2a2-2cc60280fd44",
   "metadata": {},
   "outputs": [],
   "source": [
    "# 누적 히스토그램 + 히스토그램\n",
    "lists = [\"하니칼국수_성시경\", \"코카모메_츄릅켠\", \"몽탄_전참시\"]\n",
    "for item in lists:\n",
    "    file = \"./data/naver_blog/rowdata/\" + item + \".csv\"\n",
    "    temp = pd.read_csv(file)\n",
    "    temp.sort_values(by = \"postdate\", ascending=True, inplace=True)\n",
    "    temp.postdate = pd.to_datetime(temp['postdate'])\n",
    "    # 기간 나누기\n",
    "    # temp['period'] = temp['postdate'].dt.to_period(freq='M')  # 년-월\n",
    "    # 그래프 그리기\n",
    "    plt.figure(figsize=(10,6))\n",
    "    temp[\"test\"] = 1\n",
    "    plt.hist(temp[\"postdate\"], weights=temp[\"test\"], bins=10, cumulative = True, color=\"orange\")\n",
    "    plt.hist(temp[\"postdate\"], weights=temp[\"test\"], bins=10, cumulative = False, color=\"skyblue\")\n",
    "    plt.title(item + \" 시계열 그래프\")"
   ]
  },
  {
   "cell_type": "code",
   "execution_count": null,
   "id": "cb1e24a6-ecb2-4084-bd94-1690700303d2",
   "metadata": {},
   "outputs": [],
   "source": [
    "# 바그래프 + 라인그래프\n",
    "plt.rc('font', size=15)\n",
    "filelist = [\"가쯔렛_츄릅켠\", \"다연닭갈비_생활의 달인\", \"디라이프스타일키친 광화문점_생활의 달인\",\n",
    "             \"오죽이네_최자\", \"하니칼국수_성시경\", \"코카모메_츄릅켠\", \"몽탄_전참시\"]\n",
    "referenceDate = ['2099-12', '2099-12', \"2099-12\",\n",
    "                '2018-07', '2021-05', '2021-08', '2021-03']\n",
    "my_colors3 = [\"Greens\", \"Blues\", \"Blues\", \"RdPu\", \"RdPu\", \"Greens\", \"Blues\"]\n",
    "my_colors4 = [\"green\", \"royalblue\", \"royalblue\", \"purple\", \"purple\", \"green\", \"royalblue\"]\n",
    "for i in range(len(filelist)):\n",
    "    file = \"./data/naver_blog/rowdata/\" + filelist[i] + \".csv\"\n",
    "    temp = pd.read_csv(file)\n",
    "    temp.sort_values(by = \"postdate\", ascending=True, inplace=True)\n",
    "    temp.postdate = pd.to_datetime(temp['postdate'])\n",
    "    # 기간 나누기\n",
    "    temp['period'] = temp['postdate'].dt.to_period(freq='M')  # 년-월\n",
    "    # 기간별로 포스트 개수 세기\n",
    "    period_count = temp.groupby(\"period\").count()[[\"postdate\"]]\n",
    "    period_count.rename(columns = {\"postdate\": \"count\"}, inplace=True)\n",
    "    # 누적합 열 추가하기\n",
    "    period_count[\"cum\"] = period_count[[\"count\"]].cumsum()\n",
    "    # 그래프 그리기\n",
    "    plt.figure(figsize=(16,8))\n",
    "    # 그래프를 그리기 위한 형변환\n",
    "    period_count.index=period_count.index.to_series().astype(str)\n",
    "    # 라인그래프 그리기\n",
    "    plt.plot(period_count.index, period_count[\"cum\"], marker='o', color=my_colors4[i])\n",
    "    # 기준일 그리기\n",
    "    if referenceDate[i] == \"2099-12\":\n",
    "        plt.text(len(period_count) / 2, period_count[\"cum\"].max() * 0.95, \"게시물 없음\",       \n",
    "         fontsize = 15, \n",
    "         color='gray',\n",
    "         horizontalalignment='center') \n",
    "    else:\n",
    "        plt.axvline(referenceDate[i], color='gray', linestyle='--', linewidth=2)\n",
    "        plt.text(referenceDate[i], period_count[\"cum\"].max() * 0.95, \"기준선\",       \n",
    "                 fontsize = 15, \n",
    "                 color='gray',\n",
    "                 horizontalalignment='center') \n",
    "    # 바그래프 그리기\n",
    "    plt.bar(period_count.index, period_count[\"count\"], align='center', \n",
    "            color=sns.color_palette(my_colors3[i], len(period_count)))\n",
    "    plt.xticks(rotation=45)\n",
    "    plt.xlabel(None)\n",
    "    plt.ylabel(None)\n",
    "    if len(period_count) > 30 :\n",
    "        plt.xticks(period_count.index, [period_count.index[j] if (j % (len(period_count)//20)) == 1 else \"\" for j in range(len(period_count))])\n",
    "    plt.savefig('./output/naver/' + filelist[i] + ' 시계열 그래프_naver.png', transparent = True)\n",
    "    plt.show()"
   ]
  },
  {
   "cell_type": "markdown",
   "id": "060ad344-cfa8-4ad3-95af-5efa3042a4ad",
   "metadata": {},
   "source": [
    "# 문제모음"
   ]
  },
  {
   "cell_type": "markdown",
   "id": "ecb9274f-4ad6-44ea-923b-32dbd1054eb8",
   "metadata": {},
   "source": [
    "1. 인스턴스가 삭제가 안됩니다.\n",
    "2. 파일 데이터를 불러올때 몇몇의 파일을 읽어오지 못합니다.\n",
    "3. seaborn에서 한글 폰트를 인식하지 못합니다."
   ]
  },
  {
   "cell_type": "code",
   "execution_count": null,
   "id": "5a3baf27-ef5d-4303-9cb3-a1b5ce704fc0",
   "metadata": {},
   "outputs": [],
   "source": [
    "# 폰트설정2\n",
    "sns.set(font=\"Malgun Gothic\", \n",
    "        rc={\"axes.unicode_minus\":False},\n",
    "        style='darkgrid')\n",
    "\n",
    "# 폰트설정3\n",
    "jupyter notebook 내 그래프를 바로 그리기 위한 설정\n",
    "%matplotlib inline\n",
    "# unicode minus를 사용하지 않기 위한 설정 (minus 깨짐현상 방지)\n",
    "plt.rcParams['axes.unicode_minus'] = False\n",
    "plt.rcParams['font.family'] = 'Malgun Gothic'\n",
    "\n",
    "# 폰트설정4\n",
    "%matplotlib inline\n",
    "import platform\n",
    "path = './data/THEdog.ttf'\n",
    "from matplotlib import font_manager, rc\n",
    "\n",
    "if platform.system() == 'Darwin':\n",
    "    rc('font', family='AppleGothic')\n",
    "elif platform.system() == 'Windows':\n",
    "    font_name = font_manager.FontProperties(fname=path).get_name()\n",
    "    rc('font', family=font_name)\n",
    "else:\n",
    "    print('Unkonwn system... sorry~~~~')"
   ]
  }
 ],
 "metadata": {
  "kernelspec": {
   "display_name": "Python 3 (ipykernel)",
   "language": "python",
   "name": "python3"
  },
  "language_info": {
   "codemirror_mode": {
    "name": "ipython",
    "version": 3
   },
   "file_extension": ".py",
   "mimetype": "text/x-python",
   "name": "python",
   "nbconvert_exporter": "python",
   "pygments_lexer": "ipython3",
   "version": "3.8.11"
  }
 },
 "nbformat": 4,
 "nbformat_minor": 5
}
