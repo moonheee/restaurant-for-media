{
 "cells": [
  {
   "cell_type": "markdown",
   "id": "e9c58792-2b2c-4f0d-b50b-4a3652307a49",
   "metadata": {},
   "source": [
    "# 네이버 블로그 데이터로 시각화합니다."
   ]
  },
  {
   "cell_type": "markdown",
   "id": "d79bbf53-bdd2-449d-8645-163f422aee89",
   "metadata": {},
   "source": [
    "## 시각화 공통사항\n",
    "font : _G마켓산스Medium_OTF  \n",
    "그래프 비율 : plt.figure(figsize=(10,6))  \n",
    "그래프 비율(x축이 기울면) : plt.figure(figsize=(15, 10)) + plt.subplots_adjust(bottom=0.2)  \n",
    "그래프 제목 : 삭제  \n",
    "그래프 축 라벨 : 삭제  \n",
    "그래프 색깔 : sns.color_palette(\"RdPu\", 8) + sns.color_palette(\"Purples\", 2) + sns.color_palette(\"Blues\", 10) + 기준선  \n",
    "x 축 기울기 : plt.xticks(rotation=45)  \n",
    "배경색 투명하게 하기 : plt.savefig('./output/naver/scatter_naver.png', transparent = True)  \n",
    "### 색 (cmap, color, hue, palette)\n",
    "Seaborn 팔레트 https://hleecaster.com/python-seaborn-color/  "
   ]
  },
  {
   "cell_type": "markdown",
   "id": "1a43bd02-94e4-4f18-b8ea-3a0070c42a27",
   "metadata": {},
   "source": [
    "# 라이브러리"
   ]
  },
  {
   "cell_type": "code",
   "execution_count": 34,
   "id": "51a5d96f-b72a-4c52-b196-84dbb6fa99bc",
   "metadata": {},
   "outputs": [],
   "source": [
    "import urllib.request\n",
    "import json\n",
    "import pandas as pd\n",
    "import re\n",
    "# 글에서 해당 키워드 찾기\n",
    "from konlpy.tag import Kkma\n",
    "# 시각화\n",
    "import matplotlib\n",
    "import matplotlib.pyplot as plt\n",
    "import seaborn as sns\n",
    "import numpy as np\n",
    "# 트리맵\n",
    "import squarify"
   ]
  },
  {
   "cell_type": "markdown",
   "id": "f1ab14d1-d4d6-4767-b0bf-3f3ebfd66f27",
   "metadata": {},
   "source": [
    "# 폰트, 색 설정과 데이터 가져오기"
   ]
  },
  {
   "cell_type": "code",
   "execution_count": 35,
   "id": "fcf818bc-ac8d-4a11-bed3-bd42d81baff8",
   "metadata": {},
   "outputs": [
    {
     "data": {
      "text/plain": [
       "'C:\\\\Users\\\\heee\\\\.matplotlib'"
      ]
     },
     "execution_count": 35,
     "metadata": {},
     "output_type": "execute_result"
    }
   ],
   "source": [
    "# 폰트 임시파일이 설치된 곳\n",
    "# 새로 설치한 폰트가 적용이 안된다면 이곳의 임시파일 삭제하세요\n",
    "matplotlib.get_cachedir()"
   ]
  },
  {
   "cell_type": "code",
   "execution_count": null,
   "id": "62a5d4db-da5c-45ad-8980-7a945912ac07",
   "metadata": {},
   "outputs": [],
   "source": [
    "# 폰트설정\n",
    "from matplotlib import font_manager, rc\n",
    "font_path = \"./data/font/21582067_G마켓산스Medium_OTF.otf\"   #폰트파일의 위치\n",
    "font_name = font_manager.FontProperties(fname=font_path).get_name() # rc 함수를 통해, rcParams에 사용되는 폰트의 정식명칭을 알 수 있음\n",
    "print(\"폰트설정 :\", font_name)\n",
    "rc('font', family=font_name)\n",
    "# 색깔 설정\n",
    "my_colors = sns.color_palette(\"RdPu\", 8) + sns.color_palette(\"Purples\", 2) + sns.color_palette(\"Blues\", 10)\n",
    "my_colors2 = sns.color_palette(\"RdPu\", 1) + sns.color_palette(\"Purples\", 1) + sns.color_palette(\"Blues\", 1)\n",
    "# 데이터 가져오기\n",
    "data = pd.read_csv(\"./data/naver_blog/total_power.csv\")\n",
    "display(data)"
   ]
  },
  {
   "cell_type": "markdown",
   "id": "237644f5-113f-4c19-a180-11419d7a3194",
   "metadata": {},
   "source": [
    "## 1. 산점도 그리기 : (resource - power3) (20 - (-? - ?))"
   ]
  },
  {
   "cell_type": "code",
   "execution_count": null,
   "id": "7a00ea01-fa84-4a39-8483-251022ecd4b1",
   "metadata": {},
   "outputs": [],
   "source": [
<<<<<<< HEAD
    "plt.rc('font', size=20)\n",
    "\n",
=======
    "# 축 폰트 사이즈 설정\n",
    "plt.rc('font', size=15)\n",
>>>>>>> 1d0f323592eec638253d5bd36c04fc093635cd80
    "# (resource - power3)산점도 그리기\n",
    "plt.figure(figsize=(30, 10))\n",
    "# seaborn\n",
    "#이산형 변수의 분포 - 데이터 분산 고려 (중복 X) \n",
    "sns.swarmplot(x=\"resource\",      #x축 변수\n",
    "              y=\"power3\",        #y축 변수\n",
    "              data=data,\n",
    "              palette=my_colors,\n",
    "             size=6)   #데이터셋 - 데이터프레임\n",
    "\n",
    "# matplotlib\n",
    "# data.plot(kind='scatter', x='resource', y='power3', marker='+',\n",
    "#         cmap='viridis', s=50, alpha=0.3, figsize=(20, 5))\n",
    "\n",
    "plt.axvline(7.5, color='gray', linestyle='--', linewidth=2)\n",
    "plt.axvline(9.5, color='gray', linestyle='--', linewidth=2)\n",
    "plt.text(3.75, data[\"power3\"].max() * 0.80, \"연예인\",       \n",
<<<<<<< HEAD
    "         fontsize = 20, \n",
    "         color='lightgray',\n",
    "         horizontalalignment='center')\n",
    "plt.text(8.5, data[\"power3\"].max() * 0.80, \"유튜버\",       \n",
    "         fontsize = 20, \n",
    "         color='lightgray',\n",
    "         horizontalalignment='center')\n",
    "plt.text(14.75, data[\"power3\"].max() * 0.80, \"방송프로그램\",       \n",
    "         fontsize = 20, \n",
    "         color='lightgray',\n",
=======
    "         fontsize = 15, \n",
    "         color='gray',\n",
    "         horizontalalignment='center')\n",
    "plt.text(8.5, data[\"power3\"].max() * 0.80, \"유튜버\",       \n",
    "         fontsize = 15, \n",
    "         color='gray',\n",
    "         horizontalalignment='center')\n",
    "plt.text(14.75, data[\"power3\"].max() * 0.80, \"방송프로그램\",       \n",
    "         fontsize = 15, \n",
    "         color='gray',\n",
>>>>>>> 1d0f323592eec638253d5bd36c04fc093635cd80
    "         horizontalalignment='center')\n",
    "plt.xticks(rotation=45)\n",
    "plt.subplots_adjust(bottom=0.2)\n",
    "plt.ylabel(None)\n",
    "plt.xlabel(None)\n",
    "plt.savefig('./output/naver/scatter_naver.png', transparent = True)\n",
    "plt.show()"
   ]
  },
  {
   "cell_type": "markdown",
   "id": "ce5b0e18-bc4c-4657-abf8-dd4e9cad08ef",
   "metadata": {},
   "source": [
    "## 2. 나무맵 : 블로그 게시물 개수(200개 아님)"
   ]
  },
  {
   "cell_type": "code",
   "execution_count": null,
   "id": "0978afd7-ab57-48b2-8d9d-986d9309d1c0",
   "metadata": {},
   "outputs": [],
   "source": [
    "# 라이브러리 설치\n",
    "# !pip install squarify"
   ]
  },
  {
   "cell_type": "code",
   "execution_count": null,
   "id": "c6635e1b-79b3-48cf-b9c3-208a4748bbce",
   "metadata": {},
   "outputs": [],
   "source": [
    "# 나무맵 : 전수조사용\n",
    "plt.figure(figsize=(16,8))\n",
    "# 라벨 구하기\n",
    "temp = data.copy()\n",
    "#temp = temp.sort_values(by=\"blogTotal\", ascending = False)\n",
    "temp.loc[temp[\"blogTotal\"] <= 250000,\"restaurant\"] = \"\"\n",
    "squarify.plot(sizes=data[\"blogTotal\"], label = temp[\"restaurant\"], alpha=0.6)\n",
    "plt.axis('off')\n",
    "# plt.savefig('./output/naver/treemap_naver.png')\n",
    "# plt.show()"
   ]
  },
  {
   "cell_type": "code",
   "execution_count": null,
   "id": "4faaabcd-cd05-43a0-a47d-1798f4e4f40b",
   "metadata": {},
   "outputs": [],
   "source": [
    "# 나무맵 : 항목별 5개씩\n",
    "rastaurant = pd.read_excel(\"./data/음식점 모음.xlsx\", sheet_name=\"Sheet1\")\n",
    "rastaurant = rastaurant.head(5)\n",
    "temp = pd.DataFrame()\n",
    "연예인 = [\"이영자\", \"백종원\", \"성시경\", \"신동엽\", \"최자\", \"비(정지훈)\", \"문세윤\", \"김준현\"]\n",
    "유튜버 = [\"더들리\", \"츄릅켠\"]\n",
    "방송프로그램 = [\"수요미식회\", \"생생정보통\", \"전참시\", \"생활의 달인\", \"6시 내 고향\", \"골목식당\", \"생방송 오늘 저녁\", \"모닝 와이드\", \"맛있는 녀석들\", \"생방송 투데이\"]\n",
    "names = 연예인 + 유튜버 + 방송프로그램\n",
    "for name in names:\n",
    "    for i in range(len(rastaurant[name])):\n",
    "        mask = (data[\"resource\"] == name) & (data[\"restaurant\"] == rastaurant[name][i])\n",
    "        temp = temp.append(data.loc[mask].head(1))\n",
    "# 라벨 구하기\n",
    "temp.loc[temp[\"blogTotal\"] <= 20000,\"restaurant\"] = \"\"\n",
    "# 그래프 그리기\n",
    "plt.figure(figsize=(16,8))\n",
    "# # 색 지정하기\n",
    "# # Create a dataset:\n",
    "# my_values=[i**3 for i in range(1,100)]\n",
    "#  # create a color palette, mapped to these values\n",
    "# cmap = matplotlib.cm.Blues\n",
    "# mini=min(my_values)\n",
    "# maxi=max(my_values)\n",
    "# norm = matplotlib.colors.Normalize(vmin=mini, vmax=maxi)\n",
    "# colors = [cmap(norm(value)) for value in my_values]\n",
    "# squarify.plot(sizes=temp[\"blogTotal\"], label = temp[\"restaurant\"], alpha=0.6, color=colors)\n",
    "# 그래프 그리기\n",
    "squarify.plot(sizes=temp[\"blogTotal\"], label = temp[\"restaurant\"], alpha=0.6)\n",
    "plt.axis('off')\n",
    "plt.savefig('./output/naver/treemap_naver.png', transparent = True)\n",
    "plt.show()"
   ]
  },
  {
   "cell_type": "markdown",
   "id": "7a2e6cb9-a35e-493d-8b4d-a54039f1fbbc",
   "metadata": {},
   "source": [
    "## 3. 막대 그래프 그리기\n",
    "* file : power3(사람별 - 해당 미디어의 영향력) power3값을 평균 사람별로(방송별) 막대그래프 (x-20개 y-(-?, ?))\n",
    "* (사람별 - 영향력의 크기) reliability2값을 평균 사람별로(방송별) 막대그래프 (x-20개 y-(-?, ?))\n",
    "* (사람별 - 글을 작성할 확률) reliability값을 평균 사람별로(방송별) 막대그래프 (x-20개 y-(-?, ?))"
   ]
  },
  {
   "cell_type": "code",
   "execution_count": null,
   "id": "b738fe3b-0273-473e-a2fe-ea4011156729",
   "metadata": {},
   "outputs": [],
   "source": [
    "# 데이터 가져오기\n",
    "df1 = data.groupby(\"resource\").mean()\n",
    "# 자료 순서 맞추기\n",
    "연예인 = [\"이영자\", \"백종원\", \"성시경\", \"신동엽\", \"최자\", \"비(정지훈)\", \"문세윤\", \"김준현\"]\n",
    "유튜버 = [\"더들리\", \"츄릅켠\"]\n",
    "방송프로그램 = [\"수요미식회\", \"생생정보통\", \"전참시\", \"생활의 달인\", \"6시 내 고향\", \"골목식당\", \"생방송 오늘 저녁\", \"모닝 와이드\", \"맛있는 녀석들\", \"생방송 투데이\"]\n",
    "groups = 연예인 + 유튜버 + 방송프로그램\n",
    "temp = pd.DataFrame()\n",
    "for i, media in enumerate(groups):\n",
    "    temp = temp.append(df1.loc[df1.index == media])\n",
    "df1 = temp.copy()\n",
    "# display(df1)"
   ]
  },
  {
   "cell_type": "code",
   "execution_count": null,
   "id": "1bf75d24-29de-49e8-843f-0f55da958855",
   "metadata": {},
   "outputs": [],
   "source": [
    "# matplotlib\n",
    "plt.figure(figsize=(16,9))\n",
    "df1.resource_count.plot(kind='bar', color=my_colors)\n",
    "# 기준선\n",
    "plt.axvline(7.5, color='lightgray', linestyle='--', linewidth=2)\n",
    "plt.axvline(9.5, color='lightgray', linestyle='--', linewidth=2)\n",
    "# 구분 텍스트\n",
    "plt.text(3.75, df1[\"resource_count\"].max() * 0.80, \"연예인\",       \n",
    "         fontsize = 15, \n",
    "         color='lightgray',\n",
    "         horizontalalignment='center')\n",
    "plt.text(8.5, df1[\"resource_count\"].max() * 0.80, \"유튜버\",       \n",
    "         fontsize = 15, \n",
    "         color='lightgray',\n",
    "         horizontalalignment='center')\n",
    "plt.text(14.75, df1[\"resource_count\"].max() * 0.80, \"방송프로그램\",       \n",
    "         fontsize = 15, \n",
    "         color='lightgray',\n",
    "         horizontalalignment='center')\n",
    "plt.xticks(rotation=45)\n",
    "plt.xlabel(None)\n",
    "plt.ylabel(None)\n",
    "plt.subplots_adjust(bottom=0.2)\n",
    "plt.show()"
   ]
  },
  {
   "cell_type": "code",
   "execution_count": 33,
   "id": "c74ec1f7-a210-405d-acb8-19d74dc0d5c9",
   "metadata": {},
   "outputs": [
    {
     "name": "stderr",
     "output_type": "stream",
     "text": [
      "C:\\Users\\heee\\anaconda3\\envs\\bigdata\\lib\\site-packages\\seaborn\\_decorators.py:36: FutureWarning: Pass the following variables as keyword args: x, y. From version 0.12, the only valid positional argument will be `data`, and passing other arguments without an explicit keyword will result in an error or misinterpretation.\n",
      "  warnings.warn(\n"
     ]
    },
    {
     "data": {
      "image/png": "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\n",
      "text/plain": [
       "<Figure size 2160x720 with 1 Axes>"
      ]
     },
     "metadata": {
      "needs_background": "light"
     },
     "output_type": "display_data"
    }
   ],
   "source": [
    "# seaborn\n",
    "plt.rc('font', size=25)\n",
    "plt.figure(figsize=(30,10))\n",
    "sns.barplot(df1.index, df1.resource_count, palette=my_colors, alpha  = 0.8)\n",
    "# 기준선\n",
    "plt.axvline(7.5, color='gray', linestyle='--', linewidth=2)\n",
    "plt.axvline(9.5, color='gray', linestyle='--', linewidth=2)\n",
    "# 구분 텍스트\n",
    "plt.text(3.75, df1[\"resource_count\"].max() * 0.80, \"연예인\",       \n",
    "         fontsize = 25, \n",
    "         color='gray',\n",
    "         horizontalalignment='center')\n",
    "plt.text(8.5, df1[\"resource_count\"].max() * 0.80, \"유튜버\",       \n",
    "         fontsize = 25, \n",
    "         color='gray',\n",
    "         horizontalalignment='center')\n",
    "plt.text(14.75, df1[\"resource_count\"].max() * 0.80, \"방송프로그램\",       \n",
    "         fontsize = 25, \n",
    "         color='gray',\n",
    "         horizontalalignment='center')\n",
    "plt.xticks(rotation=45)\n",
    "plt.xlabel(None)\n",
    "plt.ylabel(None)\n",
    "plt.subplots_adjust(bottom=0.2)\n",
    "plt.savefig('./output/naver/countmeanbyperson_naver.png', transparent = True)\n",
    "plt.show()"
   ]
  },
  {
   "cell_type": "code",
   "execution_count": null,
   "id": "4f6e7a81-c49f-4172-b7e1-c8353732ad0b",
   "metadata": {},
   "outputs": [],
   "source": [
    "plt.figure(figsize=(30,10))\n",
    "\n",
    "x = df1.index\n",
    "y = df1.power3\n",
    "my_color = np.where(y>=0, 'skyblue', 'orange')\n",
    "plt.bar(x, y, color=my_color)\n",
    "\n",
    "for i, v in enumerate(x):\n",
    "    if df1.power3[i] > 0:\n",
    "        plt.text(v, y[i], round(df1.reliability[i], 2),       \n",
    "                 fontsize = 20, \n",
    "                 color='black',\n",
    "                 horizontalalignment='center',  \n",
    "                 verticalalignment='bottom') \n",
    "    else :\n",
    "        plt.text(v, y[i], round(df1.reliability[i], 2),       \n",
    "                 fontsize = 20, \n",
    "                 color='black',\n",
    "                 horizontalalignment='center',  \n",
    "                 verticalalignment='top')\n",
    "# 구분선\n",
    "plt.axvline(7.5, color='gray', linestyle='--', linewidth=2)\n",
    "plt.axvline(9.5, color='gray', linestyle='--', linewidth=2)\n",
    "# 구분 텍스트\n",
    "plt.text(3.75, 19 * 0.80, \"연예인\",       \n",
    "         fontsize = 25, \n",
    "         color='lightgray',\n",
    "         horizontalalignment='center')\n",
    "plt.text(8.5, 19 * 0.80, \"유튜버\",       \n",
    "         fontsize = 25, \n",
    "         color='lightgray',\n",
    "         horizontalalignment='center')\n",
    "plt.text(14.75, 19 * 0.80, \"방송프로그램\",       \n",
    "         fontsize = 25, \n",
    "         color='lightgray',\n",
    "         horizontalalignment='center')\n",
    "plt.ylim(-2,19)\n",
    "plt.xticks(rotation=45)\n",
    "plt.subplots_adjust(bottom=0.2)\n",
    "plt.savefig('./output/naver/powerBar_naver1.png', transparent = True)\n",
    "plt.show()"
   ]
  },
  {
   "cell_type": "markdown",
   "id": "6a23cfbe-6298-4d4f-ab35-bd313dd4734a",
   "metadata": {},
   "source": [
    "<br>\n",
    "\n",
    "## 4. 분산분석을 통하여 3개 이상의 집단 간에 차이가 존재하는지 분석하고자 함\n",
    "\n",
    "가설1 : 미디어에 따라 파급력의 차이가 있는가?  \n",
    "가설2 : 미디어에 따라 파급력을 미치는 크기에 차이가 있는가?  \n",
    "가설3 : 미디어에 따라 글을 작성할 확률에 차이가 있는가?\n",
    "\n",
    "<hr>\n",
    "\n",
    "분산분석(미디어별 - 해당 미디어의 영향력) power값  \n",
    "<p>분산분석(미디어별 - 영향력의 크기) reliability2값</p>\n",
    "<p>분산분석(미디어별 - 글을 작성할 확률) reliability값</p>"
   ]
  },
  {
   "cell_type": "code",
   "execution_count": null,
   "id": "67390ffe-2a77-4384-bd73-9b1caeb7fe81",
   "metadata": {},
   "outputs": [],
   "source": [
    "from scipy import stats\n",
    "from statsmodels.formula.api import ols\n",
    "from statsmodels.stats.anova import anova_lm\n",
    "\n",
    "x1 = data.groupby(\"group\").get_group('방송프로그램')\n",
    "x1 = x1.power3\n",
    "x2 = data.groupby(\"group\").get_group('유튜버')\n",
    "x2 = x2.power3\n",
    "x3 = data.groupby(\"group\").get_group('연예인')\n",
    "x3 = x3.power3"
   ]
  },
  {
   "cell_type": "code",
   "execution_count": null,
   "id": "f32a05f1-e38b-420b-8463-d1ece2dd301f",
   "metadata": {},
   "outputs": [],
   "source": [
    "# 등분산 검증\n",
    "print(stats.bartlett(x1,x2,x3),stats.levene(x1, x2, x3), sep=\"\\n\")\n",
    "\n",
    "# 정규성 검증\n",
    "print(stats.ks_2samp(x1, x2), stats.ks_2samp(x1, x3), stats.ks_2samp(x3, x2),  sep=\"\\n\")"
   ]
  },
  {
   "cell_type": "markdown",
   "id": "638efc27-aca8-465c-8128-b8d93a3ed656",
   "metadata": {},
   "source": [
    "#### 가설1 : 미디어에 따라 파급력의 차이가 있는가?"
   ]
  },
  {
   "cell_type": "code",
   "execution_count": null,
   "id": "fdc4b27d-42bf-4a30-9928-549fc8741c1d",
   "metadata": {},
   "outputs": [],
   "source": [
    "from statsmodels.formula.api import ols\n",
    "from statsmodels.stats.anova import anova_lm\n",
    "\n",
    "# 분산 분석\n",
    "\n",
    "model = ols(\"data['power3'] ~ data['group']\", data).fit()\n",
    "display(anova_lm(model))"
   ]
  },
  {
   "cell_type": "code",
   "execution_count": null,
   "id": "1a4de010-ef55-4150-a8bc-7b84ca54ad0d",
   "metadata": {},
   "outputs": [],
   "source": [
    "# 집단 간의 차이가 유의할 경우, 어느 집단 간에 차이가 나타나는지 보다 구체적으로 보기 위하여 '사후 분석'을 실시\n",
    "# 여기서는 봉페르니 방식의 교정과 Tukey HSD의 방법으로 사후분석\n",
    "from statsmodels.sandbox.stats.multicomp import MultiComparison\n",
    "import scipy.stats\n",
    "\n",
    "comp = MultiComparison(data['power3'], data['group'])\n",
    "result = comp.allpairtest(scipy.stats.ttest_ind, method='bonf') # 봉페르니\n",
    "print(result[0])\n",
    "\n",
    "#투키의 HSD - Tuckey's Honestly Significant Difference = \"진정으로 유의미한 차이\"\n",
    "from statsmodels.stats.multicomp import pairwise_tukeyhsd\n",
    "hsd = pairwise_tukeyhsd(data['power3'], data['group'], alpha=0.05)\n",
    "hsd.summary()"
   ]
  },
  {
   "cell_type": "code",
   "execution_count": null,
   "id": "9c7ba439-4d50-4739-acfa-8b730c016c5a",
   "metadata": {},
   "outputs": [],
   "source": [
    "# 집단에 따른 분산\n",
    "# df.boxplot(column = 'CNT', by = 'Ta_gubun', grid = False) : 간단히\n",
    "plot_sp= [x1, x2, x3]\n",
    "ax = plt.boxplot(plot_sp)\n",
    "plt.show()"
   ]
  },
  {
   "cell_type": "code",
   "execution_count": null,
   "id": "f9b34dcb-f827-4fc0-a731-2d2b6e43b804",
   "metadata": {},
   "outputs": [],
   "source": [
    "# 집단에 따른 분산\n",
    "# df.boxplot(column = 'CNT', by = 'Ta_gubun', grid = False) : 간단히\n",
    "fig = plt.figure(figsize=(14, 7))\n",
    "plt.subplot(1,2,1)\n",
    "sns.boxplot(x=data[\"group\"], y=data[\"power3\"], palette=my_colors2)\n",
    "plt.xlabel(None)\n",
    "plt.ylabel(None)\n",
    "plt.subplot(1,2,2)\n",
    "sns.swarmplot(x=\"group\",      #x축 변수\n",
    "              y=\"power3\",        #y축 변수\n",
    "              data=data,\n",
    "              palette=my_colors2)   #데이터셋 - 데이터프레임\n",
    "plt.xlabel(None)\n",
    "plt.ylabel(None)\n",
    "plt.savefig('./output/naver/ANOVA_naver1-2.png', transparent = True)\n",
    "plt.show()"
   ]
  },
  {
   "cell_type": "code",
   "execution_count": null,
   "id": "22f399f1-37b4-4930-a547-3892fe62ee0f",
   "metadata": {},
   "outputs": [],
   "source": [
    "x1 = data.groupby(\"group\").get_group('방송프로그램')\n",
    "x1 = x1.reliability\n",
    "x2 = data.groupby(\"group\").get_group('유튜버')\n",
    "x2 = x2.reliability\n",
    "x3 = data.groupby(\"group\").get_group('연예인')\n",
    "x3 = x3.reliability"
   ]
  },
  {
   "cell_type": "code",
   "execution_count": null,
   "id": "691de160-af02-4a3f-9914-47673cd8f5c8",
   "metadata": {},
   "outputs": [],
   "source": [
    "# 등분산 검증\n",
    "print(stats.bartlett(x1,x2,x3),stats.levene(x1, x2, x3), sep=\"\\n\")\n",
    "\n",
    "# 정규성 검증\n",
    "print(stats.ks_2samp(x1, x2), stats.ks_2samp(x1, x3), stats.ks_2samp(x3, x2),  sep=\"\\n\")"
   ]
  },
  {
   "cell_type": "markdown",
   "id": "be2025b9-93da-49cd-8360-3e9067ed198f",
   "metadata": {},
   "source": [
    "#### 가설2 : 미디어에 따라 파급력을 미치는 크기에 차이가 있는가?"
   ]
  },
  {
   "cell_type": "code",
   "execution_count": null,
   "id": "bffebfe5-6d01-4ab2-9a85-24819f263f7c",
   "metadata": {},
   "outputs": [],
   "source": [
    "model = ols(\"data['reliability'] ~ data['group']\", data).fit()\n",
    "anova_lm(model)"
   ]
  },
  {
   "cell_type": "code",
   "execution_count": null,
   "id": "166e9f22-1d49-48da-bebe-16af6fbb9099",
   "metadata": {},
   "outputs": [],
   "source": [
    "# 집단 간의 차이가 유의할 경우, 어느 집단 간에 차이가 나타나는지 보다 구체적으로 보기 위하여 '사후 분석'을 실시\n",
    "# 여기서는 봉페르니 방식의 교정과 Tukey HSD의 방법으로 사후분석\n",
    "from statsmodels.sandbox.stats.multicomp import MultiComparison\n",
    "import scipy.stats\n",
    "\n",
    "comp = MultiComparison(data['reliability'], data['group'])\n",
    "result = comp.allpairtest(scipy.stats.ttest_ind, method='bonf') # 봉페르니\n",
    "print(result[0])\n",
    "\n",
    "#투키의 HSD - Tuckey's Honestly Significant Difference = \"진정으로 유의미한 차이\"\n",
    "from statsmodels.stats.multicomp import pairwise_tukeyhsd\n",
    "hsd = pairwise_tukeyhsd(data['reliability'], data['group'], alpha=0.05)\n",
    "hsd.summary()"
   ]
  },
  {
   "cell_type": "code",
   "execution_count": null,
   "id": "1115be7b-e54e-4b8c-ade9-6e486a24d68d",
   "metadata": {},
   "outputs": [],
   "source": [
    "# 집단에 따른 분산\n",
    "\n",
    "# df.boxplot(column = 'CNT', by = 'Ta_gubun', grid = False) : 간단히\n",
    "plot_sp= [x1,x2, x3]\n",
    "\n",
    "ax = plt.boxplot(plot_sp)\n",
    "plt.savefig('./output/naver/ANOVA_naver2-1.png', transparent = True)\n",
    "plt.show()"
   ]
  },
  {
   "cell_type": "code",
   "execution_count": null,
   "id": "69626bb4-d077-46db-9473-5e9c9979ae47",
   "metadata": {
    "tags": []
   },
   "outputs": [],
   "source": [
    "# 집단에 따른 분산\n",
    "# df.boxplot(column = 'CNT', by = 'Ta_gubun', grid = False) : 간단히\n",
    "fig = plt.figure(figsize=(14, 7))\n",
    "plt.subplot(1,2,1)\n",
    "sns.boxplot(x=data[\"group\"], y=data[\"reliability\"], palette=my_colors2)\n",
    "plt.xlabel(None)\n",
    "plt.ylabel(None)\n",
    "plt.subplot(1,2,2)\n",
    "sns.swarmplot(x=\"group\",      #x축 변수\n",
    "              y=\"reliability\",        #y축 변수\n",
    "              data=data,\n",
    "              palette=my_colors2)   #데이터셋 - 데이터프레임\n",
    "plt.xlabel(None)\n",
    "plt.ylabel(None)\n",
    "plt.savefig('./output/naver/ANOVA_naver2-2.png', transparent = True)\n",
    "plt.show()"
   ]
  },
  {
   "cell_type": "code",
   "execution_count": null,
   "id": "25b11738-4fe7-41a1-b346-be7600511d80",
   "metadata": {},
   "outputs": [],
   "source": [
    "x1 = data.groupby(\"group\").get_group('방송프로그램')\n",
    "x1 = x1.reliability2\n",
    "x2 = data.groupby(\"group\").get_group('유튜버')\n",
    "x2 = x2.reliability2\n",
    "x3 = data.groupby(\"group\").get_group('연예인')\n",
    "x3 = x3.reliability2"
   ]
  },
  {
   "cell_type": "code",
   "execution_count": null,
   "id": "b6fd804e-7cf5-4f12-811c-d10dd005633b",
   "metadata": {},
   "outputs": [],
   "source": [
    "# 등분산 검증\n",
    "print(stats.bartlett(x1,x2,x3),stats.levene(x1, x2, x3), sep=\"\\n\")\n",
    "\n",
    "# 정규성 검증\n",
    "print(stats.ks_2samp(x1, x2), stats.ks_2samp(x1, x3), stats.ks_2samp(x3, x2),  sep=\"\\n\")"
   ]
  },
  {
   "cell_type": "markdown",
   "id": "3aa15f4b-b7e8-405d-b348-4d42a236c5c5",
   "metadata": {},
   "source": [
    "#### 가설3 : 미디어에 따라 글을 작성할 확률에 차이가 있는가?\n",
    "등분산 검증 결과\n",
    ": .05보다 크면 등분산을 이룬다고 볼 수 있고, 정규성을 이룬다고 볼 수 있음.\n",
    "\n",
    "<hr>\n",
    "bartlett의 검정 결과 p-value가 .05보다 커서, 등분산을 이룸\n",
    "하지만, x3의 pvalue 값이 .05보다 작아 정규성을 이루지 않음"
   ]
  },
  {
   "cell_type": "code",
   "execution_count": null,
   "id": "428ec022-b0e3-4199-ba24-ea3983f2341d",
   "metadata": {},
   "outputs": [],
   "source": [
    "model = ols(\"data['reliability2'] ~ data['group']\", data).fit()\n",
    "anova_lm(model)"
   ]
  },
  {
   "cell_type": "code",
   "execution_count": null,
   "id": "fc427a5a-5f21-4c91-961f-916c5a666f8a",
   "metadata": {},
   "outputs": [],
   "source": [
    "# 집단 간의 차이가 유의할 경우, 어느 집단 간에 차이가 나타나는지 보다 구체적으로 보기 위하여 '사후 분석'을 실시\n",
    "# 여기서는 봉페르니 방식의 교정과 Tukey HSD의 방법으로 사후분석\n",
    "from statsmodels.sandbox.stats.multicomp import MultiComparison\n",
    "import scipy.stats\n",
    "\n",
    "comp = MultiComparison(data['reliability2'], data['group'])\n",
    "result = comp.allpairtest(scipy.stats.ttest_ind, method='bonf') # 봉페르니\n",
    "print(result[0])\n",
    "\n",
    "#투키의 HSD - Tuckey's Honestly Significant Difference = \"진정으로 유의미한 차이\"\n",
    "from statsmodels.stats.multicomp import pairwise_tukeyhsd\n",
    "hsd = pairwise_tukeyhsd(data['reliability2'], data['group'], alpha=0.05)\n",
    "hsd.summary()"
   ]
  },
  {
   "cell_type": "code",
   "execution_count": null,
   "id": "a6902b25-8b2c-4a43-b33a-4e4057cf477e",
   "metadata": {},
   "outputs": [],
   "source": [
    "# 집단에 따른 분산\n",
    "\n",
    "# df.boxplot(column = 'CNT', by = 'Ta_gubun', grid = False) : 간단히\n",
    "plot_sp= [x1,x2, x3]\n",
    "\n",
    "ax = plt.boxplot(plot_sp)\n",
    "plt.savefig('./output/naver/ANOVA_naver3-1.png', transparent = True)\n",
    "plt.show()"
   ]
  },
  {
   "cell_type": "code",
   "execution_count": null,
   "id": "b509bb05-1800-433a-a9f0-0d9bdc4aa60f",
   "metadata": {},
   "outputs": [],
   "source": [
    "# 집단에 따른 분산\n",
    "# df.boxplot(column = 'CNT', by = 'Ta_gubun', grid = False) : 간단히\n",
    "fig = plt.figure(figsize=(14, 7))\n",
    "plt.subplot(1,2,1)\n",
    "sns.boxplot(x=data[\"group\"], y=data[\"reliability2\"], palette=my_colors2)\n",
    "plt.xlabel(None)\n",
    "plt.ylabel(None)\n",
    "plt.subplot(1,2,2)\n",
    "sns.swarmplot(x=\"group\",      #x축 변수\n",
    "              y=\"reliability2\",        #y축 변수\n",
    "              data=data,\n",
    "              palette=my_colors2)   #데이터셋 - 데이터프레임\n",
    "plt.xlabel(None)\n",
    "plt.ylabel(None)\n",
    "plt.savefig('./output/naver/ANOVA_naver3-2.png', transparent = True)\n",
    "plt.show()"
   ]
  },
  {
   "cell_type": "markdown",
   "id": "9db5a362-bc5c-4a98-8b6d-8becfaba00dd",
   "metadata": {},
   "source": [
    "#### 분석 결과 해석\n",
    ": Pr(>F)== p-value. \n",
    "<hr>  \n",
    "\n",
    "##### 가설1 : 미디어에 따라 파급력의 차이가 있는가?\n",
    "\n",
    "분산분석: p-value가 0.05보다 작으므로, 집단 간에 통계적으로 유의한 차이가 나타남\n",
    "사후분석: pval의 값이 0.05보다 낮으므로, 방송프로그램과 유튜버 간의 차이가 유의하여 주효과가 나타난다.\n",
    "\n",
    "##### 가설2 : 미디어에 따라 파급력을 미치는 크기에 차이가 있는가?\n",
    "\n",
    "분산분석: p-value가 부동소수로 표현 될만큼 낮은 숫자이고, 0.05보다 작으므로 집단 간에 통계적으로 유의한 차이가 나타남\n",
    "사후분석: pval의 값이 0.05보다 낮으므로, 방송프로그램과 연예인 간의 차이가 유의하여 주효과가 나타난다.\n",
    "##### 가설3 : 미디어에 따라 글을 작성할 확률에 차이가 있는가?\n",
    "\n",
    "분산분석: p-value가 부동소수로 표현 될만큼 낮은 숫자이고, 0.05보다 작으므로 집단 간에 통계적으로 유의한 차이가 나타남\n",
    "사후분석: pval의 값이 0.05보다 낮으므로, 방송프로그램과 연예인 간의 차이가 유의하여 주효과가 나타난다."
   ]
  },
  {
   "cell_type": "markdown",
   "id": "db9b9b69-da8d-4a80-baa3-36376583f017",
   "metadata": {},
   "source": [
    "### 5. 시계열 / 워드 클라우드(자주 사용하는 단어 찾기) 47- 하니칼국수 - 성시경 / 181-코카모메-츄릅켠 / 270-전참시-몽탄"
   ]
  },
  {
   "cell_type": "code",
   "execution_count": null,
   "id": "8222a118-e120-4955-b2a2-2cc60280fd44",
   "metadata": {},
   "outputs": [],
   "source": [
    "# 누적 히스토그램 + 히스토그램\n",
    "lists = [\"하니칼국수_성시경\", \"코카모메_츄릅켠\", \"몽탄_전참시\"]\n",
    "for item in lists:\n",
    "    file = \"./data/naver_blog/rowdata/\" + item + \".csv\"\n",
    "    temp = pd.read_csv(file)\n",
    "    temp.sort_values(by = \"postdate\", ascending=True, inplace=True)\n",
    "    temp.postdate = pd.to_datetime(temp['postdate'])\n",
    "    # 기간 나누기\n",
    "    # temp['period'] = temp['postdate'].dt.to_period(freq='M')  # 년-월\n",
    "    # 그래프 그리기\n",
    "    plt.figure(figsize=(10,6))\n",
    "    temp[\"test\"] = 1\n",
    "    plt.hist(temp[\"postdate\"], weights=temp[\"test\"], bins=10, cumulative = True, color=\"orange\")\n",
    "    plt.hist(temp[\"postdate\"], weights=temp[\"test\"], bins=10, cumulative = False, color=\"skyblue\")\n",
    "    plt.title(item + \" 시계열 그래프\")"
   ]
  },
  {
   "cell_type": "code",
   "execution_count": null,
   "id": "cb1e24a6-ecb2-4084-bd94-1690700303d2",
   "metadata": {},
   "outputs": [],
   "source": [
    "# 바그래프 + 라인그래프\n",
    "plt.rc('font', size=15)\n",
    "filelist = [\"가쯔렛_츄릅켠\", \"다연닭갈비_생활의 달인\", \"디라이프스타일키친 광화문점_생활의 달인\",\n",
    "             \"오죽이네_최자\", \"하니칼국수_성시경\", \"코카모메_츄릅켠\", \"몽탄_전참시\"]\n",
    "referenceDate = ['2099-12', '2099-12', \"2099-12\",\n",
    "                '2018-07', '2021-05', '2021-08', '2021-03']\n",
    "my_colors3 = [\"Greens\", \"Blues\", \"Blues\", \"RdPu\", \"RdPu\", \"Greens\", \"Blues\"]\n",
    "my_colors4 = [\"green\", \"royalblue\", \"royalblue\", \"purple\", \"purple\", \"green\", \"royalblue\"]\n",
    "for i in range(len(filelist)):\n",
    "    file = \"./data/naver_blog/rowdata/\" + filelist[i] + \".csv\"\n",
    "    temp = pd.read_csv(file)\n",
    "    temp.sort_values(by = \"postdate\", ascending=True, inplace=True)\n",
    "    temp.postdate = pd.to_datetime(temp['postdate'])\n",
    "    # 기간 나누기\n",
    "    temp['period'] = temp['postdate'].dt.to_period(freq='M')  # 년-월\n",
    "    # 기간별로 포스트 개수 세기\n",
    "    period_count = temp.groupby(\"period\").count()[[\"postdate\"]]\n",
    "    period_count.rename(columns = {\"postdate\": \"count\"}, inplace=True)\n",
    "    # 누적합 열 추가하기\n",
    "    period_count[\"cum\"] = period_count[[\"count\"]].cumsum()\n",
    "    # 그래프 그리기\n",
    "    plt.figure(figsize=(16,8))\n",
    "    # 그래프를 그리기 위한 형변환\n",
    "    period_count.index=period_count.index.to_series().astype(str)\n",
    "    # 라인그래프 그리기\n",
    "    plt.plot(period_count.index, period_count[\"cum\"], marker='o', color=my_colors4[i])\n",
    "    # 기준일 그리기\n",
    "    if referenceDate[i] == \"2099-12\":\n",
    "        plt.text(len(period_count) / 2, period_count[\"cum\"].max() * 0.95, \"게시물 없음\",       \n",
    "         fontsize = 15, \n",
    "         color='gray',\n",
    "         horizontalalignment='center') \n",
    "    else:\n",
    "        plt.axvline(referenceDate[i], color='gray', linestyle='--', linewidth=2)\n",
    "        plt.text(referenceDate[i], period_count[\"cum\"].max() * 0.95, \"기준선\",       \n",
    "                 fontsize = 15, \n",
    "                 color='gray',\n",
    "                 horizontalalignment='center') \n",
    "    # 바그래프 그리기\n",
    "    plt.bar(period_count.index, period_count[\"count\"], align='center', \n",
    "            color=sns.color_palette(my_colors3[i], len(period_count)))\n",
    "    plt.xticks(rotation=45)\n",
    "    plt.xlabel(None)\n",
    "    plt.ylabel(None)\n",
    "    if len(period_count) > 30 :\n",
    "        plt.xticks(period_count.index, [period_count.index[j] if (j % (len(period_count)//20)) == 1 else \"\" for j in range(len(period_count))])\n",
    "    plt.savefig('./output/naver/' + filelist[i] + ' 시계열 그래프_naver.png', transparent = True)\n",
    "    plt.show()"
   ]
  },
  {
   "cell_type": "markdown",
   "id": "060ad344-cfa8-4ad3-95af-5efa3042a4ad",
   "metadata": {},
   "source": [
    "# 문제모음"
   ]
  },
  {
   "cell_type": "markdown",
   "id": "ecb9274f-4ad6-44ea-923b-32dbd1054eb8",
   "metadata": {},
   "source": [
    "1. 인스턴스가 삭제가 안됩니다.\n",
    "2. 파일 데이터를 불러올때 몇몇의 파일을 읽어오지 못합니다.\n",
    "3. seaborn에서 한글 폰트를 인식하지 못합니다."
   ]
  },
  {
   "cell_type": "code",
   "execution_count": null,
   "id": "5a3baf27-ef5d-4303-9cb3-a1b5ce704fc0",
   "metadata": {},
   "outputs": [],
   "source": [
    "# 폰트설정2\n",
    "sns.set(font=\"Malgun Gothic\", \n",
    "        rc={\"axes.unicode_minus\":False},\n",
    "        style='darkgrid')\n",
    "\n",
    "# 폰트설정3\n",
    "jupyter notebook 내 그래프를 바로 그리기 위한 설정\n",
    "%matplotlib inline\n",
    "# unicode minus를 사용하지 않기 위한 설정 (minus 깨짐현상 방지)\n",
    "plt.rcParams['axes.unicode_minus'] = False\n",
    "plt.rcParams['font.family'] = 'Malgun Gothic'\n",
    "\n",
    "# 폰트설정4\n",
    "%matplotlib inline\n",
    "import platform\n",
    "path = './data/THEdog.ttf'\n",
    "from matplotlib import font_manager, rc\n",
    "\n",
    "if platform.system() == 'Darwin':\n",
    "    rc('font', family='AppleGothic')\n",
    "elif platform.system() == 'Windows':\n",
    "    font_name = font_manager.FontProperties(fname=path).get_name()\n",
    "    rc('font', family=font_name)\n",
    "else:\n",
    "    print('Unkonwn system... sorry~~~~')"
   ]
  }
 ],
 "metadata": {
  "kernelspec": {
   "display_name": "Python 3 (ipykernel)",
   "language": "python",
   "name": "python3"
  },
  "language_info": {
   "codemirror_mode": {
    "name": "ipython",
    "version": 3
   },
   "file_extension": ".py",
   "mimetype": "text/x-python",
   "name": "python",
   "nbconvert_exporter": "python",
   "pygments_lexer": "ipython3",
   "version": "3.8.11"
  }
 },
 "nbformat": 4,
 "nbformat_minor": 5
}
